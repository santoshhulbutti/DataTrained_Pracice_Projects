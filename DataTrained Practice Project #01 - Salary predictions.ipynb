{
 "cells": [
  {
   "cell_type": "markdown",
   "id": "bf3fbea9",
   "metadata": {},
   "source": [
    "## *santoshhulbutti@gmail.com | DataTrained | Practice Project # 01"
   ]
  },
  {
   "cell_type": "markdown",
   "id": "2fcf04d7",
   "metadata": {},
   "source": [
    "## *Salary Project*\n",
    "### Problem Statement: Predict the salary if the employee using the features provided in the data. "
   ]
  },
  {
   "cell_type": "code",
   "execution_count": 1,
   "id": "031b4f2d",
   "metadata": {},
   "outputs": [],
   "source": [
    "url = \"https://raw.githubusercontent.com/dsrscientist/dataset3/main/Salaries.csv\""
   ]
  },
  {
   "cell_type": "code",
   "execution_count": 2,
   "id": "409db91f",
   "metadata": {
    "scrolled": true
   },
   "outputs": [
    {
     "name": "stderr",
     "output_type": "stream",
     "text": [
      "C:\\Users\\santo\\anaconda3\\envs\\newpycaret_1\\lib\\site-packages\\pycaret\\loggers\\mlflow_logger.py:14: FutureWarning: MLflow support for Python 3.6 is deprecated and will be dropped in an upcoming release. At that point, existing Python 3.6 workflows that use MLflow will continue to work without modification, but Python 3.6 users will no longer get access to the latest MLflow features and bugfixes. We recommend that you upgrade to Python 3.7 or newer.\n",
      "  import mlflow\n"
     ]
    }
   ],
   "source": [
    "#importing the libraries\n",
    "import pandas as pd\n",
    "import numpy as np\n",
    "import matplotlib.pyplot as plt\n",
    "import seaborn as sns\n",
    "sns.set_style('darkgrid')\n",
    "%matplotlib inline\n",
    "\n",
    "pd.set_option('display.max_columns',None)\n",
    "pd.set_option('display.max_rows', None)\n",
    "\n",
    "import statsmodels.formula.api as smf\n",
    "\n",
    "import scipy.stats as stat\n",
    "import pylab \n",
    "\n",
    "from sklearn.svm import SVR\n",
    "import lightgbm as lgb\n",
    "from sklearn.ensemble import AdaBoostRegressor, GradientBoostingRegressor \n",
    "from sklearn.linear_model import LinearRegression, Ridge, BayesianRidge, Lars, HuberRegressor\n",
    "from sklearn.neighbors import KNeighborsRegressor\n",
    "\n",
    "\n",
    "from sklearn.preprocessing import PowerTransformer, StandardScaler\n",
    "\n",
    "from sklearn.model_selection import train_test_split, cross_val_score, KFold\n",
    "from sklearn.metrics import mean_squared_error, mean_absolute_error, r2_score\n",
    "\n",
    "from pycaret.regression import setup, compare_models"
   ]
  },
  {
   "cell_type": "code",
   "execution_count": 3,
   "id": "2f3fd319",
   "metadata": {},
   "outputs": [
    {
     "data": {
      "text/html": [
       "<div>\n",
       "<style scoped>\n",
       "    .dataframe tbody tr th:only-of-type {\n",
       "        vertical-align: middle;\n",
       "    }\n",
       "\n",
       "    .dataframe tbody tr th {\n",
       "        vertical-align: top;\n",
       "    }\n",
       "\n",
       "    .dataframe thead th {\n",
       "        text-align: right;\n",
       "    }\n",
       "</style>\n",
       "<table border=\"1\" class=\"dataframe\">\n",
       "  <thead>\n",
       "    <tr style=\"text-align: right;\">\n",
       "      <th></th>\n",
       "      <th>rank</th>\n",
       "      <th>discipline</th>\n",
       "      <th>yrs.since.phd</th>\n",
       "      <th>yrs.service</th>\n",
       "      <th>sex</th>\n",
       "      <th>salary</th>\n",
       "    </tr>\n",
       "  </thead>\n",
       "  <tbody>\n",
       "    <tr>\n",
       "      <th>0</th>\n",
       "      <td>Prof</td>\n",
       "      <td>B</td>\n",
       "      <td>19</td>\n",
       "      <td>18</td>\n",
       "      <td>Male</td>\n",
       "      <td>139750</td>\n",
       "    </tr>\n",
       "    <tr>\n",
       "      <th>1</th>\n",
       "      <td>Prof</td>\n",
       "      <td>B</td>\n",
       "      <td>20</td>\n",
       "      <td>16</td>\n",
       "      <td>Male</td>\n",
       "      <td>173200</td>\n",
       "    </tr>\n",
       "    <tr>\n",
       "      <th>2</th>\n",
       "      <td>AsstProf</td>\n",
       "      <td>B</td>\n",
       "      <td>4</td>\n",
       "      <td>3</td>\n",
       "      <td>Male</td>\n",
       "      <td>79750</td>\n",
       "    </tr>\n",
       "    <tr>\n",
       "      <th>3</th>\n",
       "      <td>Prof</td>\n",
       "      <td>B</td>\n",
       "      <td>45</td>\n",
       "      <td>39</td>\n",
       "      <td>Male</td>\n",
       "      <td>115000</td>\n",
       "    </tr>\n",
       "    <tr>\n",
       "      <th>4</th>\n",
       "      <td>Prof</td>\n",
       "      <td>B</td>\n",
       "      <td>40</td>\n",
       "      <td>41</td>\n",
       "      <td>Male</td>\n",
       "      <td>141500</td>\n",
       "    </tr>\n",
       "  </tbody>\n",
       "</table>\n",
       "</div>"
      ],
      "text/plain": [
       "       rank discipline  yrs.since.phd  yrs.service   sex  salary\n",
       "0      Prof          B             19           18  Male  139750\n",
       "1      Prof          B             20           16  Male  173200\n",
       "2  AsstProf          B              4            3  Male   79750\n",
       "3      Prof          B             45           39  Male  115000\n",
       "4      Prof          B             40           41  Male  141500"
      ]
     },
     "execution_count": 3,
     "metadata": {},
     "output_type": "execute_result"
    }
   ],
   "source": [
    "df0 = pd.read_csv(url)\n",
    "df0.head()"
   ]
  },
  {
   "cell_type": "code",
   "execution_count": 4,
   "id": "6c2e7aad",
   "metadata": {},
   "outputs": [
    {
     "data": {
      "text/html": [
       "<div>\n",
       "<style scoped>\n",
       "    .dataframe tbody tr th:only-of-type {\n",
       "        vertical-align: middle;\n",
       "    }\n",
       "\n",
       "    .dataframe tbody tr th {\n",
       "        vertical-align: top;\n",
       "    }\n",
       "\n",
       "    .dataframe thead th {\n",
       "        text-align: right;\n",
       "    }\n",
       "</style>\n",
       "<table border=\"1\" class=\"dataframe\">\n",
       "  <thead>\n",
       "    <tr style=\"text-align: right;\">\n",
       "      <th></th>\n",
       "      <th>yrs.since.phd</th>\n",
       "      <th>yrs.service</th>\n",
       "      <th>salary</th>\n",
       "    </tr>\n",
       "  </thead>\n",
       "  <tbody>\n",
       "    <tr>\n",
       "      <th>count</th>\n",
       "      <td>397.000000</td>\n",
       "      <td>397.000000</td>\n",
       "      <td>397.000000</td>\n",
       "    </tr>\n",
       "    <tr>\n",
       "      <th>mean</th>\n",
       "      <td>22.314861</td>\n",
       "      <td>17.614610</td>\n",
       "      <td>113706.458438</td>\n",
       "    </tr>\n",
       "    <tr>\n",
       "      <th>std</th>\n",
       "      <td>12.887003</td>\n",
       "      <td>13.006024</td>\n",
       "      <td>30289.038695</td>\n",
       "    </tr>\n",
       "    <tr>\n",
       "      <th>min</th>\n",
       "      <td>1.000000</td>\n",
       "      <td>0.000000</td>\n",
       "      <td>57800.000000</td>\n",
       "    </tr>\n",
       "    <tr>\n",
       "      <th>25%</th>\n",
       "      <td>12.000000</td>\n",
       "      <td>7.000000</td>\n",
       "      <td>91000.000000</td>\n",
       "    </tr>\n",
       "    <tr>\n",
       "      <th>50%</th>\n",
       "      <td>21.000000</td>\n",
       "      <td>16.000000</td>\n",
       "      <td>107300.000000</td>\n",
       "    </tr>\n",
       "    <tr>\n",
       "      <th>75%</th>\n",
       "      <td>32.000000</td>\n",
       "      <td>27.000000</td>\n",
       "      <td>134185.000000</td>\n",
       "    </tr>\n",
       "    <tr>\n",
       "      <th>max</th>\n",
       "      <td>56.000000</td>\n",
       "      <td>60.000000</td>\n",
       "      <td>231545.000000</td>\n",
       "    </tr>\n",
       "  </tbody>\n",
       "</table>\n",
       "</div>"
      ],
      "text/plain": [
       "       yrs.since.phd  yrs.service         salary\n",
       "count     397.000000   397.000000     397.000000\n",
       "mean       22.314861    17.614610  113706.458438\n",
       "std        12.887003    13.006024   30289.038695\n",
       "min         1.000000     0.000000   57800.000000\n",
       "25%        12.000000     7.000000   91000.000000\n",
       "50%        21.000000    16.000000  107300.000000\n",
       "75%        32.000000    27.000000  134185.000000\n",
       "max        56.000000    60.000000  231545.000000"
      ]
     },
     "execution_count": 4,
     "metadata": {},
     "output_type": "execute_result"
    }
   ],
   "source": [
    "df0.describe()"
   ]
  },
  {
   "cell_type": "code",
   "execution_count": 5,
   "id": "fb24ad07",
   "metadata": {},
   "outputs": [
    {
     "name": "stdout",
     "output_type": "stream",
     "text": [
      "<class 'pandas.core.frame.DataFrame'>\n",
      "RangeIndex: 397 entries, 0 to 396\n",
      "Data columns (total 6 columns):\n",
      " #   Column         Non-Null Count  Dtype \n",
      "---  ------         --------------  ----- \n",
      " 0   rank           397 non-null    object\n",
      " 1   discipline     397 non-null    object\n",
      " 2   yrs.since.phd  397 non-null    int64 \n",
      " 3   yrs.service    397 non-null    int64 \n",
      " 4   sex            397 non-null    object\n",
      " 5   salary         397 non-null    int64 \n",
      "dtypes: int64(3), object(3)\n",
      "memory usage: 18.7+ KB\n"
     ]
    }
   ],
   "source": [
    "df0.info()"
   ]
  },
  {
   "cell_type": "markdown",
   "id": "b274f796",
   "metadata": {},
   "source": [
    "##  Data Cleaning, filling null values if any."
   ]
  },
  {
   "cell_type": "code",
   "execution_count": 6,
   "id": "59b77be2",
   "metadata": {},
   "outputs": [],
   "source": [
    "df0.rename(columns={'yrs.since.phd': 'yrs_since_phd', 'yrs.service': 'yrs_service'}, inplace=True)"
   ]
  },
  {
   "cell_type": "code",
   "execution_count": 7,
   "id": "300f05f4",
   "metadata": {
    "scrolled": true
   },
   "outputs": [
    {
     "data": {
      "text/plain": [
       "0"
      ]
     },
     "execution_count": 7,
     "metadata": {},
     "output_type": "execute_result"
    }
   ],
   "source": [
    "df0.isna().sum().sum()"
   ]
  },
  {
   "cell_type": "code",
   "execution_count": 8,
   "id": "3a80c454",
   "metadata": {},
   "outputs": [],
   "source": [
    "## No missing Values"
   ]
  },
  {
   "cell_type": "code",
   "execution_count": 9,
   "id": "08281a41",
   "metadata": {},
   "outputs": [
    {
     "data": {
      "text/plain": [
       "Prof         266\n",
       "AsstProf      67\n",
       "AssocProf     64\n",
       "Name: rank, dtype: int64"
      ]
     },
     "execution_count": 9,
     "metadata": {},
     "output_type": "execute_result"
    }
   ],
   "source": [
    "df0['rank'].value_counts()"
   ]
  },
  {
   "cell_type": "code",
   "execution_count": 10,
   "id": "62e90205",
   "metadata": {},
   "outputs": [
    {
     "data": {
      "text/plain": [
       "B    216\n",
       "A    181\n",
       "Name: discipline, dtype: int64"
      ]
     },
     "execution_count": 10,
     "metadata": {},
     "output_type": "execute_result"
    }
   ],
   "source": [
    "df0['discipline'].value_counts()"
   ]
  },
  {
   "cell_type": "code",
   "execution_count": 11,
   "id": "b6ea157d",
   "metadata": {},
   "outputs": [
    {
     "data": {
      "text/plain": [
       "Male      358\n",
       "Female     39\n",
       "Name: sex, dtype: int64"
      ]
     },
     "execution_count": 11,
     "metadata": {},
     "output_type": "execute_result"
    }
   ],
   "source": [
    "df0['sex'].value_counts()"
   ]
  },
  {
   "cell_type": "code",
   "execution_count": 12,
   "id": "1c9943c1",
   "metadata": {},
   "outputs": [],
   "source": [
    "df1 = df0.copy()"
   ]
  },
  {
   "cell_type": "markdown",
   "id": "32c648ab",
   "metadata": {},
   "source": [
    "##  Encoding\n",
    "### ordinal encoding and pd.get dummies"
   ]
  },
  {
   "cell_type": "code",
   "execution_count": 13,
   "id": "be3a4c45",
   "metadata": {},
   "outputs": [],
   "source": [
    "rank_dict = {'AsstProf': 1, 'AssocProf': 2, 'Prof': 3}\n",
    "\n",
    "df1['rank'] = df1['rank'].map(rank_dict)"
   ]
  },
  {
   "cell_type": "code",
   "execution_count": 14,
   "id": "5101838d",
   "metadata": {},
   "outputs": [],
   "source": [
    "df1 = pd.get_dummies(df1, drop_first=True)"
   ]
  },
  {
   "cell_type": "code",
   "execution_count": 15,
   "id": "403da025",
   "metadata": {},
   "outputs": [],
   "source": [
    "df2 = df1.copy()"
   ]
  },
  {
   "cell_type": "code",
   "execution_count": 16,
   "id": "0da902d0",
   "metadata": {
    "scrolled": false
   },
   "outputs": [
    {
     "data": {
      "text/html": [
       "<div>\n",
       "<style scoped>\n",
       "    .dataframe tbody tr th:only-of-type {\n",
       "        vertical-align: middle;\n",
       "    }\n",
       "\n",
       "    .dataframe tbody tr th {\n",
       "        vertical-align: top;\n",
       "    }\n",
       "\n",
       "    .dataframe thead th {\n",
       "        text-align: right;\n",
       "    }\n",
       "</style>\n",
       "<table border=\"1\" class=\"dataframe\">\n",
       "  <thead>\n",
       "    <tr style=\"text-align: right;\">\n",
       "      <th></th>\n",
       "      <th>rank</th>\n",
       "      <th>yrs_since_phd</th>\n",
       "      <th>yrs_service</th>\n",
       "      <th>salary</th>\n",
       "      <th>discipline_B</th>\n",
       "      <th>sex_Male</th>\n",
       "    </tr>\n",
       "  </thead>\n",
       "  <tbody>\n",
       "    <tr>\n",
       "      <th>0</th>\n",
       "      <td>3</td>\n",
       "      <td>19</td>\n",
       "      <td>18</td>\n",
       "      <td>139750</td>\n",
       "      <td>1</td>\n",
       "      <td>1</td>\n",
       "    </tr>\n",
       "    <tr>\n",
       "      <th>1</th>\n",
       "      <td>3</td>\n",
       "      <td>20</td>\n",
       "      <td>16</td>\n",
       "      <td>173200</td>\n",
       "      <td>1</td>\n",
       "      <td>1</td>\n",
       "    </tr>\n",
       "    <tr>\n",
       "      <th>2</th>\n",
       "      <td>1</td>\n",
       "      <td>4</td>\n",
       "      <td>3</td>\n",
       "      <td>79750</td>\n",
       "      <td>1</td>\n",
       "      <td>1</td>\n",
       "    </tr>\n",
       "    <tr>\n",
       "      <th>3</th>\n",
       "      <td>3</td>\n",
       "      <td>45</td>\n",
       "      <td>39</td>\n",
       "      <td>115000</td>\n",
       "      <td>1</td>\n",
       "      <td>1</td>\n",
       "    </tr>\n",
       "    <tr>\n",
       "      <th>4</th>\n",
       "      <td>3</td>\n",
       "      <td>40</td>\n",
       "      <td>41</td>\n",
       "      <td>141500</td>\n",
       "      <td>1</td>\n",
       "      <td>1</td>\n",
       "    </tr>\n",
       "  </tbody>\n",
       "</table>\n",
       "</div>"
      ],
      "text/plain": [
       "   rank  yrs_since_phd  yrs_service  salary  discipline_B  sex_Male\n",
       "0     3             19           18  139750             1         1\n",
       "1     3             20           16  173200             1         1\n",
       "2     1              4            3   79750             1         1\n",
       "3     3             45           39  115000             1         1\n",
       "4     3             40           41  141500             1         1"
      ]
     },
     "execution_count": 16,
     "metadata": {},
     "output_type": "execute_result"
    }
   ],
   "source": [
    "df2.head()"
   ]
  },
  {
   "cell_type": "code",
   "execution_count": 17,
   "id": "180d9f79",
   "metadata": {},
   "outputs": [
    {
     "data": {
      "text/plain": [
       "(397, 6)"
      ]
     },
     "execution_count": 17,
     "metadata": {},
     "output_type": "execute_result"
    }
   ],
   "source": [
    "df2.shape"
   ]
  },
  {
   "cell_type": "code",
   "execution_count": 18,
   "id": "c84186dc",
   "metadata": {
    "scrolled": true
   },
   "outputs": [
    {
     "data": {
      "text/html": [
       "<div>\n",
       "<style scoped>\n",
       "    .dataframe tbody tr th:only-of-type {\n",
       "        vertical-align: middle;\n",
       "    }\n",
       "\n",
       "    .dataframe tbody tr th {\n",
       "        vertical-align: top;\n",
       "    }\n",
       "\n",
       "    .dataframe thead th {\n",
       "        text-align: right;\n",
       "    }\n",
       "</style>\n",
       "<table border=\"1\" class=\"dataframe\">\n",
       "  <thead>\n",
       "    <tr style=\"text-align: right;\">\n",
       "      <th></th>\n",
       "      <th>rank</th>\n",
       "      <th>yrs_since_phd</th>\n",
       "      <th>yrs_service</th>\n",
       "      <th>salary</th>\n",
       "      <th>discipline_B</th>\n",
       "      <th>sex_Male</th>\n",
       "    </tr>\n",
       "  </thead>\n",
       "  <tbody>\n",
       "    <tr>\n",
       "      <th>count</th>\n",
       "      <td>397.000000</td>\n",
       "      <td>397.000000</td>\n",
       "      <td>397.000000</td>\n",
       "      <td>397.000000</td>\n",
       "      <td>397.000000</td>\n",
       "      <td>397.000000</td>\n",
       "    </tr>\n",
       "    <tr>\n",
       "      <th>mean</th>\n",
       "      <td>2.501259</td>\n",
       "      <td>22.314861</td>\n",
       "      <td>17.614610</td>\n",
       "      <td>113706.458438</td>\n",
       "      <td>0.544081</td>\n",
       "      <td>0.901763</td>\n",
       "    </tr>\n",
       "    <tr>\n",
       "      <th>std</th>\n",
       "      <td>0.767472</td>\n",
       "      <td>12.887003</td>\n",
       "      <td>13.006024</td>\n",
       "      <td>30289.038695</td>\n",
       "      <td>0.498682</td>\n",
       "      <td>0.298010</td>\n",
       "    </tr>\n",
       "    <tr>\n",
       "      <th>min</th>\n",
       "      <td>1.000000</td>\n",
       "      <td>1.000000</td>\n",
       "      <td>0.000000</td>\n",
       "      <td>57800.000000</td>\n",
       "      <td>0.000000</td>\n",
       "      <td>0.000000</td>\n",
       "    </tr>\n",
       "    <tr>\n",
       "      <th>25%</th>\n",
       "      <td>2.000000</td>\n",
       "      <td>12.000000</td>\n",
       "      <td>7.000000</td>\n",
       "      <td>91000.000000</td>\n",
       "      <td>0.000000</td>\n",
       "      <td>1.000000</td>\n",
       "    </tr>\n",
       "    <tr>\n",
       "      <th>50%</th>\n",
       "      <td>3.000000</td>\n",
       "      <td>21.000000</td>\n",
       "      <td>16.000000</td>\n",
       "      <td>107300.000000</td>\n",
       "      <td>1.000000</td>\n",
       "      <td>1.000000</td>\n",
       "    </tr>\n",
       "    <tr>\n",
       "      <th>75%</th>\n",
       "      <td>3.000000</td>\n",
       "      <td>32.000000</td>\n",
       "      <td>27.000000</td>\n",
       "      <td>134185.000000</td>\n",
       "      <td>1.000000</td>\n",
       "      <td>1.000000</td>\n",
       "    </tr>\n",
       "    <tr>\n",
       "      <th>max</th>\n",
       "      <td>3.000000</td>\n",
       "      <td>56.000000</td>\n",
       "      <td>60.000000</td>\n",
       "      <td>231545.000000</td>\n",
       "      <td>1.000000</td>\n",
       "      <td>1.000000</td>\n",
       "    </tr>\n",
       "  </tbody>\n",
       "</table>\n",
       "</div>"
      ],
      "text/plain": [
       "             rank  yrs_since_phd  yrs_service         salary  discipline_B  \\\n",
       "count  397.000000     397.000000   397.000000     397.000000    397.000000   \n",
       "mean     2.501259      22.314861    17.614610  113706.458438      0.544081   \n",
       "std      0.767472      12.887003    13.006024   30289.038695      0.498682   \n",
       "min      1.000000       1.000000     0.000000   57800.000000      0.000000   \n",
       "25%      2.000000      12.000000     7.000000   91000.000000      0.000000   \n",
       "50%      3.000000      21.000000    16.000000  107300.000000      1.000000   \n",
       "75%      3.000000      32.000000    27.000000  134185.000000      1.000000   \n",
       "max      3.000000      56.000000    60.000000  231545.000000      1.000000   \n",
       "\n",
       "         sex_Male  \n",
       "count  397.000000  \n",
       "mean     0.901763  \n",
       "std      0.298010  \n",
       "min      0.000000  \n",
       "25%      1.000000  \n",
       "50%      1.000000  \n",
       "75%      1.000000  \n",
       "max      1.000000  "
      ]
     },
     "execution_count": 18,
     "metadata": {},
     "output_type": "execute_result"
    }
   ],
   "source": [
    "df2.describe()"
   ]
  },
  {
   "cell_type": "markdown",
   "id": "f92ba41a",
   "metadata": {},
   "source": [
    "# Initial predictions using linear models"
   ]
  },
  {
   "cell_type": "markdown",
   "id": "1b0dd0a3",
   "metadata": {},
   "source": [
    "## Using LinearRegression() & NO Standardisation"
   ]
  },
  {
   "cell_type": "code",
   "execution_count": 19,
   "id": "83d2cc93",
   "metadata": {},
   "outputs": [
    {
     "name": "stdout",
     "output_type": "stream",
     "text": [
      "r2 score :  0.6213076853231545\n",
      "MAE :  12978.266449141549\n",
      "MSE :  261241497.95150918\n",
      "SMSE :  16162.966867240346\n",
      "-----------\n",
      "-----------\n",
      "training score :  0.40840562786984513\n",
      "testing score :  0.6213076853231545\n"
     ]
    }
   ],
   "source": [
    "y = df2['salary']\n",
    "x = df2.drop(['salary'], axis=1)\n",
    "\n",
    "x_train, x_test, y_train, y_test = train_test_split(x, y, test_size=0.2, random_state=400)\n",
    "lin_reg = LinearRegression()\n",
    "\n",
    "\n",
    "lin_reg.fit(x_train, y_train)\n",
    "\n",
    "y_pred = lin_reg.predict(x_test)\n",
    "\n",
    "\n",
    "print('r2 score : ', r2_score(y_test, y_pred))\n",
    "print('MAE : ', mean_absolute_error(y_test, y_pred))\n",
    "print('MSE : ', mean_squared_error(y_test, y_pred))\n",
    "print('SMSE : ', np.sqrt(mean_squared_error(y_test, y_pred)))\n",
    "\n",
    "print(\"-----------\")\n",
    "print(\"-----------\")\n",
    "\n",
    "print('training score : ', lin_reg.score(x_train, y_train))\n",
    "print('testing score : ', lin_reg.score(x_test, y_test))"
   ]
  },
  {
   "cell_type": "markdown",
   "id": "8b7be569",
   "metadata": {},
   "source": [
    "## Using Ridge() & NO Standardisation"
   ]
  },
  {
   "cell_type": "code",
   "execution_count": 20,
   "id": "3727ec20",
   "metadata": {},
   "outputs": [
    {
     "name": "stdout",
     "output_type": "stream",
     "text": [
      "r2 score :  0.620696406875483\n",
      "MAE :  12992.958012425177\n",
      "MSE :  261663189.36468568\n",
      "SMSE :  16176.00659509898\n",
      "-----------\n",
      "-----------\n",
      "training score :  0.4083772218315569\n",
      "testing score :  0.620696406875483\n"
     ]
    }
   ],
   "source": [
    "y = df2['salary']\n",
    "x = df2.drop(['salary'], axis=1)\n",
    "\n",
    "x_train, x_test, y_train, y_test = train_test_split(x, y, test_size=0.2, random_state=400)\n",
    "lin_reg = Ridge()\n",
    "\n",
    "\n",
    "lin_reg.fit(x_train, y_train)\n",
    "\n",
    "y_pred = lin_reg.predict(x_test)\n",
    "\n",
    "\n",
    "print('r2 score : ', r2_score(y_test, y_pred))\n",
    "print('MAE : ', mean_absolute_error(y_test, y_pred))\n",
    "print('MSE : ', mean_squared_error(y_test, y_pred))\n",
    "print('SMSE : ', np.sqrt(mean_squared_error(y_test, y_pred)))\n",
    "\n",
    "\n",
    "print(\"-----------\")\n",
    "print(\"-----------\")\n",
    "\n",
    "print('training score : ', lin_reg.score(x_train, y_train))\n",
    "print('testing score : ', lin_reg.score(x_test, y_test))"
   ]
  },
  {
   "cell_type": "markdown",
   "id": "1bdbc685",
   "metadata": {},
   "source": [
    "## Using BayesianRidge() & NO Standardisation"
   ]
  },
  {
   "cell_type": "code",
   "execution_count": 21,
   "id": "bcd3a501",
   "metadata": {},
   "outputs": [
    {
     "name": "stdout",
     "output_type": "stream",
     "text": [
      "r2 score :  0.6184709618467635\n",
      "MAE :  13035.379077093017\n",
      "MSE :  263198416.17119622\n",
      "SMSE :  16223.391019487764\n",
      "-----------\n",
      "-----------\n",
      "training score :  0.40799514366765954\n",
      "testing score :  0.6184709618467635\n"
     ]
    }
   ],
   "source": [
    "y = df2['salary']\n",
    "x = df2.drop(['salary'], axis=1)\n",
    "\n",
    "x_train, x_test, y_train, y_test = train_test_split(x, y, test_size=0.2, random_state=400)\n",
    "lin_reg = BayesianRidge()\n",
    "\n",
    "\n",
    "lin_reg.fit(x_train, y_train)\n",
    "\n",
    "y_pred = lin_reg.predict(x_test)\n",
    "\n",
    "\n",
    "print('r2 score : ', r2_score(y_test, y_pred))\n",
    "print('MAE : ', mean_absolute_error(y_test, y_pred))\n",
    "print('MSE : ', mean_squared_error(y_test, y_pred))\n",
    "print('SMSE : ', np.sqrt(mean_squared_error(y_test, y_pred)))\n",
    "\n",
    "\n",
    "print(\"-----------\")\n",
    "print(\"-----------\")\n",
    "\n",
    "print('training score : ', lin_reg.score(x_train, y_train))\n",
    "print('testing score : ', lin_reg.score(x_test, y_test))"
   ]
  },
  {
   "cell_type": "markdown",
   "id": "d9cad901",
   "metadata": {},
   "source": [
    "## checking tha data distribution.."
   ]
  },
  {
   "cell_type": "code",
   "execution_count": 22,
   "id": "f59a47ce",
   "metadata": {
    "scrolled": false
   },
   "outputs": [
    {
     "name": "stdout",
     "output_type": "stream",
     "text": [
      "0.29974153157458827\n"
     ]
    },
    {
     "data": {
      "text/plain": [
       "<AxesSubplot:ylabel='Frequency'>"
      ]
     },
     "execution_count": 22,
     "metadata": {},
     "output_type": "execute_result"
    },
    {
     "data": {
      "image/png": "[encoded data removed]",
      "text/plain": [
       "<Figure size 576x396 with 1 Axes>"
      ]
     },
     "metadata": {},
     "output_type": "display_data"
    }
   ],
   "source": [
    "print(stat.skew(df2['yrs_since_phd']))\n",
    "df2['yrs_since_phd'].plot(kind=\"hist\")"
   ]
  },
  {
   "cell_type": "code",
   "execution_count": 23,
   "id": "90d02e48",
   "metadata": {
    "scrolled": false
   },
   "outputs": [
    {
     "name": "stdout",
     "output_type": "stream",
     "text": [
      "0.6481088240680348\n"
     ]
    },
    {
     "data": {
      "text/plain": [
       "<AxesSubplot:ylabel='Frequency'>"
      ]
     },
     "execution_count": 23,
     "metadata": {},
     "output_type": "execute_result"
    },
    {
     "data": {
      "image/png": "[encoded data removed]",
      "text/plain": [
       "<Figure size 576x396 with 1 Axes>"
      ]
     },
     "metadata": {},
     "output_type": "display_data"
    }
   ],
   "source": [
    "print(stat.skew(df2['yrs_service']))\n",
    "df2['yrs_service'].plot(kind=\"hist\")"
   ]
  },
  {
   "cell_type": "code",
   "execution_count": 24,
   "id": "6427ed19",
   "metadata": {},
   "outputs": [
    {
     "name": "stdout",
     "output_type": "stream",
     "text": [
      "0.7118657337591157\n"
     ]
    },
    {
     "data": {
      "text/plain": [
       "<AxesSubplot:ylabel='Frequency'>"
      ]
     },
     "execution_count": 24,
     "metadata": {},
     "output_type": "execute_result"
    },
    {
     "data": {
      "image/png": "[encoded data removed]",
      "text/plain": [
       "<Figure size 576x396 with 1 Axes>"
      ]
     },
     "metadata": {},
     "output_type": "display_data"
    }
   ],
   "source": [
    "print(stat.skew(df2['salary']))\n",
    "df2['salary'].plot(kind=\"hist\")"
   ]
  },
  {
   "cell_type": "code",
   "execution_count": 25,
   "id": "9722d07e",
   "metadata": {},
   "outputs": [
    {
     "data": {
      "text/plain": [
       "<AxesSubplot:xlabel='sex_Male', ylabel='salary'>"
      ]
     },
     "execution_count": 25,
     "metadata": {},
     "output_type": "execute_result"
    },
    {
     "data": {
      "image/png": "[encoded data removed]",
      "text/plain": [
       "<Figure size 1296x432 with 3 Axes>"
      ]
     },
     "metadata": {},
     "output_type": "display_data"
    }
   ],
   "source": [
    "fig, axes = plt.subplots(1, 3, figsize=(18, 6))\n",
    "fig.suptitle('Data Distribution')\n",
    "\n",
    "sns.stripplot(ax=axes[0], x=df2['rank'], y = df2['salary'])\n",
    "sns.stripplot(ax=axes[1], x=df2['discipline_B'], y = df2['salary'])\n",
    "sns.stripplot(ax=axes[2], x=df2['sex_Male'], y = df2['salary'])"
   ]
  },
  {
   "cell_type": "code",
   "execution_count": 26,
   "id": "ff7062c4",
   "metadata": {},
   "outputs": [
    {
     "data": {
      "text/plain": [
       "<AxesSubplot:xlabel='yrs_since_phd', ylabel='salary'>"
      ]
     },
     "execution_count": 26,
     "metadata": {},
     "output_type": "execute_result"
    },
    {
     "data": {
      "image/png": "[encoded data removed]",
      "text/plain": [
       "<Figure size 576x396 with 1 Axes>"
      ]
     },
     "metadata": {},
     "output_type": "display_data"
    }
   ],
   "source": [
    "sns.scatterplot(data = df2, x='yrs_since_phd', y='salary')"
   ]
  },
  {
   "cell_type": "code",
   "execution_count": 27,
   "id": "372c0f18",
   "metadata": {},
   "outputs": [
    {
     "data": {
      "text/plain": [
       "<AxesSubplot:xlabel='yrs_service', ylabel='salary'>"
      ]
     },
     "execution_count": 27,
     "metadata": {},
     "output_type": "execute_result"
    },
    {
     "data": {
      "image/png": "[encoded data removed]",
      "text/plain": [
       "<Figure size 576x396 with 1 Axes>"
      ]
     },
     "metadata": {},
     "output_type": "display_data"
    }
   ],
   "source": [
    "sns.scatterplot(data = df2, x='yrs_service', y='salary')"
   ]
  },
  {
   "cell_type": "code",
   "execution_count": 28,
   "id": "d92eb8d5",
   "metadata": {},
   "outputs": [
    {
     "data": {
      "text/plain": [
       "<AxesSubplot:>"
      ]
     },
     "execution_count": 28,
     "metadata": {},
     "output_type": "execute_result"
    },
    {
     "data": {
      "image/png": "[encoded data removed]",
      "text/plain": [
       "<Figure size 576x396 with 2 Axes>"
      ]
     },
     "metadata": {},
     "output_type": "display_data"
    }
   ],
   "source": [
    "# checking correlation with salary\n",
    "sns.heatmap(df2.corr(), annot=True)"
   ]
  },
  {
   "cell_type": "code",
   "execution_count": 29,
   "id": "0d0460e8",
   "metadata": {},
   "outputs": [
    {
     "name": "stdout",
     "output_type": "stream",
     "text": [
      "r2 score :  0.5275527310985958\n",
      "MAE :  14964.54399636577\n",
      "MSE :  325918502.8252404\n",
      "SMSE :  18053.213088678713\n",
      "-----------\n",
      "-----------\n",
      "training score :  0.3626201113364623\n",
      "testing score :  0.5275527310985958\n"
     ]
    }
   ],
   "source": [
    "## removing 'discipline column'\n",
    "y = df2['salary']\n",
    "x = df2.drop(['salary', 'discipline_B'], axis=1)\n",
    "\n",
    "x_train, x_test, y_train, y_test = train_test_split(x, y, test_size=0.2, random_state=400)\n",
    "lin_reg = Ridge()\n",
    "\n",
    "\n",
    "lin_reg.fit(x_train, y_train)\n",
    "\n",
    "y_pred = lin_reg.predict(x_test)\n",
    "\n",
    "\n",
    "print('r2 score : ', r2_score(y_test, y_pred))\n",
    "print('MAE : ', mean_absolute_error(y_test, y_pred))\n",
    "print('MSE : ', mean_squared_error(y_test, y_pred))\n",
    "print('SMSE : ', np.sqrt(mean_squared_error(y_test, y_pred)))\n",
    "\n",
    "\n",
    "print(\"-----------\")\n",
    "print(\"-----------\")\n",
    "\n",
    "print('training score : ', lin_reg.score(x_train, y_train))\n",
    "print('testing score : ', lin_reg.score(x_test, y_test))"
   ]
  },
  {
   "cell_type": "markdown",
   "id": "829a402f",
   "metadata": {},
   "source": [
    "## from above it is observed that even if the 'discipline column' has very low corelation with salary - label, it has some affect on predictions, hence we cannot discard the discipline column."
   ]
  },
  {
   "cell_type": "markdown",
   "id": "1297865f",
   "metadata": {},
   "source": [
    "## to improve predictions, lets use standardscaler/powertransformation"
   ]
  },
  {
   "cell_type": "markdown",
   "id": "2d4dc072",
   "metadata": {},
   "source": [
    "## Using BayesianRidge(),  applying StandardScaler() on features & log transformation on target"
   ]
  },
  {
   "cell_type": "code",
   "execution_count": 30,
   "id": "5eb38458",
   "metadata": {
    "scrolled": true
   },
   "outputs": [
    {
     "name": "stdout",
     "output_type": "stream",
     "text": [
      "r2 score :  0.6378994930583135\n",
      "MAE :  12608.444064307132\n",
      "MSE :  249795612.8926714\n",
      "SMSE :  15804.923691453603\n",
      "-----------\n",
      "-----------\n",
      "training score :  0.4767213183648854\n",
      "testing score :  0.6921097126028205\n"
     ]
    }
   ],
   "source": [
    "y = df2['salary']\n",
    "x = df2.drop(['salary'], axis=1)\n",
    "\n",
    "scaler = StandardScaler()\n",
    "x1 = scaler.fit_transform(x)\n",
    "X = pd.DataFrame(x1, index = x.index, columns = x.columns)\n",
    "Y = np.log(y)\n",
    "\n",
    "\n",
    "\n",
    "x_train, x_test, y_train, y_test = train_test_split(X, Y, test_size=0.2, random_state=400)\n",
    "lin_reg = BayesianRidge()\n",
    "\n",
    "\n",
    "lin_reg.fit(x_train, y_train)\n",
    "\n",
    "y_pred = np.exp(lin_reg.predict(x_test))\n",
    "\n",
    "\n",
    "print('r2 score : ', r2_score(np.exp(y_test), y_pred))\n",
    "print('MAE : ', mean_absolute_error(np.exp(y_test), y_pred))\n",
    "print('MSE : ', mean_squared_error(np.exp(y_test), y_pred))\n",
    "print('SMSE : ', np.sqrt(mean_squared_error(np.exp(y_test), y_pred)))\n",
    "\n",
    "\n",
    "print(\"-----------\")\n",
    "print(\"-----------\")\n",
    "\n",
    "print('training score : ', lin_reg.score(x_train, y_train))\n",
    "print('testing score : ', lin_reg.score(x_test, y_test))"
   ]
  },
  {
   "cell_type": "markdown",
   "id": "a326dee7",
   "metadata": {},
   "source": [
    "## Using LinearRegression(), applying StandardScaler()  on features & log transformation on target"
   ]
  },
  {
   "cell_type": "code",
   "execution_count": 31,
   "id": "e9fbafc6",
   "metadata": {},
   "outputs": [
    {
     "name": "stdout",
     "output_type": "stream",
     "text": [
      "r2 score :  0.6410659115256696\n",
      "MAE :  12509.595242026076\n",
      "MSE :  247611254.0570311\n",
      "SMSE :  15735.668211329035\n",
      "-----------\n",
      "-----------\n",
      "training score :  0.4769731361936823\n",
      "testing score :  0.6950243683056851\n"
     ]
    }
   ],
   "source": [
    "y = df2['salary']\n",
    "x = df2.drop(['salary'], axis=1)\n",
    "\n",
    "scaler = StandardScaler()\n",
    "x1 = scaler.fit_transform(x)\n",
    "X = pd.DataFrame(x1, index = x.index, columns = x.columns)\n",
    "Y = np.log(y)\n",
    "\n",
    "\n",
    "\n",
    "x_train, x_test, y_train, y_test = train_test_split(X, Y, test_size=0.2, random_state=400)\n",
    "lin_reg = LinearRegression()\n",
    "\n",
    "\n",
    "lin_reg.fit(x_train, y_train)\n",
    "\n",
    "y_pred = np.exp(lin_reg.predict(x_test))\n",
    "\n",
    "\n",
    "print('r2 score : ', r2_score(np.exp(y_test), y_pred))\n",
    "print('MAE : ', mean_absolute_error(np.exp(y_test), y_pred))\n",
    "print('MSE : ', mean_squared_error(np.exp(y_test), y_pred))\n",
    "print('SMSE : ', np.sqrt(mean_squared_error(np.exp(y_test), y_pred)))\n",
    "\n",
    "\n",
    "\n",
    "print(\"-----------\")\n",
    "print(\"-----------\")\n",
    "\n",
    "print('training score : ', lin_reg.score(x_train, y_train))\n",
    "print('testing score : ', lin_reg.score(x_test, y_test))"
   ]
  },
  {
   "cell_type": "markdown",
   "id": "64a0ac05",
   "metadata": {},
   "source": [
    "## Using LinearRegression(), applying PowerTransformer()  on features & log transformation on target"
   ]
  },
  {
   "cell_type": "code",
   "execution_count": 32,
   "id": "873c61d0",
   "metadata": {},
   "outputs": [
    {
     "name": "stdout",
     "output_type": "stream",
     "text": [
      "r2 score :  0.6339750435177522\n",
      "MAE :  12677.113025791035\n",
      "MSE :  252502900.67453784\n",
      "SMSE :  15890.339853965927\n",
      "-----------\n",
      "-----------\n",
      "training score :  0.4811740510675492\n",
      "testing score :  0.6893069542962846\n"
     ]
    }
   ],
   "source": [
    "y = df2['salary']\n",
    "x = df2.drop(['salary'], axis=1)\n",
    "\n",
    "scaler = PowerTransformer()\n",
    "x1 = scaler.fit_transform(x)\n",
    "X = pd.DataFrame(x1, index = x.index, columns = x.columns)\n",
    "Y = np.log(y)\n",
    "\n",
    "\n",
    "\n",
    "x_train, x_test, y_train, y_test = train_test_split(X, Y, test_size=0.2, random_state=400)\n",
    "lin_reg = LinearRegression()\n",
    "\n",
    "\n",
    "lin_reg.fit(x_train, y_train)\n",
    "\n",
    "y_pred = np.exp(lin_reg.predict(x_test))\n",
    "\n",
    "\n",
    "print('r2 score : ', r2_score(np.exp(y_test), y_pred))\n",
    "print('MAE : ', mean_absolute_error(np.exp(y_test), y_pred))\n",
    "print('MSE : ', mean_squared_error(np.exp(y_test), y_pred))\n",
    "print('SMSE : ', np.sqrt(mean_squared_error(np.exp(y_test), y_pred)))\n",
    "\n",
    "\n",
    "print(\"-----------\")\n",
    "print(\"-----------\")\n",
    "\n",
    "print('training score : ', lin_reg.score(x_train, y_train))\n",
    "print('testing score : ', lin_reg.score(x_test, y_test))"
   ]
  },
  {
   "cell_type": "markdown",
   "id": "2e6f4feb",
   "metadata": {},
   "source": [
    "## Based on above iterations we found that, Using LinearRegression() model & applying PowerTransformer() on the feature & log transformation on target, yeild a r2_score of 63.4% which is highest in all the iterarations done."
   ]
  },
  {
   "cell_type": "code",
   "execution_count": 33,
   "id": "c6be1356",
   "metadata": {
    "scrolled": false
   },
   "outputs": [
    {
     "data": {
      "text/plain": [
       "<AxesSubplot:>"
      ]
     },
     "execution_count": 33,
     "metadata": {},
     "output_type": "execute_result"
    },
    {
     "data": {
      "image/png": "[encoded data removed]",
      "text/plain": [
       "<Figure size 576x396 with 2 Axes>"
      ]
     },
     "metadata": {},
     "output_type": "display_data"
    }
   ],
   "source": [
    "for_corr = pd.concat([X, Y], axis = 1)\n",
    "sns.heatmap(for_corr.corr(), annot=True)"
   ]
  },
  {
   "cell_type": "markdown",
   "id": "f557de2d",
   "metadata": {},
   "source": [
    "## removing sex column.. & studying impact on the predictions.."
   ]
  },
  {
   "cell_type": "code",
   "execution_count": 34,
   "id": "67ae30de",
   "metadata": {},
   "outputs": [
    {
     "name": "stdout",
     "output_type": "stream",
     "text": [
      "r2 score :  0.6315704849856725\n",
      "MAE :  12874.521081868146\n",
      "MSE :  254161689.2173384\n",
      "SMSE :  15942.449285393333\n",
      "-----------\n",
      "-----------\n",
      "training score :  0.4786741972398181\n",
      "testing score :  0.6877452610728796\n"
     ]
    }
   ],
   "source": [
    "y = df2['salary']\n",
    "x = df2.drop(['salary', 'sex_Male'], axis=1)\n",
    "\n",
    "scaler = PowerTransformer()\n",
    "x1 = scaler.fit_transform(x)\n",
    "X = pd.DataFrame(x1, index = x.index, columns = x.columns)\n",
    "Y = np.log(y)\n",
    "\n",
    "\n",
    "\n",
    "x_train, x_test, y_train, y_test = train_test_split(X, Y, test_size=0.2, random_state=400)\n",
    "lin_reg = LinearRegression()\n",
    "\n",
    "\n",
    "lin_reg.fit(x_train, y_train)\n",
    "\n",
    "y_pred = np.exp(lin_reg.predict(x_test))\n",
    "\n",
    "\n",
    "print('r2 score : ', r2_score(np.exp(y_test), y_pred))\n",
    "print('MAE : ', mean_absolute_error(np.exp(y_test), y_pred))\n",
    "print('MSE : ', mean_squared_error(np.exp(y_test), y_pred))\n",
    "print('SMSE : ', np.sqrt(mean_squared_error(np.exp(y_test), y_pred)))\n",
    "\n",
    "\n",
    "print(\"-----------\")\n",
    "print(\"-----------\")\n",
    "\n",
    "print('training score : ', lin_reg.score(x_train, y_train))\n",
    "print('testing score : ', lin_reg.score(x_test, y_test))"
   ]
  },
  {
   "cell_type": "markdown",
   "id": "2234573d",
   "metadata": {},
   "source": [
    "## Checking distribution after transformation.."
   ]
  },
  {
   "cell_type": "code",
   "execution_count": 35,
   "id": "2ca063eb",
   "metadata": {},
   "outputs": [
    {
     "name": "stdout",
     "output_type": "stream",
     "text": [
      "-0.1322553119071545\n"
     ]
    },
    {
     "data": {
      "text/plain": [
       "<AxesSubplot:ylabel='Frequency'>"
      ]
     },
     "execution_count": 35,
     "metadata": {},
     "output_type": "execute_result"
    },
    {
     "data": {
      "image/png": "[encoded data removed]",
      "text/plain": [
       "<Figure size 576x396 with 1 Axes>"
      ]
     },
     "metadata": {},
     "output_type": "display_data"
    }
   ],
   "source": [
    "print(stat.skew(X['yrs_since_phd']))\n",
    "X['yrs_since_phd'].plot(kind=\"hist\")"
   ]
  },
  {
   "cell_type": "code",
   "execution_count": 36,
   "id": "300d45dd",
   "metadata": {
    "scrolled": false
   },
   "outputs": [
    {
     "name": "stdout",
     "output_type": "stream",
     "text": [
      "-0.1216894934107749\n"
     ]
    },
    {
     "data": {
      "text/plain": [
       "<AxesSubplot:ylabel='Frequency'>"
      ]
     },
     "execution_count": 36,
     "metadata": {},
     "output_type": "execute_result"
    },
    {
     "data": {
      "image/png": "[encoded data removed]",
      "text/plain": [
       "<Figure size 576x396 with 1 Axes>"
      ]
     },
     "metadata": {},
     "output_type": "display_data"
    }
   ],
   "source": [
    "print(stat.skew(X['yrs_service']))\n",
    "X['yrs_service'].plot(kind=\"hist\")"
   ]
  },
  {
   "cell_type": "code",
   "execution_count": 37,
   "id": "5ccfb81a",
   "metadata": {},
   "outputs": [
    {
     "name": "stdout",
     "output_type": "stream",
     "text": [
      "0.14153547418619686\n"
     ]
    },
    {
     "data": {
      "text/plain": [
       "<AxesSubplot:ylabel='Frequency'>"
      ]
     },
     "execution_count": 37,
     "metadata": {},
     "output_type": "execute_result"
    },
    {
     "data": {
      "image/png": "[encoded data removed]",
      "text/plain": [
       "<Figure size 576x396 with 1 Axes>"
      ]
     },
     "metadata": {},
     "output_type": "display_data"
    }
   ],
   "source": [
    "print(stat.skew(Y))\n",
    "Y.plot(kind=\"hist\")"
   ]
  },
  {
   "cell_type": "code",
   "execution_count": 38,
   "id": "c4e15b48",
   "metadata": {},
   "outputs": [
    {
     "data": {
      "text/html": [
       "<table class=\"simpletable\">\n",
       "<caption>OLS Regression Results</caption>\n",
       "<tr>\n",
       "  <th>Dep. Variable:</th>         <td>salary</td>      <th>  R-squared:         </th> <td>   0.518</td>\n",
       "</tr>\n",
       "<tr>\n",
       "  <th>Model:</th>                   <td>OLS</td>       <th>  Adj. R-squared:    </th> <td>   0.512</td>\n",
       "</tr>\n",
       "<tr>\n",
       "  <th>Method:</th>             <td>Least Squares</td>  <th>  F-statistic:       </th> <td>   84.12</td>\n",
       "</tr>\n",
       "<tr>\n",
       "  <th>Date:</th>             <td>Sat, 03 Sep 2022</td> <th>  Prob (F-statistic):</th> <td>7.69e-60</td>\n",
       "</tr>\n",
       "<tr>\n",
       "  <th>Time:</th>                 <td>23:14:02</td>     <th>  Log-Likelihood:    </th> <td>  116.66</td>\n",
       "</tr>\n",
       "<tr>\n",
       "  <th>No. Observations:</th>      <td>   397</td>      <th>  AIC:               </th> <td>  -221.3</td>\n",
       "</tr>\n",
       "<tr>\n",
       "  <th>Df Residuals:</th>          <td>   391</td>      <th>  BIC:               </th> <td>  -197.4</td>\n",
       "</tr>\n",
       "<tr>\n",
       "  <th>Df Model:</th>              <td>     5</td>      <th>                     </th>     <td> </td>   \n",
       "</tr>\n",
       "<tr>\n",
       "  <th>Covariance Type:</th>      <td>nonrobust</td>    <th>                     </th>     <td> </td>   \n",
       "</tr>\n",
       "</table>\n",
       "<table class=\"simpletable\">\n",
       "<tr>\n",
       "        <td></td>           <th>coef</th>     <th>std err</th>      <th>t</th>      <th>P>|t|</th>  <th>[0.025</th>    <th>0.975]</th>  \n",
       "</tr>\n",
       "<tr>\n",
       "  <th>Intercept</th>     <td>   11.6073</td> <td>    0.009</td> <td> 1272.565</td> <td> 0.000</td> <td>   11.589</td> <td>   11.625</td>\n",
       "</tr>\n",
       "<tr>\n",
       "  <th>rank</th>          <td>    0.1783</td> <td>    0.014</td> <td>   12.915</td> <td> 0.000</td> <td>    0.151</td> <td>    0.205</td>\n",
       "</tr>\n",
       "<tr>\n",
       "  <th>yrs_since_phd</th> <td>    0.0352</td> <td>    0.024</td> <td>    1.441</td> <td> 0.150</td> <td>   -0.013</td> <td>    0.083</td>\n",
       "</tr>\n",
       "<tr>\n",
       "  <th>yrs_service</th>   <td>   -0.0360</td> <td>    0.022</td> <td>   -1.633</td> <td> 0.103</td> <td>   -0.079</td> <td>    0.007</td>\n",
       "</tr>\n",
       "<tr>\n",
       "  <th>sex_Male</th>      <td>    0.0125</td> <td>    0.009</td> <td>    1.349</td> <td> 0.178</td> <td>   -0.006</td> <td>    0.031</td>\n",
       "</tr>\n",
       "<tr>\n",
       "  <th>discipline_B</th>  <td>    0.0664</td> <td>    0.009</td> <td>    7.053</td> <td> 0.000</td> <td>    0.048</td> <td>    0.085</td>\n",
       "</tr>\n",
       "</table>\n",
       "<table class=\"simpletable\">\n",
       "<tr>\n",
       "  <th>Omnibus:</th>       <td> 8.439</td> <th>  Durbin-Watson:     </th> <td>   1.854</td>\n",
       "</tr>\n",
       "<tr>\n",
       "  <th>Prob(Omnibus):</th> <td> 0.015</td> <th>  Jarque-Bera (JB):  </th> <td>  14.144</td>\n",
       "</tr>\n",
       "<tr>\n",
       "  <th>Skew:</th>          <td> 0.003</td> <th>  Prob(JB):          </th> <td>0.000849</td>\n",
       "</tr>\n",
       "<tr>\n",
       "  <th>Kurtosis:</th>      <td> 3.925</td> <th>  Cond. No.          </th> <td>    5.65</td>\n",
       "</tr>\n",
       "</table><br/><br/>Notes:<br/>[1] Standard Errors assume that the covariance matrix of the errors is correctly specified."
      ],
      "text/plain": [
       "<class 'statsmodels.iolib.summary.Summary'>\n",
       "\"\"\"\n",
       "                            OLS Regression Results                            \n",
       "==============================================================================\n",
       "Dep. Variable:                 salary   R-squared:                       0.518\n",
       "Model:                            OLS   Adj. R-squared:                  0.512\n",
       "Method:                 Least Squares   F-statistic:                     84.12\n",
       "Date:                Sat, 03 Sep 2022   Prob (F-statistic):           7.69e-60\n",
       "Time:                        23:14:02   Log-Likelihood:                 116.66\n",
       "No. Observations:                 397   AIC:                            -221.3\n",
       "Df Residuals:                     391   BIC:                            -197.4\n",
       "Df Model:                           5                                         \n",
       "Covariance Type:            nonrobust                                         \n",
       "=================================================================================\n",
       "                    coef    std err          t      P>|t|      [0.025      0.975]\n",
       "---------------------------------------------------------------------------------\n",
       "Intercept        11.6073      0.009   1272.565      0.000      11.589      11.625\n",
       "rank              0.1783      0.014     12.915      0.000       0.151       0.205\n",
       "yrs_since_phd     0.0352      0.024      1.441      0.150      -0.013       0.083\n",
       "yrs_service      -0.0360      0.022     -1.633      0.103      -0.079       0.007\n",
       "sex_Male          0.0125      0.009      1.349      0.178      -0.006       0.031\n",
       "discipline_B      0.0664      0.009      7.053      0.000       0.048       0.085\n",
       "==============================================================================\n",
       "Omnibus:                        8.439   Durbin-Watson:                   1.854\n",
       "Prob(Omnibus):                  0.015   Jarque-Bera (JB):               14.144\n",
       "Skew:                           0.003   Prob(JB):                     0.000849\n",
       "Kurtosis:                       3.925   Cond. No.                         5.65\n",
       "==============================================================================\n",
       "\n",
       "Notes:\n",
       "[1] Standard Errors assume that the covariance matrix of the errors is correctly specified.\n",
       "\"\"\""
      ]
     },
     "execution_count": 38,
     "metadata": {},
     "output_type": "execute_result"
    }
   ],
   "source": [
    "y = df2['salary']\n",
    "x = df2.drop(['salary'], axis=1)\n",
    "\n",
    "scaler = PowerTransformer()\n",
    "x1 = scaler.fit_transform(x)\n",
    "X = pd.DataFrame(x1, index = x.index, columns = x.columns)\n",
    "Y = np.log(y)\n",
    "\n",
    "\n",
    "lm_multi_1 = smf.ols(formula = 'salary ~ rank + yrs_since_phd + yrs_service + sex_Male + discipline_B', data = pd.concat([X , Y], axis=1)).fit()\n",
    "\n",
    "lm_multi_1.summary()"
   ]
  },
  {
   "cell_type": "markdown",
   "id": "b4a8a27c",
   "metadata": {},
   "source": [
    "## learning about best models for given data & choosing nest model"
   ]
  },
  {
   "cell_type": "code",
   "execution_count": 39,
   "id": "f59a1583",
   "metadata": {},
   "outputs": [
    {
     "data": {
      "text/html": [
       "<style  type=\"text/css\" >\n",
       "#T_012030b4_2bb0_11ed_bdcc_900f0ca51e8erow42_col1{\n",
       "            background-color:  lightgreen;\n",
       "        }</style><table id=\"T_012030b4_2bb0_11ed_bdcc_900f0ca51e8e\" ><thead>    <tr>        <th class=\"blank level0\" ></th>        <th class=\"col_heading level0 col0\" >Description</th>        <th class=\"col_heading level0 col1\" >Value</th>    </tr></thead><tbody>\n",
       "                <tr>\n",
       "                        <th id=\"T_012030b4_2bb0_11ed_bdcc_900f0ca51e8elevel0_row0\" class=\"row_heading level0 row0\" >0</th>\n",
       "                        <td id=\"T_012030b4_2bb0_11ed_bdcc_900f0ca51e8erow0_col0\" class=\"data row0 col0\" >session_id</td>\n",
       "                        <td id=\"T_012030b4_2bb0_11ed_bdcc_900f0ca51e8erow0_col1\" class=\"data row0 col1\" >2</td>\n",
       "            </tr>\n",
       "            <tr>\n",
       "                        <th id=\"T_012030b4_2bb0_11ed_bdcc_900f0ca51e8elevel0_row1\" class=\"row_heading level0 row1\" >1</th>\n",
       "                        <td id=\"T_012030b4_2bb0_11ed_bdcc_900f0ca51e8erow1_col0\" class=\"data row1 col0\" >Target</td>\n",
       "                        <td id=\"T_012030b4_2bb0_11ed_bdcc_900f0ca51e8erow1_col1\" class=\"data row1 col1\" >salary</td>\n",
       "            </tr>\n",
       "            <tr>\n",
       "                        <th id=\"T_012030b4_2bb0_11ed_bdcc_900f0ca51e8elevel0_row2\" class=\"row_heading level0 row2\" >2</th>\n",
       "                        <td id=\"T_012030b4_2bb0_11ed_bdcc_900f0ca51e8erow2_col0\" class=\"data row2 col0\" >Original Data</td>\n",
       "                        <td id=\"T_012030b4_2bb0_11ed_bdcc_900f0ca51e8erow2_col1\" class=\"data row2 col1\" >(317, 6)</td>\n",
       "            </tr>\n",
       "            <tr>\n",
       "                        <th id=\"T_012030b4_2bb0_11ed_bdcc_900f0ca51e8elevel0_row3\" class=\"row_heading level0 row3\" >3</th>\n",
       "                        <td id=\"T_012030b4_2bb0_11ed_bdcc_900f0ca51e8erow3_col0\" class=\"data row3 col0\" >Missing Values</td>\n",
       "                        <td id=\"T_012030b4_2bb0_11ed_bdcc_900f0ca51e8erow3_col1\" class=\"data row3 col1\" >False</td>\n",
       "            </tr>\n",
       "            <tr>\n",
       "                        <th id=\"T_012030b4_2bb0_11ed_bdcc_900f0ca51e8elevel0_row4\" class=\"row_heading level0 row4\" >4</th>\n",
       "                        <td id=\"T_012030b4_2bb0_11ed_bdcc_900f0ca51e8erow4_col0\" class=\"data row4 col0\" >Numeric Features</td>\n",
       "                        <td id=\"T_012030b4_2bb0_11ed_bdcc_900f0ca51e8erow4_col1\" class=\"data row4 col1\" >3</td>\n",
       "            </tr>\n",
       "            <tr>\n",
       "                        <th id=\"T_012030b4_2bb0_11ed_bdcc_900f0ca51e8elevel0_row5\" class=\"row_heading level0 row5\" >5</th>\n",
       "                        <td id=\"T_012030b4_2bb0_11ed_bdcc_900f0ca51e8erow5_col0\" class=\"data row5 col0\" >Categorical Features</td>\n",
       "                        <td id=\"T_012030b4_2bb0_11ed_bdcc_900f0ca51e8erow5_col1\" class=\"data row5 col1\" >2</td>\n",
       "            </tr>\n",
       "            <tr>\n",
       "                        <th id=\"T_012030b4_2bb0_11ed_bdcc_900f0ca51e8elevel0_row6\" class=\"row_heading level0 row6\" >6</th>\n",
       "                        <td id=\"T_012030b4_2bb0_11ed_bdcc_900f0ca51e8erow6_col0\" class=\"data row6 col0\" >Ordinal Features</td>\n",
       "                        <td id=\"T_012030b4_2bb0_11ed_bdcc_900f0ca51e8erow6_col1\" class=\"data row6 col1\" >False</td>\n",
       "            </tr>\n",
       "            <tr>\n",
       "                        <th id=\"T_012030b4_2bb0_11ed_bdcc_900f0ca51e8elevel0_row7\" class=\"row_heading level0 row7\" >7</th>\n",
       "                        <td id=\"T_012030b4_2bb0_11ed_bdcc_900f0ca51e8erow7_col0\" class=\"data row7 col0\" >High Cardinality Features</td>\n",
       "                        <td id=\"T_012030b4_2bb0_11ed_bdcc_900f0ca51e8erow7_col1\" class=\"data row7 col1\" >False</td>\n",
       "            </tr>\n",
       "            <tr>\n",
       "                        <th id=\"T_012030b4_2bb0_11ed_bdcc_900f0ca51e8elevel0_row8\" class=\"row_heading level0 row8\" >8</th>\n",
       "                        <td id=\"T_012030b4_2bb0_11ed_bdcc_900f0ca51e8erow8_col0\" class=\"data row8 col0\" >High Cardinality Method</td>\n",
       "                        <td id=\"T_012030b4_2bb0_11ed_bdcc_900f0ca51e8erow8_col1\" class=\"data row8 col1\" >None</td>\n",
       "            </tr>\n",
       "            <tr>\n",
       "                        <th id=\"T_012030b4_2bb0_11ed_bdcc_900f0ca51e8elevel0_row9\" class=\"row_heading level0 row9\" >9</th>\n",
       "                        <td id=\"T_012030b4_2bb0_11ed_bdcc_900f0ca51e8erow9_col0\" class=\"data row9 col0\" >Transformed Train Set</td>\n",
       "                        <td id=\"T_012030b4_2bb0_11ed_bdcc_900f0ca51e8erow9_col1\" class=\"data row9 col1\" >(221, 5)</td>\n",
       "            </tr>\n",
       "            <tr>\n",
       "                        <th id=\"T_012030b4_2bb0_11ed_bdcc_900f0ca51e8elevel0_row10\" class=\"row_heading level0 row10\" >10</th>\n",
       "                        <td id=\"T_012030b4_2bb0_11ed_bdcc_900f0ca51e8erow10_col0\" class=\"data row10 col0\" >Transformed Test Set</td>\n",
       "                        <td id=\"T_012030b4_2bb0_11ed_bdcc_900f0ca51e8erow10_col1\" class=\"data row10 col1\" >(96, 5)</td>\n",
       "            </tr>\n",
       "            <tr>\n",
       "                        <th id=\"T_012030b4_2bb0_11ed_bdcc_900f0ca51e8elevel0_row11\" class=\"row_heading level0 row11\" >11</th>\n",
       "                        <td id=\"T_012030b4_2bb0_11ed_bdcc_900f0ca51e8erow11_col0\" class=\"data row11 col0\" >Shuffle Train-Test</td>\n",
       "                        <td id=\"T_012030b4_2bb0_11ed_bdcc_900f0ca51e8erow11_col1\" class=\"data row11 col1\" >True</td>\n",
       "            </tr>\n",
       "            <tr>\n",
       "                        <th id=\"T_012030b4_2bb0_11ed_bdcc_900f0ca51e8elevel0_row12\" class=\"row_heading level0 row12\" >12</th>\n",
       "                        <td id=\"T_012030b4_2bb0_11ed_bdcc_900f0ca51e8erow12_col0\" class=\"data row12 col0\" >Stratify Train-Test</td>\n",
       "                        <td id=\"T_012030b4_2bb0_11ed_bdcc_900f0ca51e8erow12_col1\" class=\"data row12 col1\" >False</td>\n",
       "            </tr>\n",
       "            <tr>\n",
       "                        <th id=\"T_012030b4_2bb0_11ed_bdcc_900f0ca51e8elevel0_row13\" class=\"row_heading level0 row13\" >13</th>\n",
       "                        <td id=\"T_012030b4_2bb0_11ed_bdcc_900f0ca51e8erow13_col0\" class=\"data row13 col0\" >Fold Generator</td>\n",
       "                        <td id=\"T_012030b4_2bb0_11ed_bdcc_900f0ca51e8erow13_col1\" class=\"data row13 col1\" >KFold</td>\n",
       "            </tr>\n",
       "            <tr>\n",
       "                        <th id=\"T_012030b4_2bb0_11ed_bdcc_900f0ca51e8elevel0_row14\" class=\"row_heading level0 row14\" >14</th>\n",
       "                        <td id=\"T_012030b4_2bb0_11ed_bdcc_900f0ca51e8erow14_col0\" class=\"data row14 col0\" >Fold Number</td>\n",
       "                        <td id=\"T_012030b4_2bb0_11ed_bdcc_900f0ca51e8erow14_col1\" class=\"data row14 col1\" >10</td>\n",
       "            </tr>\n",
       "            <tr>\n",
       "                        <th id=\"T_012030b4_2bb0_11ed_bdcc_900f0ca51e8elevel0_row15\" class=\"row_heading level0 row15\" >15</th>\n",
       "                        <td id=\"T_012030b4_2bb0_11ed_bdcc_900f0ca51e8erow15_col0\" class=\"data row15 col0\" >CPU Jobs</td>\n",
       "                        <td id=\"T_012030b4_2bb0_11ed_bdcc_900f0ca51e8erow15_col1\" class=\"data row15 col1\" >-1</td>\n",
       "            </tr>\n",
       "            <tr>\n",
       "                        <th id=\"T_012030b4_2bb0_11ed_bdcc_900f0ca51e8elevel0_row16\" class=\"row_heading level0 row16\" >16</th>\n",
       "                        <td id=\"T_012030b4_2bb0_11ed_bdcc_900f0ca51e8erow16_col0\" class=\"data row16 col0\" >Use GPU</td>\n",
       "                        <td id=\"T_012030b4_2bb0_11ed_bdcc_900f0ca51e8erow16_col1\" class=\"data row16 col1\" >False</td>\n",
       "            </tr>\n",
       "            <tr>\n",
       "                        <th id=\"T_012030b4_2bb0_11ed_bdcc_900f0ca51e8elevel0_row17\" class=\"row_heading level0 row17\" >17</th>\n",
       "                        <td id=\"T_012030b4_2bb0_11ed_bdcc_900f0ca51e8erow17_col0\" class=\"data row17 col0\" >Log Experiment</td>\n",
       "                        <td id=\"T_012030b4_2bb0_11ed_bdcc_900f0ca51e8erow17_col1\" class=\"data row17 col1\" >False</td>\n",
       "            </tr>\n",
       "            <tr>\n",
       "                        <th id=\"T_012030b4_2bb0_11ed_bdcc_900f0ca51e8elevel0_row18\" class=\"row_heading level0 row18\" >18</th>\n",
       "                        <td id=\"T_012030b4_2bb0_11ed_bdcc_900f0ca51e8erow18_col0\" class=\"data row18 col0\" >Experiment Name</td>\n",
       "                        <td id=\"T_012030b4_2bb0_11ed_bdcc_900f0ca51e8erow18_col1\" class=\"data row18 col1\" >reg-default-name</td>\n",
       "            </tr>\n",
       "            <tr>\n",
       "                        <th id=\"T_012030b4_2bb0_11ed_bdcc_900f0ca51e8elevel0_row19\" class=\"row_heading level0 row19\" >19</th>\n",
       "                        <td id=\"T_012030b4_2bb0_11ed_bdcc_900f0ca51e8erow19_col0\" class=\"data row19 col0\" >USI</td>\n",
       "                        <td id=\"T_012030b4_2bb0_11ed_bdcc_900f0ca51e8erow19_col1\" class=\"data row19 col1\" >ce5b</td>\n",
       "            </tr>\n",
       "            <tr>\n",
       "                        <th id=\"T_012030b4_2bb0_11ed_bdcc_900f0ca51e8elevel0_row20\" class=\"row_heading level0 row20\" >20</th>\n",
       "                        <td id=\"T_012030b4_2bb0_11ed_bdcc_900f0ca51e8erow20_col0\" class=\"data row20 col0\" >Imputation Type</td>\n",
       "                        <td id=\"T_012030b4_2bb0_11ed_bdcc_900f0ca51e8erow20_col1\" class=\"data row20 col1\" >simple</td>\n",
       "            </tr>\n",
       "            <tr>\n",
       "                        <th id=\"T_012030b4_2bb0_11ed_bdcc_900f0ca51e8elevel0_row21\" class=\"row_heading level0 row21\" >21</th>\n",
       "                        <td id=\"T_012030b4_2bb0_11ed_bdcc_900f0ca51e8erow21_col0\" class=\"data row21 col0\" >Iterative Imputation Iteration</td>\n",
       "                        <td id=\"T_012030b4_2bb0_11ed_bdcc_900f0ca51e8erow21_col1\" class=\"data row21 col1\" >None</td>\n",
       "            </tr>\n",
       "            <tr>\n",
       "                        <th id=\"T_012030b4_2bb0_11ed_bdcc_900f0ca51e8elevel0_row22\" class=\"row_heading level0 row22\" >22</th>\n",
       "                        <td id=\"T_012030b4_2bb0_11ed_bdcc_900f0ca51e8erow22_col0\" class=\"data row22 col0\" >Numeric Imputer</td>\n",
       "                        <td id=\"T_012030b4_2bb0_11ed_bdcc_900f0ca51e8erow22_col1\" class=\"data row22 col1\" >mean</td>\n",
       "            </tr>\n",
       "            <tr>\n",
       "                        <th id=\"T_012030b4_2bb0_11ed_bdcc_900f0ca51e8elevel0_row23\" class=\"row_heading level0 row23\" >23</th>\n",
       "                        <td id=\"T_012030b4_2bb0_11ed_bdcc_900f0ca51e8erow23_col0\" class=\"data row23 col0\" >Iterative Imputation Numeric Model</td>\n",
       "                        <td id=\"T_012030b4_2bb0_11ed_bdcc_900f0ca51e8erow23_col1\" class=\"data row23 col1\" >None</td>\n",
       "            </tr>\n",
       "            <tr>\n",
       "                        <th id=\"T_012030b4_2bb0_11ed_bdcc_900f0ca51e8elevel0_row24\" class=\"row_heading level0 row24\" >24</th>\n",
       "                        <td id=\"T_012030b4_2bb0_11ed_bdcc_900f0ca51e8erow24_col0\" class=\"data row24 col0\" >Categorical Imputer</td>\n",
       "                        <td id=\"T_012030b4_2bb0_11ed_bdcc_900f0ca51e8erow24_col1\" class=\"data row24 col1\" >constant</td>\n",
       "            </tr>\n",
       "            <tr>\n",
       "                        <th id=\"T_012030b4_2bb0_11ed_bdcc_900f0ca51e8elevel0_row25\" class=\"row_heading level0 row25\" >25</th>\n",
       "                        <td id=\"T_012030b4_2bb0_11ed_bdcc_900f0ca51e8erow25_col0\" class=\"data row25 col0\" >Iterative Imputation Categorical Model</td>\n",
       "                        <td id=\"T_012030b4_2bb0_11ed_bdcc_900f0ca51e8erow25_col1\" class=\"data row25 col1\" >None</td>\n",
       "            </tr>\n",
       "            <tr>\n",
       "                        <th id=\"T_012030b4_2bb0_11ed_bdcc_900f0ca51e8elevel0_row26\" class=\"row_heading level0 row26\" >26</th>\n",
       "                        <td id=\"T_012030b4_2bb0_11ed_bdcc_900f0ca51e8erow26_col0\" class=\"data row26 col0\" >Unknown Categoricals Handling</td>\n",
       "                        <td id=\"T_012030b4_2bb0_11ed_bdcc_900f0ca51e8erow26_col1\" class=\"data row26 col1\" >least_frequent</td>\n",
       "            </tr>\n",
       "            <tr>\n",
       "                        <th id=\"T_012030b4_2bb0_11ed_bdcc_900f0ca51e8elevel0_row27\" class=\"row_heading level0 row27\" >27</th>\n",
       "                        <td id=\"T_012030b4_2bb0_11ed_bdcc_900f0ca51e8erow27_col0\" class=\"data row27 col0\" >Normalize</td>\n",
       "                        <td id=\"T_012030b4_2bb0_11ed_bdcc_900f0ca51e8erow27_col1\" class=\"data row27 col1\" >False</td>\n",
       "            </tr>\n",
       "            <tr>\n",
       "                        <th id=\"T_012030b4_2bb0_11ed_bdcc_900f0ca51e8elevel0_row28\" class=\"row_heading level0 row28\" >28</th>\n",
       "                        <td id=\"T_012030b4_2bb0_11ed_bdcc_900f0ca51e8erow28_col0\" class=\"data row28 col0\" >Normalize Method</td>\n",
       "                        <td id=\"T_012030b4_2bb0_11ed_bdcc_900f0ca51e8erow28_col1\" class=\"data row28 col1\" >None</td>\n",
       "            </tr>\n",
       "            <tr>\n",
       "                        <th id=\"T_012030b4_2bb0_11ed_bdcc_900f0ca51e8elevel0_row29\" class=\"row_heading level0 row29\" >29</th>\n",
       "                        <td id=\"T_012030b4_2bb0_11ed_bdcc_900f0ca51e8erow29_col0\" class=\"data row29 col0\" >Transformation</td>\n",
       "                        <td id=\"T_012030b4_2bb0_11ed_bdcc_900f0ca51e8erow29_col1\" class=\"data row29 col1\" >False</td>\n",
       "            </tr>\n",
       "            <tr>\n",
       "                        <th id=\"T_012030b4_2bb0_11ed_bdcc_900f0ca51e8elevel0_row30\" class=\"row_heading level0 row30\" >30</th>\n",
       "                        <td id=\"T_012030b4_2bb0_11ed_bdcc_900f0ca51e8erow30_col0\" class=\"data row30 col0\" >Transformation Method</td>\n",
       "                        <td id=\"T_012030b4_2bb0_11ed_bdcc_900f0ca51e8erow30_col1\" class=\"data row30 col1\" >None</td>\n",
       "            </tr>\n",
       "            <tr>\n",
       "                        <th id=\"T_012030b4_2bb0_11ed_bdcc_900f0ca51e8elevel0_row31\" class=\"row_heading level0 row31\" >31</th>\n",
       "                        <td id=\"T_012030b4_2bb0_11ed_bdcc_900f0ca51e8erow31_col0\" class=\"data row31 col0\" >PCA</td>\n",
       "                        <td id=\"T_012030b4_2bb0_11ed_bdcc_900f0ca51e8erow31_col1\" class=\"data row31 col1\" >False</td>\n",
       "            </tr>\n",
       "            <tr>\n",
       "                        <th id=\"T_012030b4_2bb0_11ed_bdcc_900f0ca51e8elevel0_row32\" class=\"row_heading level0 row32\" >32</th>\n",
       "                        <td id=\"T_012030b4_2bb0_11ed_bdcc_900f0ca51e8erow32_col0\" class=\"data row32 col0\" >PCA Method</td>\n",
       "                        <td id=\"T_012030b4_2bb0_11ed_bdcc_900f0ca51e8erow32_col1\" class=\"data row32 col1\" >None</td>\n",
       "            </tr>\n",
       "            <tr>\n",
       "                        <th id=\"T_012030b4_2bb0_11ed_bdcc_900f0ca51e8elevel0_row33\" class=\"row_heading level0 row33\" >33</th>\n",
       "                        <td id=\"T_012030b4_2bb0_11ed_bdcc_900f0ca51e8erow33_col0\" class=\"data row33 col0\" >PCA Components</td>\n",
       "                        <td id=\"T_012030b4_2bb0_11ed_bdcc_900f0ca51e8erow33_col1\" class=\"data row33 col1\" >None</td>\n",
       "            </tr>\n",
       "            <tr>\n",
       "                        <th id=\"T_012030b4_2bb0_11ed_bdcc_900f0ca51e8elevel0_row34\" class=\"row_heading level0 row34\" >34</th>\n",
       "                        <td id=\"T_012030b4_2bb0_11ed_bdcc_900f0ca51e8erow34_col0\" class=\"data row34 col0\" >Ignore Low Variance</td>\n",
       "                        <td id=\"T_012030b4_2bb0_11ed_bdcc_900f0ca51e8erow34_col1\" class=\"data row34 col1\" >False</td>\n",
       "            </tr>\n",
       "            <tr>\n",
       "                        <th id=\"T_012030b4_2bb0_11ed_bdcc_900f0ca51e8elevel0_row35\" class=\"row_heading level0 row35\" >35</th>\n",
       "                        <td id=\"T_012030b4_2bb0_11ed_bdcc_900f0ca51e8erow35_col0\" class=\"data row35 col0\" >Combine Rare Levels</td>\n",
       "                        <td id=\"T_012030b4_2bb0_11ed_bdcc_900f0ca51e8erow35_col1\" class=\"data row35 col1\" >False</td>\n",
       "            </tr>\n",
       "            <tr>\n",
       "                        <th id=\"T_012030b4_2bb0_11ed_bdcc_900f0ca51e8elevel0_row36\" class=\"row_heading level0 row36\" >36</th>\n",
       "                        <td id=\"T_012030b4_2bb0_11ed_bdcc_900f0ca51e8erow36_col0\" class=\"data row36 col0\" >Rare Level Threshold</td>\n",
       "                        <td id=\"T_012030b4_2bb0_11ed_bdcc_900f0ca51e8erow36_col1\" class=\"data row36 col1\" >None</td>\n",
       "            </tr>\n",
       "            <tr>\n",
       "                        <th id=\"T_012030b4_2bb0_11ed_bdcc_900f0ca51e8elevel0_row37\" class=\"row_heading level0 row37\" >37</th>\n",
       "                        <td id=\"T_012030b4_2bb0_11ed_bdcc_900f0ca51e8erow37_col0\" class=\"data row37 col0\" >Numeric Binning</td>\n",
       "                        <td id=\"T_012030b4_2bb0_11ed_bdcc_900f0ca51e8erow37_col1\" class=\"data row37 col1\" >False</td>\n",
       "            </tr>\n",
       "            <tr>\n",
       "                        <th id=\"T_012030b4_2bb0_11ed_bdcc_900f0ca51e8elevel0_row38\" class=\"row_heading level0 row38\" >38</th>\n",
       "                        <td id=\"T_012030b4_2bb0_11ed_bdcc_900f0ca51e8erow38_col0\" class=\"data row38 col0\" >Remove Outliers</td>\n",
       "                        <td id=\"T_012030b4_2bb0_11ed_bdcc_900f0ca51e8erow38_col1\" class=\"data row38 col1\" >False</td>\n",
       "            </tr>\n",
       "            <tr>\n",
       "                        <th id=\"T_012030b4_2bb0_11ed_bdcc_900f0ca51e8elevel0_row39\" class=\"row_heading level0 row39\" >39</th>\n",
       "                        <td id=\"T_012030b4_2bb0_11ed_bdcc_900f0ca51e8erow39_col0\" class=\"data row39 col0\" >Outliers Threshold</td>\n",
       "                        <td id=\"T_012030b4_2bb0_11ed_bdcc_900f0ca51e8erow39_col1\" class=\"data row39 col1\" >None</td>\n",
       "            </tr>\n",
       "            <tr>\n",
       "                        <th id=\"T_012030b4_2bb0_11ed_bdcc_900f0ca51e8elevel0_row40\" class=\"row_heading level0 row40\" >40</th>\n",
       "                        <td id=\"T_012030b4_2bb0_11ed_bdcc_900f0ca51e8erow40_col0\" class=\"data row40 col0\" >Remove Multicollinearity</td>\n",
       "                        <td id=\"T_012030b4_2bb0_11ed_bdcc_900f0ca51e8erow40_col1\" class=\"data row40 col1\" >False</td>\n",
       "            </tr>\n",
       "            <tr>\n",
       "                        <th id=\"T_012030b4_2bb0_11ed_bdcc_900f0ca51e8elevel0_row41\" class=\"row_heading level0 row41\" >41</th>\n",
       "                        <td id=\"T_012030b4_2bb0_11ed_bdcc_900f0ca51e8erow41_col0\" class=\"data row41 col0\" >Multicollinearity Threshold</td>\n",
       "                        <td id=\"T_012030b4_2bb0_11ed_bdcc_900f0ca51e8erow41_col1\" class=\"data row41 col1\" >None</td>\n",
       "            </tr>\n",
       "            <tr>\n",
       "                        <th id=\"T_012030b4_2bb0_11ed_bdcc_900f0ca51e8elevel0_row42\" class=\"row_heading level0 row42\" >42</th>\n",
       "                        <td id=\"T_012030b4_2bb0_11ed_bdcc_900f0ca51e8erow42_col0\" class=\"data row42 col0\" >Remove Perfect Collinearity</td>\n",
       "                        <td id=\"T_012030b4_2bb0_11ed_bdcc_900f0ca51e8erow42_col1\" class=\"data row42 col1\" >True</td>\n",
       "            </tr>\n",
       "            <tr>\n",
       "                        <th id=\"T_012030b4_2bb0_11ed_bdcc_900f0ca51e8elevel0_row43\" class=\"row_heading level0 row43\" >43</th>\n",
       "                        <td id=\"T_012030b4_2bb0_11ed_bdcc_900f0ca51e8erow43_col0\" class=\"data row43 col0\" >Clustering</td>\n",
       "                        <td id=\"T_012030b4_2bb0_11ed_bdcc_900f0ca51e8erow43_col1\" class=\"data row43 col1\" >False</td>\n",
       "            </tr>\n",
       "            <tr>\n",
       "                        <th id=\"T_012030b4_2bb0_11ed_bdcc_900f0ca51e8elevel0_row44\" class=\"row_heading level0 row44\" >44</th>\n",
       "                        <td id=\"T_012030b4_2bb0_11ed_bdcc_900f0ca51e8erow44_col0\" class=\"data row44 col0\" >Clustering Iteration</td>\n",
       "                        <td id=\"T_012030b4_2bb0_11ed_bdcc_900f0ca51e8erow44_col1\" class=\"data row44 col1\" >None</td>\n",
       "            </tr>\n",
       "            <tr>\n",
       "                        <th id=\"T_012030b4_2bb0_11ed_bdcc_900f0ca51e8elevel0_row45\" class=\"row_heading level0 row45\" >45</th>\n",
       "                        <td id=\"T_012030b4_2bb0_11ed_bdcc_900f0ca51e8erow45_col0\" class=\"data row45 col0\" >Polynomial Features</td>\n",
       "                        <td id=\"T_012030b4_2bb0_11ed_bdcc_900f0ca51e8erow45_col1\" class=\"data row45 col1\" >False</td>\n",
       "            </tr>\n",
       "            <tr>\n",
       "                        <th id=\"T_012030b4_2bb0_11ed_bdcc_900f0ca51e8elevel0_row46\" class=\"row_heading level0 row46\" >46</th>\n",
       "                        <td id=\"T_012030b4_2bb0_11ed_bdcc_900f0ca51e8erow46_col0\" class=\"data row46 col0\" >Polynomial Degree</td>\n",
       "                        <td id=\"T_012030b4_2bb0_11ed_bdcc_900f0ca51e8erow46_col1\" class=\"data row46 col1\" >None</td>\n",
       "            </tr>\n",
       "            <tr>\n",
       "                        <th id=\"T_012030b4_2bb0_11ed_bdcc_900f0ca51e8elevel0_row47\" class=\"row_heading level0 row47\" >47</th>\n",
       "                        <td id=\"T_012030b4_2bb0_11ed_bdcc_900f0ca51e8erow47_col0\" class=\"data row47 col0\" >Trignometry Features</td>\n",
       "                        <td id=\"T_012030b4_2bb0_11ed_bdcc_900f0ca51e8erow47_col1\" class=\"data row47 col1\" >False</td>\n",
       "            </tr>\n",
       "            <tr>\n",
       "                        <th id=\"T_012030b4_2bb0_11ed_bdcc_900f0ca51e8elevel0_row48\" class=\"row_heading level0 row48\" >48</th>\n",
       "                        <td id=\"T_012030b4_2bb0_11ed_bdcc_900f0ca51e8erow48_col0\" class=\"data row48 col0\" >Polynomial Threshold</td>\n",
       "                        <td id=\"T_012030b4_2bb0_11ed_bdcc_900f0ca51e8erow48_col1\" class=\"data row48 col1\" >None</td>\n",
       "            </tr>\n",
       "            <tr>\n",
       "                        <th id=\"T_012030b4_2bb0_11ed_bdcc_900f0ca51e8elevel0_row49\" class=\"row_heading level0 row49\" >49</th>\n",
       "                        <td id=\"T_012030b4_2bb0_11ed_bdcc_900f0ca51e8erow49_col0\" class=\"data row49 col0\" >Group Features</td>\n",
       "                        <td id=\"T_012030b4_2bb0_11ed_bdcc_900f0ca51e8erow49_col1\" class=\"data row49 col1\" >False</td>\n",
       "            </tr>\n",
       "            <tr>\n",
       "                        <th id=\"T_012030b4_2bb0_11ed_bdcc_900f0ca51e8elevel0_row50\" class=\"row_heading level0 row50\" >50</th>\n",
       "                        <td id=\"T_012030b4_2bb0_11ed_bdcc_900f0ca51e8erow50_col0\" class=\"data row50 col0\" >Feature Selection</td>\n",
       "                        <td id=\"T_012030b4_2bb0_11ed_bdcc_900f0ca51e8erow50_col1\" class=\"data row50 col1\" >False</td>\n",
       "            </tr>\n",
       "            <tr>\n",
       "                        <th id=\"T_012030b4_2bb0_11ed_bdcc_900f0ca51e8elevel0_row51\" class=\"row_heading level0 row51\" >51</th>\n",
       "                        <td id=\"T_012030b4_2bb0_11ed_bdcc_900f0ca51e8erow51_col0\" class=\"data row51 col0\" >Feature Selection Method</td>\n",
       "                        <td id=\"T_012030b4_2bb0_11ed_bdcc_900f0ca51e8erow51_col1\" class=\"data row51 col1\" >classic</td>\n",
       "            </tr>\n",
       "            <tr>\n",
       "                        <th id=\"T_012030b4_2bb0_11ed_bdcc_900f0ca51e8elevel0_row52\" class=\"row_heading level0 row52\" >52</th>\n",
       "                        <td id=\"T_012030b4_2bb0_11ed_bdcc_900f0ca51e8erow52_col0\" class=\"data row52 col0\" >Features Selection Threshold</td>\n",
       "                        <td id=\"T_012030b4_2bb0_11ed_bdcc_900f0ca51e8erow52_col1\" class=\"data row52 col1\" >None</td>\n",
       "            </tr>\n",
       "            <tr>\n",
       "                        <th id=\"T_012030b4_2bb0_11ed_bdcc_900f0ca51e8elevel0_row53\" class=\"row_heading level0 row53\" >53</th>\n",
       "                        <td id=\"T_012030b4_2bb0_11ed_bdcc_900f0ca51e8erow53_col0\" class=\"data row53 col0\" >Feature Interaction</td>\n",
       "                        <td id=\"T_012030b4_2bb0_11ed_bdcc_900f0ca51e8erow53_col1\" class=\"data row53 col1\" >False</td>\n",
       "            </tr>\n",
       "            <tr>\n",
       "                        <th id=\"T_012030b4_2bb0_11ed_bdcc_900f0ca51e8elevel0_row54\" class=\"row_heading level0 row54\" >54</th>\n",
       "                        <td id=\"T_012030b4_2bb0_11ed_bdcc_900f0ca51e8erow54_col0\" class=\"data row54 col0\" >Feature Ratio</td>\n",
       "                        <td id=\"T_012030b4_2bb0_11ed_bdcc_900f0ca51e8erow54_col1\" class=\"data row54 col1\" >False</td>\n",
       "            </tr>\n",
       "            <tr>\n",
       "                        <th id=\"T_012030b4_2bb0_11ed_bdcc_900f0ca51e8elevel0_row55\" class=\"row_heading level0 row55\" >55</th>\n",
       "                        <td id=\"T_012030b4_2bb0_11ed_bdcc_900f0ca51e8erow55_col0\" class=\"data row55 col0\" >Interaction Threshold</td>\n",
       "                        <td id=\"T_012030b4_2bb0_11ed_bdcc_900f0ca51e8erow55_col1\" class=\"data row55 col1\" >None</td>\n",
       "            </tr>\n",
       "            <tr>\n",
       "                        <th id=\"T_012030b4_2bb0_11ed_bdcc_900f0ca51e8elevel0_row56\" class=\"row_heading level0 row56\" >56</th>\n",
       "                        <td id=\"T_012030b4_2bb0_11ed_bdcc_900f0ca51e8erow56_col0\" class=\"data row56 col0\" >Transform Target</td>\n",
       "                        <td id=\"T_012030b4_2bb0_11ed_bdcc_900f0ca51e8erow56_col1\" class=\"data row56 col1\" >False</td>\n",
       "            </tr>\n",
       "            <tr>\n",
       "                        <th id=\"T_012030b4_2bb0_11ed_bdcc_900f0ca51e8elevel0_row57\" class=\"row_heading level0 row57\" >57</th>\n",
       "                        <td id=\"T_012030b4_2bb0_11ed_bdcc_900f0ca51e8erow57_col0\" class=\"data row57 col0\" >Transform Target Method</td>\n",
       "                        <td id=\"T_012030b4_2bb0_11ed_bdcc_900f0ca51e8erow57_col1\" class=\"data row57 col1\" >box-cox</td>\n",
       "            </tr>\n",
       "    </tbody></table>"
      ],
      "text/plain": [
       "<pandas.io.formats.style.Styler at 0x1e6c9cddda0>"
      ]
     },
     "metadata": {},
     "output_type": "display_data"
    }
   ],
   "source": [
    "x_train, x_test, y_train, y_test = train_test_split(X, Y, test_size=0.2, random_state=1162)\n",
    "_ = setup(data = pd.concat([x_train, y_train], axis = 1), target = 'salary', fold_shuffle=True, session_id=2)"
   ]
  },
  {
   "cell_type": "code",
   "execution_count": 40,
   "id": "92e94af3",
   "metadata": {},
   "outputs": [
    {
     "data": {
      "text/html": [
       "<style  type=\"text/css\" >\n",
       "    #T_0d8f5a40_2bb0_11ed_ad51_900f0ca51e8e th {\n",
       "          text-align: left;\n",
       "    }#T_0d8f5a40_2bb0_11ed_ad51_900f0ca51e8erow0_col0,#T_0d8f5a40_2bb0_11ed_ad51_900f0ca51e8erow0_col1,#T_0d8f5a40_2bb0_11ed_ad51_900f0ca51e8erow0_col6,#T_0d8f5a40_2bb0_11ed_ad51_900f0ca51e8erow1_col0,#T_0d8f5a40_2bb0_11ed_ad51_900f0ca51e8erow1_col1,#T_0d8f5a40_2bb0_11ed_ad51_900f0ca51e8erow1_col2,#T_0d8f5a40_2bb0_11ed_ad51_900f0ca51e8erow1_col3,#T_0d8f5a40_2bb0_11ed_ad51_900f0ca51e8erow1_col4,#T_0d8f5a40_2bb0_11ed_ad51_900f0ca51e8erow1_col6,#T_0d8f5a40_2bb0_11ed_ad51_900f0ca51e8erow2_col0,#T_0d8f5a40_2bb0_11ed_ad51_900f0ca51e8erow2_col1,#T_0d8f5a40_2bb0_11ed_ad51_900f0ca51e8erow2_col2,#T_0d8f5a40_2bb0_11ed_ad51_900f0ca51e8erow2_col3,#T_0d8f5a40_2bb0_11ed_ad51_900f0ca51e8erow2_col4,#T_0d8f5a40_2bb0_11ed_ad51_900f0ca51e8erow2_col6,#T_0d8f5a40_2bb0_11ed_ad51_900f0ca51e8erow3_col0,#T_0d8f5a40_2bb0_11ed_ad51_900f0ca51e8erow3_col1,#T_0d8f5a40_2bb0_11ed_ad51_900f0ca51e8erow3_col2,#T_0d8f5a40_2bb0_11ed_ad51_900f0ca51e8erow3_col3,#T_0d8f5a40_2bb0_11ed_ad51_900f0ca51e8erow3_col4,#T_0d8f5a40_2bb0_11ed_ad51_900f0ca51e8erow3_col6,#T_0d8f5a40_2bb0_11ed_ad51_900f0ca51e8erow4_col0,#T_0d8f5a40_2bb0_11ed_ad51_900f0ca51e8erow4_col2,#T_0d8f5a40_2bb0_11ed_ad51_900f0ca51e8erow4_col3,#T_0d8f5a40_2bb0_11ed_ad51_900f0ca51e8erow4_col4,#T_0d8f5a40_2bb0_11ed_ad51_900f0ca51e8erow4_col5,#T_0d8f5a40_2bb0_11ed_ad51_900f0ca51e8erow5_col0,#T_0d8f5a40_2bb0_11ed_ad51_900f0ca51e8erow5_col1,#T_0d8f5a40_2bb0_11ed_ad51_900f0ca51e8erow5_col2,#T_0d8f5a40_2bb0_11ed_ad51_900f0ca51e8erow5_col3,#T_0d8f5a40_2bb0_11ed_ad51_900f0ca51e8erow5_col4,#T_0d8f5a40_2bb0_11ed_ad51_900f0ca51e8erow5_col5,#T_0d8f5a40_2bb0_11ed_ad51_900f0ca51e8erow5_col6,#T_0d8f5a40_2bb0_11ed_ad51_900f0ca51e8erow6_col0,#T_0d8f5a40_2bb0_11ed_ad51_900f0ca51e8erow6_col1,#T_0d8f5a40_2bb0_11ed_ad51_900f0ca51e8erow6_col2,#T_0d8f5a40_2bb0_11ed_ad51_900f0ca51e8erow6_col3,#T_0d8f5a40_2bb0_11ed_ad51_900f0ca51e8erow6_col4,#T_0d8f5a40_2bb0_11ed_ad51_900f0ca51e8erow6_col5,#T_0d8f5a40_2bb0_11ed_ad51_900f0ca51e8erow6_col6,#T_0d8f5a40_2bb0_11ed_ad51_900f0ca51e8erow7_col0,#T_0d8f5a40_2bb0_11ed_ad51_900f0ca51e8erow7_col1,#T_0d8f5a40_2bb0_11ed_ad51_900f0ca51e8erow7_col2,#T_0d8f5a40_2bb0_11ed_ad51_900f0ca51e8erow7_col3,#T_0d8f5a40_2bb0_11ed_ad51_900f0ca51e8erow7_col4,#T_0d8f5a40_2bb0_11ed_ad51_900f0ca51e8erow7_col5,#T_0d8f5a40_2bb0_11ed_ad51_900f0ca51e8erow7_col6,#T_0d8f5a40_2bb0_11ed_ad51_900f0ca51e8erow8_col0,#T_0d8f5a40_2bb0_11ed_ad51_900f0ca51e8erow8_col1,#T_0d8f5a40_2bb0_11ed_ad51_900f0ca51e8erow8_col2,#T_0d8f5a40_2bb0_11ed_ad51_900f0ca51e8erow8_col3,#T_0d8f5a40_2bb0_11ed_ad51_900f0ca51e8erow8_col4,#T_0d8f5a40_2bb0_11ed_ad51_900f0ca51e8erow8_col5,#T_0d8f5a40_2bb0_11ed_ad51_900f0ca51e8erow8_col6,#T_0d8f5a40_2bb0_11ed_ad51_900f0ca51e8erow9_col0,#T_0d8f5a40_2bb0_11ed_ad51_900f0ca51e8erow9_col1,#T_0d8f5a40_2bb0_11ed_ad51_900f0ca51e8erow9_col2,#T_0d8f5a40_2bb0_11ed_ad51_900f0ca51e8erow9_col3,#T_0d8f5a40_2bb0_11ed_ad51_900f0ca51e8erow9_col4,#T_0d8f5a40_2bb0_11ed_ad51_900f0ca51e8erow9_col5,#T_0d8f5a40_2bb0_11ed_ad51_900f0ca51e8erow9_col6,#T_0d8f5a40_2bb0_11ed_ad51_900f0ca51e8erow10_col0,#T_0d8f5a40_2bb0_11ed_ad51_900f0ca51e8erow10_col1,#T_0d8f5a40_2bb0_11ed_ad51_900f0ca51e8erow10_col2,#T_0d8f5a40_2bb0_11ed_ad51_900f0ca51e8erow10_col3,#T_0d8f5a40_2bb0_11ed_ad51_900f0ca51e8erow10_col4,#T_0d8f5a40_2bb0_11ed_ad51_900f0ca51e8erow10_col5,#T_0d8f5a40_2bb0_11ed_ad51_900f0ca51e8erow10_col6,#T_0d8f5a40_2bb0_11ed_ad51_900f0ca51e8erow11_col0,#T_0d8f5a40_2bb0_11ed_ad51_900f0ca51e8erow11_col1,#T_0d8f5a40_2bb0_11ed_ad51_900f0ca51e8erow11_col2,#T_0d8f5a40_2bb0_11ed_ad51_900f0ca51e8erow11_col3,#T_0d8f5a40_2bb0_11ed_ad51_900f0ca51e8erow11_col4,#T_0d8f5a40_2bb0_11ed_ad51_900f0ca51e8erow11_col5,#T_0d8f5a40_2bb0_11ed_ad51_900f0ca51e8erow11_col6,#T_0d8f5a40_2bb0_11ed_ad51_900f0ca51e8erow12_col0,#T_0d8f5a40_2bb0_11ed_ad51_900f0ca51e8erow12_col1,#T_0d8f5a40_2bb0_11ed_ad51_900f0ca51e8erow12_col2,#T_0d8f5a40_2bb0_11ed_ad51_900f0ca51e8erow12_col3,#T_0d8f5a40_2bb0_11ed_ad51_900f0ca51e8erow12_col4,#T_0d8f5a40_2bb0_11ed_ad51_900f0ca51e8erow12_col5,#T_0d8f5a40_2bb0_11ed_ad51_900f0ca51e8erow12_col6,#T_0d8f5a40_2bb0_11ed_ad51_900f0ca51e8erow13_col0,#T_0d8f5a40_2bb0_11ed_ad51_900f0ca51e8erow13_col1,#T_0d8f5a40_2bb0_11ed_ad51_900f0ca51e8erow13_col2,#T_0d8f5a40_2bb0_11ed_ad51_900f0ca51e8erow13_col3,#T_0d8f5a40_2bb0_11ed_ad51_900f0ca51e8erow13_col4,#T_0d8f5a40_2bb0_11ed_ad51_900f0ca51e8erow13_col5,#T_0d8f5a40_2bb0_11ed_ad51_900f0ca51e8erow13_col6,#T_0d8f5a40_2bb0_11ed_ad51_900f0ca51e8erow14_col0,#T_0d8f5a40_2bb0_11ed_ad51_900f0ca51e8erow14_col1,#T_0d8f5a40_2bb0_11ed_ad51_900f0ca51e8erow14_col2,#T_0d8f5a40_2bb0_11ed_ad51_900f0ca51e8erow14_col3,#T_0d8f5a40_2bb0_11ed_ad51_900f0ca51e8erow14_col4,#T_0d8f5a40_2bb0_11ed_ad51_900f0ca51e8erow14_col5,#T_0d8f5a40_2bb0_11ed_ad51_900f0ca51e8erow14_col6,#T_0d8f5a40_2bb0_11ed_ad51_900f0ca51e8erow15_col0,#T_0d8f5a40_2bb0_11ed_ad51_900f0ca51e8erow15_col1,#T_0d8f5a40_2bb0_11ed_ad51_900f0ca51e8erow15_col2,#T_0d8f5a40_2bb0_11ed_ad51_900f0ca51e8erow15_col3,#T_0d8f5a40_2bb0_11ed_ad51_900f0ca51e8erow15_col4,#T_0d8f5a40_2bb0_11ed_ad51_900f0ca51e8erow15_col5,#T_0d8f5a40_2bb0_11ed_ad51_900f0ca51e8erow15_col6,#T_0d8f5a40_2bb0_11ed_ad51_900f0ca51e8erow16_col0,#T_0d8f5a40_2bb0_11ed_ad51_900f0ca51e8erow16_col1,#T_0d8f5a40_2bb0_11ed_ad51_900f0ca51e8erow16_col2,#T_0d8f5a40_2bb0_11ed_ad51_900f0ca51e8erow16_col3,#T_0d8f5a40_2bb0_11ed_ad51_900f0ca51e8erow16_col4,#T_0d8f5a40_2bb0_11ed_ad51_900f0ca51e8erow16_col5,#T_0d8f5a40_2bb0_11ed_ad51_900f0ca51e8erow16_col6,#T_0d8f5a40_2bb0_11ed_ad51_900f0ca51e8erow17_col0,#T_0d8f5a40_2bb0_11ed_ad51_900f0ca51e8erow17_col1,#T_0d8f5a40_2bb0_11ed_ad51_900f0ca51e8erow17_col2,#T_0d8f5a40_2bb0_11ed_ad51_900f0ca51e8erow17_col3,#T_0d8f5a40_2bb0_11ed_ad51_900f0ca51e8erow17_col4,#T_0d8f5a40_2bb0_11ed_ad51_900f0ca51e8erow17_col5,#T_0d8f5a40_2bb0_11ed_ad51_900f0ca51e8erow17_col6,#T_0d8f5a40_2bb0_11ed_ad51_900f0ca51e8erow18_col0,#T_0d8f5a40_2bb0_11ed_ad51_900f0ca51e8erow18_col1,#T_0d8f5a40_2bb0_11ed_ad51_900f0ca51e8erow18_col2,#T_0d8f5a40_2bb0_11ed_ad51_900f0ca51e8erow18_col3,#T_0d8f5a40_2bb0_11ed_ad51_900f0ca51e8erow18_col4,#T_0d8f5a40_2bb0_11ed_ad51_900f0ca51e8erow18_col5,#T_0d8f5a40_2bb0_11ed_ad51_900f0ca51e8erow18_col6,#T_0d8f5a40_2bb0_11ed_ad51_900f0ca51e8erow19_col0,#T_0d8f5a40_2bb0_11ed_ad51_900f0ca51e8erow19_col1,#T_0d8f5a40_2bb0_11ed_ad51_900f0ca51e8erow19_col2,#T_0d8f5a40_2bb0_11ed_ad51_900f0ca51e8erow19_col3,#T_0d8f5a40_2bb0_11ed_ad51_900f0ca51e8erow19_col4,#T_0d8f5a40_2bb0_11ed_ad51_900f0ca51e8erow19_col5,#T_0d8f5a40_2bb0_11ed_ad51_900f0ca51e8erow19_col6{\n",
       "            text-align:  left;\n",
       "            text-align:  left;\n",
       "        }#T_0d8f5a40_2bb0_11ed_ad51_900f0ca51e8erow0_col2,#T_0d8f5a40_2bb0_11ed_ad51_900f0ca51e8erow0_col3,#T_0d8f5a40_2bb0_11ed_ad51_900f0ca51e8erow0_col4,#T_0d8f5a40_2bb0_11ed_ad51_900f0ca51e8erow0_col5,#T_0d8f5a40_2bb0_11ed_ad51_900f0ca51e8erow1_col5,#T_0d8f5a40_2bb0_11ed_ad51_900f0ca51e8erow2_col5,#T_0d8f5a40_2bb0_11ed_ad51_900f0ca51e8erow3_col5,#T_0d8f5a40_2bb0_11ed_ad51_900f0ca51e8erow4_col1,#T_0d8f5a40_2bb0_11ed_ad51_900f0ca51e8erow4_col6{\n",
       "            text-align:  left;\n",
       "            text-align:  left;\n",
       "            background-color:  yellow;\n",
       "        }#T_0d8f5a40_2bb0_11ed_ad51_900f0ca51e8erow0_col7,#T_0d8f5a40_2bb0_11ed_ad51_900f0ca51e8erow1_col7,#T_0d8f5a40_2bb0_11ed_ad51_900f0ca51e8erow2_col7,#T_0d8f5a40_2bb0_11ed_ad51_900f0ca51e8erow3_col7,#T_0d8f5a40_2bb0_11ed_ad51_900f0ca51e8erow4_col7,#T_0d8f5a40_2bb0_11ed_ad51_900f0ca51e8erow5_col7,#T_0d8f5a40_2bb0_11ed_ad51_900f0ca51e8erow7_col7,#T_0d8f5a40_2bb0_11ed_ad51_900f0ca51e8erow8_col7,#T_0d8f5a40_2bb0_11ed_ad51_900f0ca51e8erow9_col7,#T_0d8f5a40_2bb0_11ed_ad51_900f0ca51e8erow10_col7,#T_0d8f5a40_2bb0_11ed_ad51_900f0ca51e8erow11_col7,#T_0d8f5a40_2bb0_11ed_ad51_900f0ca51e8erow12_col7,#T_0d8f5a40_2bb0_11ed_ad51_900f0ca51e8erow13_col7,#T_0d8f5a40_2bb0_11ed_ad51_900f0ca51e8erow14_col7,#T_0d8f5a40_2bb0_11ed_ad51_900f0ca51e8erow15_col7,#T_0d8f5a40_2bb0_11ed_ad51_900f0ca51e8erow16_col7,#T_0d8f5a40_2bb0_11ed_ad51_900f0ca51e8erow17_col7,#T_0d8f5a40_2bb0_11ed_ad51_900f0ca51e8erow18_col7,#T_0d8f5a40_2bb0_11ed_ad51_900f0ca51e8erow19_col7{\n",
       "            text-align:  left;\n",
       "            text-align:  left;\n",
       "            background-color:  lightgrey;\n",
       "        }#T_0d8f5a40_2bb0_11ed_ad51_900f0ca51e8erow6_col7{\n",
       "            text-align:  left;\n",
       "            text-align:  left;\n",
       "            background-color:  yellow;\n",
       "            background-color:  lightgrey;\n",
       "        }</style><table id=\"T_0d8f5a40_2bb0_11ed_ad51_900f0ca51e8e\" ><thead>    <tr>        <th class=\"blank level0\" ></th>        <th class=\"col_heading level0 col0\" >Model</th>        <th class=\"col_heading level0 col1\" >MAE</th>        <th class=\"col_heading level0 col2\" >MSE</th>        <th class=\"col_heading level0 col3\" >RMSE</th>        <th class=\"col_heading level0 col4\" >R2</th>        <th class=\"col_heading level0 col5\" >RMSLE</th>        <th class=\"col_heading level0 col6\" >MAPE</th>        <th class=\"col_heading level0 col7\" >TT (Sec)</th>    </tr></thead><tbody>\n",
       "                <tr>\n",
       "                        <th id=\"T_0d8f5a40_2bb0_11ed_ad51_900f0ca51e8elevel0_row0\" class=\"row_heading level0 row0\" >br</th>\n",
       "                        <td id=\"T_0d8f5a40_2bb0_11ed_ad51_900f0ca51e8erow0_col0\" class=\"data row0 col0\" >Bayesian Ridge</td>\n",
       "                        <td id=\"T_0d8f5a40_2bb0_11ed_ad51_900f0ca51e8erow0_col1\" class=\"data row0 col1\" >0.1513</td>\n",
       "                        <td id=\"T_0d8f5a40_2bb0_11ed_ad51_900f0ca51e8erow0_col2\" class=\"data row0 col2\" >0.0367</td>\n",
       "                        <td id=\"T_0d8f5a40_2bb0_11ed_ad51_900f0ca51e8erow0_col3\" class=\"data row0 col3\" >0.1886</td>\n",
       "                        <td id=\"T_0d8f5a40_2bb0_11ed_ad51_900f0ca51e8erow0_col4\" class=\"data row0 col4\" >0.4238</td>\n",
       "                        <td id=\"T_0d8f5a40_2bb0_11ed_ad51_900f0ca51e8erow0_col5\" class=\"data row0 col5\" >0.0149</td>\n",
       "                        <td id=\"T_0d8f5a40_2bb0_11ed_ad51_900f0ca51e8erow0_col6\" class=\"data row0 col6\" >0.0130</td>\n",
       "                        <td id=\"T_0d8f5a40_2bb0_11ed_ad51_900f0ca51e8erow0_col7\" class=\"data row0 col7\" >0.0080</td>\n",
       "            </tr>\n",
       "            <tr>\n",
       "                        <th id=\"T_0d8f5a40_2bb0_11ed_ad51_900f0ca51e8elevel0_row1\" class=\"row_heading level0 row1\" >ridge</th>\n",
       "                        <td id=\"T_0d8f5a40_2bb0_11ed_ad51_900f0ca51e8erow1_col0\" class=\"data row1 col0\" >Ridge Regression</td>\n",
       "                        <td id=\"T_0d8f5a40_2bb0_11ed_ad51_900f0ca51e8erow1_col1\" class=\"data row1 col1\" >0.1512</td>\n",
       "                        <td id=\"T_0d8f5a40_2bb0_11ed_ad51_900f0ca51e8erow1_col2\" class=\"data row1 col2\" >0.0368</td>\n",
       "                        <td id=\"T_0d8f5a40_2bb0_11ed_ad51_900f0ca51e8erow1_col3\" class=\"data row1 col3\" >0.1887</td>\n",
       "                        <td id=\"T_0d8f5a40_2bb0_11ed_ad51_900f0ca51e8erow1_col4\" class=\"data row1 col4\" >0.4230</td>\n",
       "                        <td id=\"T_0d8f5a40_2bb0_11ed_ad51_900f0ca51e8erow1_col5\" class=\"data row1 col5\" >0.0149</td>\n",
       "                        <td id=\"T_0d8f5a40_2bb0_11ed_ad51_900f0ca51e8erow1_col6\" class=\"data row1 col6\" >0.0130</td>\n",
       "                        <td id=\"T_0d8f5a40_2bb0_11ed_ad51_900f0ca51e8erow1_col7\" class=\"data row1 col7\" >0.0080</td>\n",
       "            </tr>\n",
       "            <tr>\n",
       "                        <th id=\"T_0d8f5a40_2bb0_11ed_ad51_900f0ca51e8elevel0_row2\" class=\"row_heading level0 row2\" >lr</th>\n",
       "                        <td id=\"T_0d8f5a40_2bb0_11ed_ad51_900f0ca51e8erow2_col0\" class=\"data row2 col0\" >Linear Regression</td>\n",
       "                        <td id=\"T_0d8f5a40_2bb0_11ed_ad51_900f0ca51e8erow2_col1\" class=\"data row2 col1\" >0.1512</td>\n",
       "                        <td id=\"T_0d8f5a40_2bb0_11ed_ad51_900f0ca51e8erow2_col2\" class=\"data row2 col2\" >0.0368</td>\n",
       "                        <td id=\"T_0d8f5a40_2bb0_11ed_ad51_900f0ca51e8erow2_col3\" class=\"data row2 col3\" >0.1888</td>\n",
       "                        <td id=\"T_0d8f5a40_2bb0_11ed_ad51_900f0ca51e8erow2_col4\" class=\"data row2 col4\" >0.4222</td>\n",
       "                        <td id=\"T_0d8f5a40_2bb0_11ed_ad51_900f0ca51e8erow2_col5\" class=\"data row2 col5\" >0.0149</td>\n",
       "                        <td id=\"T_0d8f5a40_2bb0_11ed_ad51_900f0ca51e8erow2_col6\" class=\"data row2 col6\" >0.0130</td>\n",
       "                        <td id=\"T_0d8f5a40_2bb0_11ed_ad51_900f0ca51e8erow2_col7\" class=\"data row2 col7\" >0.7240</td>\n",
       "            </tr>\n",
       "            <tr>\n",
       "                        <th id=\"T_0d8f5a40_2bb0_11ed_ad51_900f0ca51e8elevel0_row3\" class=\"row_heading level0 row3\" >lar</th>\n",
       "                        <td id=\"T_0d8f5a40_2bb0_11ed_ad51_900f0ca51e8erow3_col0\" class=\"data row3 col0\" >Least Angle Regression</td>\n",
       "                        <td id=\"T_0d8f5a40_2bb0_11ed_ad51_900f0ca51e8erow3_col1\" class=\"data row3 col1\" >0.1512</td>\n",
       "                        <td id=\"T_0d8f5a40_2bb0_11ed_ad51_900f0ca51e8erow3_col2\" class=\"data row3 col2\" >0.0368</td>\n",
       "                        <td id=\"T_0d8f5a40_2bb0_11ed_ad51_900f0ca51e8erow3_col3\" class=\"data row3 col3\" >0.1888</td>\n",
       "                        <td id=\"T_0d8f5a40_2bb0_11ed_ad51_900f0ca51e8erow3_col4\" class=\"data row3 col4\" >0.4222</td>\n",
       "                        <td id=\"T_0d8f5a40_2bb0_11ed_ad51_900f0ca51e8erow3_col5\" class=\"data row3 col5\" >0.0149</td>\n",
       "                        <td id=\"T_0d8f5a40_2bb0_11ed_ad51_900f0ca51e8erow3_col6\" class=\"data row3 col6\" >0.0130</td>\n",
       "                        <td id=\"T_0d8f5a40_2bb0_11ed_ad51_900f0ca51e8erow3_col7\" class=\"data row3 col7\" >0.0070</td>\n",
       "            </tr>\n",
       "            <tr>\n",
       "                        <th id=\"T_0d8f5a40_2bb0_11ed_ad51_900f0ca51e8elevel0_row4\" class=\"row_heading level0 row4\" >huber</th>\n",
       "                        <td id=\"T_0d8f5a40_2bb0_11ed_ad51_900f0ca51e8erow4_col0\" class=\"data row4 col0\" >Huber Regressor</td>\n",
       "                        <td id=\"T_0d8f5a40_2bb0_11ed_ad51_900f0ca51e8erow4_col1\" class=\"data row4 col1\" >0.1501</td>\n",
       "                        <td id=\"T_0d8f5a40_2bb0_11ed_ad51_900f0ca51e8erow4_col2\" class=\"data row4 col2\" >0.0372</td>\n",
       "                        <td id=\"T_0d8f5a40_2bb0_11ed_ad51_900f0ca51e8erow4_col3\" class=\"data row4 col3\" >0.1902</td>\n",
       "                        <td id=\"T_0d8f5a40_2bb0_11ed_ad51_900f0ca51e8erow4_col4\" class=\"data row4 col4\" >0.4122</td>\n",
       "                        <td id=\"T_0d8f5a40_2bb0_11ed_ad51_900f0ca51e8erow4_col5\" class=\"data row4 col5\" >0.0150</td>\n",
       "                        <td id=\"T_0d8f5a40_2bb0_11ed_ad51_900f0ca51e8erow4_col6\" class=\"data row4 col6\" >0.0128</td>\n",
       "                        <td id=\"T_0d8f5a40_2bb0_11ed_ad51_900f0ca51e8erow4_col7\" class=\"data row4 col7\" >0.0100</td>\n",
       "            </tr>\n",
       "            <tr>\n",
       "                        <th id=\"T_0d8f5a40_2bb0_11ed_ad51_900f0ca51e8elevel0_row5\" class=\"row_heading level0 row5\" >lightgbm</th>\n",
       "                        <td id=\"T_0d8f5a40_2bb0_11ed_ad51_900f0ca51e8erow5_col0\" class=\"data row5 col0\" >Light Gradient Boosting Machine</td>\n",
       "                        <td id=\"T_0d8f5a40_2bb0_11ed_ad51_900f0ca51e8erow5_col1\" class=\"data row5 col1\" >0.1538</td>\n",
       "                        <td id=\"T_0d8f5a40_2bb0_11ed_ad51_900f0ca51e8erow5_col2\" class=\"data row5 col2\" >0.0392</td>\n",
       "                        <td id=\"T_0d8f5a40_2bb0_11ed_ad51_900f0ca51e8erow5_col3\" class=\"data row5 col3\" >0.1942</td>\n",
       "                        <td id=\"T_0d8f5a40_2bb0_11ed_ad51_900f0ca51e8erow5_col4\" class=\"data row5 col4\" >0.3797</td>\n",
       "                        <td id=\"T_0d8f5a40_2bb0_11ed_ad51_900f0ca51e8erow5_col5\" class=\"data row5 col5\" >0.0153</td>\n",
       "                        <td id=\"T_0d8f5a40_2bb0_11ed_ad51_900f0ca51e8erow5_col6\" class=\"data row5 col6\" >0.0132</td>\n",
       "                        <td id=\"T_0d8f5a40_2bb0_11ed_ad51_900f0ca51e8erow5_col7\" class=\"data row5 col7\" >0.0320</td>\n",
       "            </tr>\n",
       "            <tr>\n",
       "                        <th id=\"T_0d8f5a40_2bb0_11ed_ad51_900f0ca51e8elevel0_row6\" class=\"row_heading level0 row6\" >omp</th>\n",
       "                        <td id=\"T_0d8f5a40_2bb0_11ed_ad51_900f0ca51e8erow6_col0\" class=\"data row6 col0\" >Orthogonal Matching Pursuit</td>\n",
       "                        <td id=\"T_0d8f5a40_2bb0_11ed_ad51_900f0ca51e8erow6_col1\" class=\"data row6 col1\" >0.1647</td>\n",
       "                        <td id=\"T_0d8f5a40_2bb0_11ed_ad51_900f0ca51e8erow6_col2\" class=\"data row6 col2\" >0.0404</td>\n",
       "                        <td id=\"T_0d8f5a40_2bb0_11ed_ad51_900f0ca51e8erow6_col3\" class=\"data row6 col3\" >0.1982</td>\n",
       "                        <td id=\"T_0d8f5a40_2bb0_11ed_ad51_900f0ca51e8erow6_col4\" class=\"data row6 col4\" >0.3647</td>\n",
       "                        <td id=\"T_0d8f5a40_2bb0_11ed_ad51_900f0ca51e8erow6_col5\" class=\"data row6 col5\" >0.0156</td>\n",
       "                        <td id=\"T_0d8f5a40_2bb0_11ed_ad51_900f0ca51e8erow6_col6\" class=\"data row6 col6\" >0.0141</td>\n",
       "                        <td id=\"T_0d8f5a40_2bb0_11ed_ad51_900f0ca51e8erow6_col7\" class=\"data row6 col7\" >0.0060</td>\n",
       "            </tr>\n",
       "            <tr>\n",
       "                        <th id=\"T_0d8f5a40_2bb0_11ed_ad51_900f0ca51e8elevel0_row7\" class=\"row_heading level0 row7\" >catboost</th>\n",
       "                        <td id=\"T_0d8f5a40_2bb0_11ed_ad51_900f0ca51e8erow7_col0\" class=\"data row7 col0\" >CatBoost Regressor</td>\n",
       "                        <td id=\"T_0d8f5a40_2bb0_11ed_ad51_900f0ca51e8erow7_col1\" class=\"data row7 col1\" >0.1509</td>\n",
       "                        <td id=\"T_0d8f5a40_2bb0_11ed_ad51_900f0ca51e8erow7_col2\" class=\"data row7 col2\" >0.0396</td>\n",
       "                        <td id=\"T_0d8f5a40_2bb0_11ed_ad51_900f0ca51e8erow7_col3\" class=\"data row7 col3\" >0.1946</td>\n",
       "                        <td id=\"T_0d8f5a40_2bb0_11ed_ad51_900f0ca51e8erow7_col4\" class=\"data row7 col4\" >0.3598</td>\n",
       "                        <td id=\"T_0d8f5a40_2bb0_11ed_ad51_900f0ca51e8erow7_col5\" class=\"data row7 col5\" >0.0153</td>\n",
       "                        <td id=\"T_0d8f5a40_2bb0_11ed_ad51_900f0ca51e8erow7_col6\" class=\"data row7 col6\" >0.0129</td>\n",
       "                        <td id=\"T_0d8f5a40_2bb0_11ed_ad51_900f0ca51e8erow7_col7\" class=\"data row7 col7\" >0.1450</td>\n",
       "            </tr>\n",
       "            <tr>\n",
       "                        <th id=\"T_0d8f5a40_2bb0_11ed_ad51_900f0ca51e8elevel0_row8\" class=\"row_heading level0 row8\" >ada</th>\n",
       "                        <td id=\"T_0d8f5a40_2bb0_11ed_ad51_900f0ca51e8erow8_col0\" class=\"data row8 col0\" >AdaBoost Regressor</td>\n",
       "                        <td id=\"T_0d8f5a40_2bb0_11ed_ad51_900f0ca51e8erow8_col1\" class=\"data row8 col1\" >0.1543</td>\n",
       "                        <td id=\"T_0d8f5a40_2bb0_11ed_ad51_900f0ca51e8erow8_col2\" class=\"data row8 col2\" >0.0404</td>\n",
       "                        <td id=\"T_0d8f5a40_2bb0_11ed_ad51_900f0ca51e8erow8_col3\" class=\"data row8 col3\" >0.1969</td>\n",
       "                        <td id=\"T_0d8f5a40_2bb0_11ed_ad51_900f0ca51e8erow8_col4\" class=\"data row8 col4\" >0.3431</td>\n",
       "                        <td id=\"T_0d8f5a40_2bb0_11ed_ad51_900f0ca51e8erow8_col5\" class=\"data row8 col5\" >0.0155</td>\n",
       "                        <td id=\"T_0d8f5a40_2bb0_11ed_ad51_900f0ca51e8erow8_col6\" class=\"data row8 col6\" >0.0132</td>\n",
       "                        <td id=\"T_0d8f5a40_2bb0_11ed_ad51_900f0ca51e8erow8_col7\" class=\"data row8 col7\" >0.0150</td>\n",
       "            </tr>\n",
       "            <tr>\n",
       "                        <th id=\"T_0d8f5a40_2bb0_11ed_ad51_900f0ca51e8elevel0_row9\" class=\"row_heading level0 row9\" >rf</th>\n",
       "                        <td id=\"T_0d8f5a40_2bb0_11ed_ad51_900f0ca51e8erow9_col0\" class=\"data row9 col0\" >Random Forest Regressor</td>\n",
       "                        <td id=\"T_0d8f5a40_2bb0_11ed_ad51_900f0ca51e8erow9_col1\" class=\"data row9 col1\" >0.1536</td>\n",
       "                        <td id=\"T_0d8f5a40_2bb0_11ed_ad51_900f0ca51e8erow9_col2\" class=\"data row9 col2\" >0.0408</td>\n",
       "                        <td id=\"T_0d8f5a40_2bb0_11ed_ad51_900f0ca51e8erow9_col3\" class=\"data row9 col3\" >0.1968</td>\n",
       "                        <td id=\"T_0d8f5a40_2bb0_11ed_ad51_900f0ca51e8erow9_col4\" class=\"data row9 col4\" >0.3290</td>\n",
       "                        <td id=\"T_0d8f5a40_2bb0_11ed_ad51_900f0ca51e8erow9_col5\" class=\"data row9 col5\" >0.0155</td>\n",
       "                        <td id=\"T_0d8f5a40_2bb0_11ed_ad51_900f0ca51e8erow9_col6\" class=\"data row9 col6\" >0.0132</td>\n",
       "                        <td id=\"T_0d8f5a40_2bb0_11ed_ad51_900f0ca51e8erow9_col7\" class=\"data row9 col7\" >0.1090</td>\n",
       "            </tr>\n",
       "            <tr>\n",
       "                        <th id=\"T_0d8f5a40_2bb0_11ed_ad51_900f0ca51e8elevel0_row10\" class=\"row_heading level0 row10\" >knn</th>\n",
       "                        <td id=\"T_0d8f5a40_2bb0_11ed_ad51_900f0ca51e8erow10_col0\" class=\"data row10 col0\" >K Neighbors Regressor</td>\n",
       "                        <td id=\"T_0d8f5a40_2bb0_11ed_ad51_900f0ca51e8erow10_col1\" class=\"data row10 col1\" >0.1530</td>\n",
       "                        <td id=\"T_0d8f5a40_2bb0_11ed_ad51_900f0ca51e8erow10_col2\" class=\"data row10 col2\" >0.0411</td>\n",
       "                        <td id=\"T_0d8f5a40_2bb0_11ed_ad51_900f0ca51e8erow10_col3\" class=\"data row10 col3\" >0.1989</td>\n",
       "                        <td id=\"T_0d8f5a40_2bb0_11ed_ad51_900f0ca51e8erow10_col4\" class=\"data row10 col4\" >0.3228</td>\n",
       "                        <td id=\"T_0d8f5a40_2bb0_11ed_ad51_900f0ca51e8erow10_col5\" class=\"data row10 col5\" >0.0157</td>\n",
       "                        <td id=\"T_0d8f5a40_2bb0_11ed_ad51_900f0ca51e8erow10_col6\" class=\"data row10 col6\" >0.0131</td>\n",
       "                        <td id=\"T_0d8f5a40_2bb0_11ed_ad51_900f0ca51e8erow10_col7\" class=\"data row10 col7\" >0.0280</td>\n",
       "            </tr>\n",
       "            <tr>\n",
       "                        <th id=\"T_0d8f5a40_2bb0_11ed_ad51_900f0ca51e8elevel0_row11\" class=\"row_heading level0 row11\" >gbr</th>\n",
       "                        <td id=\"T_0d8f5a40_2bb0_11ed_ad51_900f0ca51e8erow11_col0\" class=\"data row11 col0\" >Gradient Boosting Regressor</td>\n",
       "                        <td id=\"T_0d8f5a40_2bb0_11ed_ad51_900f0ca51e8erow11_col1\" class=\"data row11 col1\" >0.1551</td>\n",
       "                        <td id=\"T_0d8f5a40_2bb0_11ed_ad51_900f0ca51e8erow11_col2\" class=\"data row11 col2\" >0.0419</td>\n",
       "                        <td id=\"T_0d8f5a40_2bb0_11ed_ad51_900f0ca51e8erow11_col3\" class=\"data row11 col3\" >0.1992</td>\n",
       "                        <td id=\"T_0d8f5a40_2bb0_11ed_ad51_900f0ca51e8erow11_col4\" class=\"data row11 col4\" >0.3199</td>\n",
       "                        <td id=\"T_0d8f5a40_2bb0_11ed_ad51_900f0ca51e8erow11_col5\" class=\"data row11 col5\" >0.0157</td>\n",
       "                        <td id=\"T_0d8f5a40_2bb0_11ed_ad51_900f0ca51e8erow11_col6\" class=\"data row11 col6\" >0.0133</td>\n",
       "                        <td id=\"T_0d8f5a40_2bb0_11ed_ad51_900f0ca51e8erow11_col7\" class=\"data row11 col7\" >0.0150</td>\n",
       "            </tr>\n",
       "            <tr>\n",
       "                        <th id=\"T_0d8f5a40_2bb0_11ed_ad51_900f0ca51e8elevel0_row12\" class=\"row_heading level0 row12\" >et</th>\n",
       "                        <td id=\"T_0d8f5a40_2bb0_11ed_ad51_900f0ca51e8erow12_col0\" class=\"data row12 col0\" >Extra Trees Regressor</td>\n",
       "                        <td id=\"T_0d8f5a40_2bb0_11ed_ad51_900f0ca51e8erow12_col1\" class=\"data row12 col1\" >0.1631</td>\n",
       "                        <td id=\"T_0d8f5a40_2bb0_11ed_ad51_900f0ca51e8erow12_col2\" class=\"data row12 col2\" >0.0493</td>\n",
       "                        <td id=\"T_0d8f5a40_2bb0_11ed_ad51_900f0ca51e8erow12_col3\" class=\"data row12 col3\" >0.2176</td>\n",
       "                        <td id=\"T_0d8f5a40_2bb0_11ed_ad51_900f0ca51e8erow12_col4\" class=\"data row12 col4\" >0.1757</td>\n",
       "                        <td id=\"T_0d8f5a40_2bb0_11ed_ad51_900f0ca51e8erow12_col5\" class=\"data row12 col5\" >0.0172</td>\n",
       "                        <td id=\"T_0d8f5a40_2bb0_11ed_ad51_900f0ca51e8erow12_col6\" class=\"data row12 col6\" >0.0140</td>\n",
       "                        <td id=\"T_0d8f5a40_2bb0_11ed_ad51_900f0ca51e8erow12_col7\" class=\"data row12 col7\" >0.0900</td>\n",
       "            </tr>\n",
       "            <tr>\n",
       "                        <th id=\"T_0d8f5a40_2bb0_11ed_ad51_900f0ca51e8elevel0_row13\" class=\"row_heading level0 row13\" >dt</th>\n",
       "                        <td id=\"T_0d8f5a40_2bb0_11ed_ad51_900f0ca51e8erow13_col0\" class=\"data row13 col0\" >Decision Tree Regressor</td>\n",
       "                        <td id=\"T_0d8f5a40_2bb0_11ed_ad51_900f0ca51e8erow13_col1\" class=\"data row13 col1\" >0.1650</td>\n",
       "                        <td id=\"T_0d8f5a40_2bb0_11ed_ad51_900f0ca51e8erow13_col2\" class=\"data row13 col2\" >0.0524</td>\n",
       "                        <td id=\"T_0d8f5a40_2bb0_11ed_ad51_900f0ca51e8erow13_col3\" class=\"data row13 col3\" >0.2200</td>\n",
       "                        <td id=\"T_0d8f5a40_2bb0_11ed_ad51_900f0ca51e8erow13_col4\" class=\"data row13 col4\" >0.1436</td>\n",
       "                        <td id=\"T_0d8f5a40_2bb0_11ed_ad51_900f0ca51e8erow13_col5\" class=\"data row13 col5\" >0.0173</td>\n",
       "                        <td id=\"T_0d8f5a40_2bb0_11ed_ad51_900f0ca51e8erow13_col6\" class=\"data row13 col6\" >0.0142</td>\n",
       "                        <td id=\"T_0d8f5a40_2bb0_11ed_ad51_900f0ca51e8erow13_col7\" class=\"data row13 col7\" >0.0090</td>\n",
       "            </tr>\n",
       "            <tr>\n",
       "                        <th id=\"T_0d8f5a40_2bb0_11ed_ad51_900f0ca51e8elevel0_row14\" class=\"row_heading level0 row14\" >xgboost</th>\n",
       "                        <td id=\"T_0d8f5a40_2bb0_11ed_ad51_900f0ca51e8erow14_col0\" class=\"data row14 col0\" >Extreme Gradient Boosting</td>\n",
       "                        <td id=\"T_0d8f5a40_2bb0_11ed_ad51_900f0ca51e8erow14_col1\" class=\"data row14 col1\" >0.1748</td>\n",
       "                        <td id=\"T_0d8f5a40_2bb0_11ed_ad51_900f0ca51e8erow14_col2\" class=\"data row14 col2\" >0.0530</td>\n",
       "                        <td id=\"T_0d8f5a40_2bb0_11ed_ad51_900f0ca51e8erow14_col3\" class=\"data row14 col3\" >0.2254</td>\n",
       "                        <td id=\"T_0d8f5a40_2bb0_11ed_ad51_900f0ca51e8erow14_col4\" class=\"data row14 col4\" >0.1391</td>\n",
       "                        <td id=\"T_0d8f5a40_2bb0_11ed_ad51_900f0ca51e8erow14_col5\" class=\"data row14 col5\" >0.0178</td>\n",
       "                        <td id=\"T_0d8f5a40_2bb0_11ed_ad51_900f0ca51e8erow14_col6\" class=\"data row14 col6\" >0.0150</td>\n",
       "                        <td id=\"T_0d8f5a40_2bb0_11ed_ad51_900f0ca51e8erow14_col7\" class=\"data row14 col7\" >0.0940</td>\n",
       "            </tr>\n",
       "            <tr>\n",
       "                        <th id=\"T_0d8f5a40_2bb0_11ed_ad51_900f0ca51e8elevel0_row15\" class=\"row_heading level0 row15\" >lasso</th>\n",
       "                        <td id=\"T_0d8f5a40_2bb0_11ed_ad51_900f0ca51e8erow15_col0\" class=\"data row15 col0\" >Lasso Regression</td>\n",
       "                        <td id=\"T_0d8f5a40_2bb0_11ed_ad51_900f0ca51e8erow15_col1\" class=\"data row15 col1\" >0.2090</td>\n",
       "                        <td id=\"T_0d8f5a40_2bb0_11ed_ad51_900f0ca51e8erow15_col2\" class=\"data row15 col2\" >0.0667</td>\n",
       "                        <td id=\"T_0d8f5a40_2bb0_11ed_ad51_900f0ca51e8erow15_col3\" class=\"data row15 col3\" >0.2567</td>\n",
       "                        <td id=\"T_0d8f5a40_2bb0_11ed_ad51_900f0ca51e8erow15_col4\" class=\"data row15 col4\" >-0.0397</td>\n",
       "                        <td id=\"T_0d8f5a40_2bb0_11ed_ad51_900f0ca51e8erow15_col5\" class=\"data row15 col5\" >0.0203</td>\n",
       "                        <td id=\"T_0d8f5a40_2bb0_11ed_ad51_900f0ca51e8erow15_col6\" class=\"data row15 col6\" >0.0180</td>\n",
       "                        <td id=\"T_0d8f5a40_2bb0_11ed_ad51_900f0ca51e8erow15_col7\" class=\"data row15 col7\" >0.2860</td>\n",
       "            </tr>\n",
       "            <tr>\n",
       "                        <th id=\"T_0d8f5a40_2bb0_11ed_ad51_900f0ca51e8elevel0_row16\" class=\"row_heading level0 row16\" >en</th>\n",
       "                        <td id=\"T_0d8f5a40_2bb0_11ed_ad51_900f0ca51e8erow16_col0\" class=\"data row16 col0\" >Elastic Net</td>\n",
       "                        <td id=\"T_0d8f5a40_2bb0_11ed_ad51_900f0ca51e8erow16_col1\" class=\"data row16 col1\" >0.2090</td>\n",
       "                        <td id=\"T_0d8f5a40_2bb0_11ed_ad51_900f0ca51e8erow16_col2\" class=\"data row16 col2\" >0.0667</td>\n",
       "                        <td id=\"T_0d8f5a40_2bb0_11ed_ad51_900f0ca51e8erow16_col3\" class=\"data row16 col3\" >0.2567</td>\n",
       "                        <td id=\"T_0d8f5a40_2bb0_11ed_ad51_900f0ca51e8erow16_col4\" class=\"data row16 col4\" >-0.0397</td>\n",
       "                        <td id=\"T_0d8f5a40_2bb0_11ed_ad51_900f0ca51e8erow16_col5\" class=\"data row16 col5\" >0.0203</td>\n",
       "                        <td id=\"T_0d8f5a40_2bb0_11ed_ad51_900f0ca51e8erow16_col6\" class=\"data row16 col6\" >0.0180</td>\n",
       "                        <td id=\"T_0d8f5a40_2bb0_11ed_ad51_900f0ca51e8erow16_col7\" class=\"data row16 col7\" >0.0100</td>\n",
       "            </tr>\n",
       "            <tr>\n",
       "                        <th id=\"T_0d8f5a40_2bb0_11ed_ad51_900f0ca51e8elevel0_row17\" class=\"row_heading level0 row17\" >llar</th>\n",
       "                        <td id=\"T_0d8f5a40_2bb0_11ed_ad51_900f0ca51e8erow17_col0\" class=\"data row17 col0\" >Lasso Least Angle Regression</td>\n",
       "                        <td id=\"T_0d8f5a40_2bb0_11ed_ad51_900f0ca51e8erow17_col1\" class=\"data row17 col1\" >0.2090</td>\n",
       "                        <td id=\"T_0d8f5a40_2bb0_11ed_ad51_900f0ca51e8erow17_col2\" class=\"data row17 col2\" >0.0667</td>\n",
       "                        <td id=\"T_0d8f5a40_2bb0_11ed_ad51_900f0ca51e8erow17_col3\" class=\"data row17 col3\" >0.2567</td>\n",
       "                        <td id=\"T_0d8f5a40_2bb0_11ed_ad51_900f0ca51e8erow17_col4\" class=\"data row17 col4\" >-0.0397</td>\n",
       "                        <td id=\"T_0d8f5a40_2bb0_11ed_ad51_900f0ca51e8erow17_col5\" class=\"data row17 col5\" >0.0203</td>\n",
       "                        <td id=\"T_0d8f5a40_2bb0_11ed_ad51_900f0ca51e8erow17_col6\" class=\"data row17 col6\" >0.0180</td>\n",
       "                        <td id=\"T_0d8f5a40_2bb0_11ed_ad51_900f0ca51e8erow17_col7\" class=\"data row17 col7\" >0.0080</td>\n",
       "            </tr>\n",
       "            <tr>\n",
       "                        <th id=\"T_0d8f5a40_2bb0_11ed_ad51_900f0ca51e8elevel0_row18\" class=\"row_heading level0 row18\" >dummy</th>\n",
       "                        <td id=\"T_0d8f5a40_2bb0_11ed_ad51_900f0ca51e8erow18_col0\" class=\"data row18 col0\" >Dummy Regressor</td>\n",
       "                        <td id=\"T_0d8f5a40_2bb0_11ed_ad51_900f0ca51e8erow18_col1\" class=\"data row18 col1\" >0.2090</td>\n",
       "                        <td id=\"T_0d8f5a40_2bb0_11ed_ad51_900f0ca51e8erow18_col2\" class=\"data row18 col2\" >0.0667</td>\n",
       "                        <td id=\"T_0d8f5a40_2bb0_11ed_ad51_900f0ca51e8erow18_col3\" class=\"data row18 col3\" >0.2567</td>\n",
       "                        <td id=\"T_0d8f5a40_2bb0_11ed_ad51_900f0ca51e8erow18_col4\" class=\"data row18 col4\" >-0.0397</td>\n",
       "                        <td id=\"T_0d8f5a40_2bb0_11ed_ad51_900f0ca51e8erow18_col5\" class=\"data row18 col5\" >0.0203</td>\n",
       "                        <td id=\"T_0d8f5a40_2bb0_11ed_ad51_900f0ca51e8erow18_col6\" class=\"data row18 col6\" >0.0180</td>\n",
       "                        <td id=\"T_0d8f5a40_2bb0_11ed_ad51_900f0ca51e8erow18_col7\" class=\"data row18 col7\" >0.0070</td>\n",
       "            </tr>\n",
       "            <tr>\n",
       "                        <th id=\"T_0d8f5a40_2bb0_11ed_ad51_900f0ca51e8elevel0_row19\" class=\"row_heading level0 row19\" >par</th>\n",
       "                        <td id=\"T_0d8f5a40_2bb0_11ed_ad51_900f0ca51e8erow19_col0\" class=\"data row19 col0\" >Passive Aggressive Regressor</td>\n",
       "                        <td id=\"T_0d8f5a40_2bb0_11ed_ad51_900f0ca51e8erow19_col1\" class=\"data row19 col1\" >0.2377</td>\n",
       "                        <td id=\"T_0d8f5a40_2bb0_11ed_ad51_900f0ca51e8erow19_col2\" class=\"data row19 col2\" >0.1201</td>\n",
       "                        <td id=\"T_0d8f5a40_2bb0_11ed_ad51_900f0ca51e8erow19_col3\" class=\"data row19 col3\" >0.3021</td>\n",
       "                        <td id=\"T_0d8f5a40_2bb0_11ed_ad51_900f0ca51e8erow19_col4\" class=\"data row19 col4\" >-1.0808</td>\n",
       "                        <td id=\"T_0d8f5a40_2bb0_11ed_ad51_900f0ca51e8erow19_col5\" class=\"data row19 col5\" >0.0240</td>\n",
       "                        <td id=\"T_0d8f5a40_2bb0_11ed_ad51_900f0ca51e8erow19_col6\" class=\"data row19 col6\" >0.0203</td>\n",
       "                        <td id=\"T_0d8f5a40_2bb0_11ed_ad51_900f0ca51e8erow19_col7\" class=\"data row19 col7\" >0.0100</td>\n",
       "            </tr>\n",
       "    </tbody></table>"
      ],
      "text/plain": [
       "<pandas.io.formats.style.Styler at 0x1e6bd8f4cf8>"
      ]
     },
     "metadata": {},
     "output_type": "display_data"
    },
    {
     "data": {
      "text/plain": [
       "BayesianRidge(alpha_1=1e-06, alpha_2=1e-06, alpha_init=None,\n",
       "              compute_score=False, copy_X=True, fit_intercept=True,\n",
       "              lambda_1=1e-06, lambda_2=1e-06, lambda_init=None, n_iter=300,\n",
       "              normalize=False, tol=0.001, verbose=False)"
      ]
     },
     "execution_count": 40,
     "metadata": {},
     "output_type": "execute_result"
    }
   ],
   "source": [
    "compare_models()"
   ]
  },
  {
   "cell_type": "markdown",
   "id": "68c3bd55",
   "metadata": {},
   "source": [
    "## Baseline  model"
   ]
  },
  {
   "cell_type": "code",
   "execution_count": 41,
   "id": "5dc21fcf",
   "metadata": {},
   "outputs": [],
   "source": [
    "# baseline_model = AdaBoostRegressor(base_estimator=None, learning_rate=1.0, loss='linear',\n",
    "#                   n_estimators=50, random_state=2)\n",
    "\n",
    "# baseline_model = OrthogonalMatchingPursuit(fit_intercept=True, n_nonzero_coefs=None,\n",
    "#                           normalize=True, precompute='auto', tol=None)\n",
    "\n",
    "\n",
    "baseline_model = BayesianRidge(alpha_1=1e-06, alpha_2=1e-06, alpha_init=None,\n",
    "              compute_score=False, copy_X=True, fit_intercept=True,\n",
    "              lambda_1=1e-06, lambda_2=1e-06, lambda_init=None, n_iter=300,\n",
    "              normalize=False, tol=0.001, verbose=False)\n",
    "\n",
    "\n",
    "# baseline_model = Ridge(alpha=1.0, copy_X=True, fit_intercept=True, max_iter=None,\n",
    "#       normalize=False, random_state=2, solver='auto', tol=0.001)\n",
    "\n",
    "# baseline_model = lgb.LGBMRegressor(boosting_type='gbdt', class_weight=None, colsample_bytree=1.0,\n",
    "#               importance_type='split', learning_rate=0.1, max_depth=-1,\n",
    "#               min_child_samples=20, min_child_weight=0.001, min_split_gain=0.0,\n",
    "#               n_estimators=100, n_jobs=-1, num_leaves=31, objective=None,\n",
    "#               random_state=2, reg_alpha=0.0, reg_lambda=0.0, silent='warn',\n",
    "#               subsample=1.0, subsample_for_bin=200000, subsample_freq=0)"
   ]
  },
  {
   "cell_type": "code",
   "execution_count": 42,
   "id": "a3842cb4",
   "metadata": {},
   "outputs": [
    {
     "data": {
      "text/plain": [
       "BayesianRidge(alpha_1=1e-06, alpha_2=1e-06, alpha_init=None,\n",
       "              compute_score=False, copy_X=True, fit_intercept=True,\n",
       "              lambda_1=1e-06, lambda_2=1e-06, lambda_init=None, n_iter=300,\n",
       "              normalize=False, tol=0.001, verbose=False)"
      ]
     },
     "execution_count": 42,
     "metadata": {},
     "output_type": "execute_result"
    }
   ],
   "source": [
    "baseline_model.fit(x_train, y_train)"
   ]
  },
  {
   "cell_type": "code",
   "execution_count": 43,
   "id": "f498e3b4",
   "metadata": {},
   "outputs": [],
   "source": [
    "kf = KFold(n_splits = 5)\n",
    "results = cross_val_score(baseline_model, x_train, y_train, scoring='neg_mean_squared_error', cv=kf)"
   ]
  },
  {
   "cell_type": "code",
   "execution_count": 44,
   "id": "b2eee2df",
   "metadata": {},
   "outputs": [
    {
     "data": {
      "text/plain": [
       "array([0.04576521, 0.03980941, 0.03988561, 0.03227291, 0.03313851])"
      ]
     },
     "execution_count": 44,
     "metadata": {},
     "output_type": "execute_result"
    }
   ],
   "source": [
    "-results"
   ]
  },
  {
   "cell_type": "code",
   "execution_count": 45,
   "id": "4b66dcf0",
   "metadata": {},
   "outputs": [
    {
     "data": {
      "text/plain": [
       "1.2157759664887462"
      ]
     },
     "execution_count": 45,
     "metadata": {},
     "output_type": "execute_result"
    }
   ],
   "source": [
    "np.exp(np.sqrt(np.mean(-results)))"
   ]
  },
  {
   "cell_type": "code",
   "execution_count": 46,
   "id": "a97197cd",
   "metadata": {
    "scrolled": true
   },
   "outputs": [
    {
     "data": {
      "text/plain": [
       "147    156938.0\n",
       "49      70768.0\n",
       "314    146800.0\n",
       "392    103106.0\n",
       "179     92000.0\n",
       "         ...   \n",
       "274     78500.0\n",
       "334    104542.0\n",
       "263    126000.0\n",
       "180    142467.0\n",
       "114    105000.0\n",
       "Name: salary, Length: 80, dtype: float64"
      ]
     },
     "execution_count": 46,
     "metadata": {},
     "output_type": "execute_result"
    }
   ],
   "source": [
    "np.exp(y_test)"
   ]
  },
  {
   "cell_type": "code",
   "execution_count": 47,
   "id": "6261c39e",
   "metadata": {
    "scrolled": false
   },
   "outputs": [
    {
     "data": {
      "text/html": [
       "<div>\n",
       "<style scoped>\n",
       "    .dataframe tbody tr th:only-of-type {\n",
       "        vertical-align: middle;\n",
       "    }\n",
       "\n",
       "    .dataframe tbody tr th {\n",
       "        vertical-align: top;\n",
       "    }\n",
       "\n",
       "    .dataframe thead th {\n",
       "        text-align: right;\n",
       "    }\n",
       "</style>\n",
       "<table border=\"1\" class=\"dataframe\">\n",
       "  <thead>\n",
       "    <tr style=\"text-align: right;\">\n",
       "      <th></th>\n",
       "      <th>id</th>\n",
       "      <th>salary</th>\n",
       "    </tr>\n",
       "  </thead>\n",
       "  <tbody>\n",
       "    <tr>\n",
       "      <th>0</th>\n",
       "      <td>147</td>\n",
       "      <td>130611.351221</td>\n",
       "    </tr>\n",
       "    <tr>\n",
       "      <th>1</th>\n",
       "      <td>49</td>\n",
       "      <td>86587.164709</td>\n",
       "    </tr>\n",
       "    <tr>\n",
       "      <th>2</th>\n",
       "      <td>314</td>\n",
       "      <td>120897.479265</td>\n",
       "    </tr>\n",
       "    <tr>\n",
       "      <th>3</th>\n",
       "      <td>392</td>\n",
       "      <td>115780.701760</td>\n",
       "    </tr>\n",
       "    <tr>\n",
       "      <th>4</th>\n",
       "      <td>179</td>\n",
       "      <td>82809.038064</td>\n",
       "    </tr>\n",
       "    <tr>\n",
       "      <th>...</th>\n",
       "      <td>...</td>\n",
       "      <td>...</td>\n",
       "    </tr>\n",
       "    <tr>\n",
       "      <th>75</th>\n",
       "      <td>274</td>\n",
       "      <td>74640.629068</td>\n",
       "    </tr>\n",
       "    <tr>\n",
       "      <th>76</th>\n",
       "      <td>334</td>\n",
       "      <td>95768.856778</td>\n",
       "    </tr>\n",
       "    <tr>\n",
       "      <th>77</th>\n",
       "      <td>263</td>\n",
       "      <td>114930.905540</td>\n",
       "    </tr>\n",
       "    <tr>\n",
       "      <th>78</th>\n",
       "      <td>180</td>\n",
       "      <td>129712.429509</td>\n",
       "    </tr>\n",
       "    <tr>\n",
       "      <th>79</th>\n",
       "      <td>114</td>\n",
       "      <td>117608.669457</td>\n",
       "    </tr>\n",
       "  </tbody>\n",
       "</table>\n",
       "<p>80 rows × 2 columns</p>\n",
       "</div>"
      ],
      "text/plain": [
       "     id         salary\n",
       "0   147  130611.351221\n",
       "1    49   86587.164709\n",
       "2   314  120897.479265\n",
       "3   392  115780.701760\n",
       "4   179   82809.038064\n",
       "..  ...            ...\n",
       "75  274   74640.629068\n",
       "76  334   95768.856778\n",
       "77  263  114930.905540\n",
       "78  180  129712.429509\n",
       "79  114  117608.669457\n",
       "\n",
       "[80 rows x 2 columns]"
      ]
     },
     "execution_count": 47,
     "metadata": {},
     "output_type": "execute_result"
    }
   ],
   "source": [
    "test_ids = pd.Series(y_test.index, name='id')\n",
    "y_pred = np.exp(baseline_model.predict(x_test))\n",
    "sub = pd.concat([test_ids, pd.Series(y_pred, name='salary')], axis=1)\n",
    "sub"
   ]
  },
  {
   "cell_type": "code",
   "execution_count": 48,
   "id": "347c3676",
   "metadata": {
    "scrolled": false
   },
   "outputs": [
    {
     "data": {
      "text/plain": [
       "array([130611.3512206 ,  86587.16470882, 120897.47926543, 115780.70176   ,\n",
       "        82809.03806359,  84374.87817167, 117726.41558231, 130543.52391623,\n",
       "       115821.82973729,  96709.86920078,  77306.62343242, 115899.15479034,\n",
       "       117563.0695087 ,  96455.54481786, 135702.36517547, 116308.85981675,\n",
       "       133345.69326858, 115779.40121065, 130563.25968753, 124301.18392749,\n",
       "       131318.2770317 , 130475.34996693,  86339.85685458,  77306.62343242,\n",
       "        86250.11470012,  73555.98031433, 117067.31169149,  80620.99866678,\n",
       "        77597.26673923,  86863.44710124, 130343.35296792, 118862.56127835,\n",
       "       115175.53164777,  86587.16470882, 116104.75978537,  87843.61595301,\n",
       "        76864.82685248, 137963.68775113, 114239.11891024, 133017.16476117,\n",
       "       114448.52353384,  87345.61128917, 111655.84583635, 117922.71463117,\n",
       "        86342.00832049, 116330.320748  , 131331.41016042,  86284.75441759,\n",
       "       129671.3819831 , 115680.72248328,  78168.67220559,  79045.47915219,\n",
       "        86863.44710124,  87539.96074304, 138430.57687567,  73719.64697591,\n",
       "        88633.60049211, 116419.19674332, 135962.30849678, 132255.0425757 ,\n",
       "       116103.71594134,  87014.46087031,  92134.26321011,  97313.73589763,\n",
       "        95421.23156325, 130317.15120835, 124663.07344796, 132879.49516346,\n",
       "       115913.6000802 , 135378.60657767,  74440.19888496, 135720.66525429,\n",
       "        76849.01229138,  89526.51974684, 114283.03126   ,  74640.62906838,\n",
       "        95768.85677792, 114930.90554025, 129712.4295095 , 117608.66945705])"
      ]
     },
     "execution_count": 48,
     "metadata": {},
     "output_type": "execute_result"
    }
   ],
   "source": [
    "y_pred"
   ]
  },
  {
   "cell_type": "code",
   "execution_count": 50,
   "id": "6e6b03d1",
   "metadata": {
    "scrolled": true
   },
   "outputs": [
    {
     "name": "stdout",
     "output_type": "stream",
     "text": [
      "r2 score :  0.6883399764589231\n",
      "MAE :  11366.481142024215\n",
      "MSE :  212053159.823879\n",
      "SMSE :  14562.045179983443\n",
      "-----------\n",
      "-----------\n",
      "training score :  0.4608879690207285\n",
      "testing score :  0.7303204668963823\n"
     ]
    }
   ],
   "source": [
    "print('r2 score : ', r2_score(np.exp(y_test), y_pred))\n",
    "print('MAE : ', mean_absolute_error(np.exp(y_test), y_pred))\n",
    "print('MSE : ', mean_squared_error(np.exp(y_test), y_pred))\n",
    "print('SMSE : ', np.sqrt(mean_squared_error(np.exp(y_test), y_pred)))\n",
    "\n",
    "\n",
    "print(\"-----------\")\n",
    "print(\"-----------\")\n",
    "\n",
    "print('training score : ', baseline_model.score(x_train, y_train))\n",
    "print('testing score : ', baseline_model.score(x_test, y_test))"
   ]
  },
  {
   "cell_type": "markdown",
   "id": "bd222237",
   "metadata": {},
   "source": [
    "# Bagging models"
   ]
  },
  {
   "cell_type": "code",
   "execution_count": 51,
   "id": "a7113587",
   "metadata": {},
   "outputs": [],
   "source": [
    "models = {\n",
    "    'ridge' : Ridge(),\n",
    "    'br' : BayesianRidge(),\n",
    "    'lr' : LinearRegression(),\n",
    "    'lar': Lars(),\n",
    "    'huber' : HuberRegressor() \n",
    "}"
   ]
  },
  {
   "cell_type": "code",
   "execution_count": 52,
   "id": "9573731e",
   "metadata": {},
   "outputs": [
    {
     "name": "stdout",
     "output_type": "stream",
     "text": [
      "ridge trained.\n",
      "br trained.\n",
      "lr trained.\n",
      "lar trained.\n",
      "huber trained.\n"
     ]
    }
   ],
   "source": [
    "for name, model in models.items():\n",
    "    model.fit(x_train, y_train)\n",
    "    print(name + ' trained.')"
   ]
  },
  {
   "cell_type": "code",
   "execution_count": 53,
   "id": "d9ed02d9",
   "metadata": {},
   "outputs": [],
   "source": [
    "results = {}\n",
    "\n",
    "kf = KFold(n_splits = 5)\n",
    "\n",
    "for name, model in models.items():\n",
    "    result = np.exp(np.sqrt(-cross_val_score(model, x_train, y_train, scoring='neg_mean_squared_error', cv=kf)))\n",
    "    results[name] = result"
   ]
  },
  {
   "cell_type": "code",
   "execution_count": 54,
   "id": "0855acb7",
   "metadata": {},
   "outputs": [
    {
     "data": {
      "text/plain": [
       "{'ridge': array([1.23804719, 1.22103836, 1.2197473 , 1.19751539, 1.20049444]),\n",
       " 'br': array([1.23853355, 1.22082025, 1.22105327, 1.19679438, 1.19966202]),\n",
       " 'lr': array([1.23793036, 1.22112474, 1.21945368, 1.19775037, 1.20078151]),\n",
       " 'lar': array([1.23793036, 1.22112474, 1.21945368, 1.19775037, 1.20078151]),\n",
       " 'huber': array([1.23856878, 1.22241836, 1.22118986, 1.20321101, 1.20075544])}"
      ]
     },
     "execution_count": 54,
     "metadata": {},
     "output_type": "execute_result"
    }
   ],
   "source": [
    "results"
   ]
  },
  {
   "cell_type": "code",
   "execution_count": 55,
   "id": "6d2ac202",
   "metadata": {},
   "outputs": [
    {
     "name": "stdout",
     "output_type": "stream",
     "text": [
      "------\n",
      "ridge\n",
      "------\n",
      "1.2153685364945757\n",
      "0.014870206928788862\n",
      "------\n",
      "br\n",
      "------\n",
      "1.2153726916479173\n",
      "0.015429510275320392\n",
      "------\n",
      "lr\n",
      "------\n",
      "1.2154081299919375\n",
      "0.014710753259363305\n",
      "------\n",
      "lar\n",
      "------\n",
      "1.2154081299919377\n",
      "0.014710753259363347\n",
      "------\n",
      "huber\n",
      "------\n",
      "1.2172286904447596\n",
      "0.01389882136194065\n"
     ]
    }
   ],
   "source": [
    "for name, result in results.items():\n",
    "    print(\"------\\n\" + name + '\\n------')\n",
    "    print(np.mean(result))\n",
    "    print(np.std(result))"
   ]
  },
  {
   "cell_type": "markdown",
   "id": "a86759aa",
   "metadata": {},
   "source": [
    "## Combine predictions"
   ]
  },
  {
   "cell_type": "code",
   "execution_count": 56,
   "id": "b69b1fa3",
   "metadata": {},
   "outputs": [],
   "source": [
    "def predict_salary(x_test):\n",
    "    final_pred = (\n",
    "        0.2*np.exp(models['ridge'].predict(x_test)) +\n",
    "        0.2*np.exp(models['br'].predict(x_test)) +\n",
    "        0.2*np.exp(models['lr'].predict(x_test)) +\n",
    "        0.2*np.exp(models['lar'].predict(x_test)) +\n",
    "        0.2*np.exp(models['huber'].predict(x_test)))\n",
    "    return final_pred\n",
    "\n",
    "final_pred = predict_salary(x_test)"
   ]
  },
  {
   "cell_type": "code",
   "execution_count": 57,
   "id": "e1a13c29",
   "metadata": {},
   "outputs": [
    {
     "data": {
      "text/plain": [
       "array([131081.01139676,  86441.09727752, 120426.77263456, 115393.67418908,\n",
       "        82896.1007231 ,  83762.96883003, 117304.46717373, 131016.39984741,\n",
       "       115435.33358234,  96651.7131292 ,  76640.33007355, 115509.29622225,\n",
       "       117145.23850814,  96399.55568968, 136109.7198856 , 115915.42150112,\n",
       "       133787.57010599, 115395.44711146, 131029.21387474, 125092.46540596,\n",
       "       131786.90910602, 130945.48433316,  86370.64277874,  76640.33007355,\n",
       "        86114.10143838,  73120.25871144, 116661.12211496,  80248.50200878,\n",
       "        76924.35789172,  86714.98556151, 130813.87485666, 118421.86100417,\n",
       "       114799.09565613,  86441.09727752, 115710.84446331,  87676.60441129,\n",
       "        76207.85310768, 138339.8319147 , 114107.3689624 , 133460.23849403,\n",
       "       114083.15362572,  87188.9583591 , 111561.26833908, 117499.93274767,\n",
       "        86202.44481691, 115934.6536497 , 131797.71704116,  86147.19189774,\n",
       "       130147.50526044, 115295.03606659,  77483.45826293,  78342.12417664,\n",
       "        86714.98556151,  87379.06258064, 138803.14039391,  73280.14339855,\n",
       "        88455.23876905, 116021.22104901, 136360.12295447, 132706.54974583,\n",
       "       115712.24092374,  86862.40517891,  92333.73486116,  97251.21496948,\n",
       "        95391.01030428, 130791.07447377, 125449.80056574, 133317.1301687 ,\n",
       "       115527.69409152, 135783.11961771,  73985.54040122, 136128.59113485,\n",
       "        76193.01694798,  89330.99419667, 113919.81815981,  74183.1275215 ,\n",
       "        95914.60814517, 114558.99919256, 130182.35764208, 117436.02762988])"
      ]
     },
     "execution_count": 57,
     "metadata": {},
     "output_type": "execute_result"
    }
   ],
   "source": [
    "final_pred"
   ]
  },
  {
   "cell_type": "code",
   "execution_count": 59,
   "id": "f0ad66a8",
   "metadata": {},
   "outputs": [
    {
     "name": "stdout",
     "output_type": "stream",
     "text": [
      "r2 score :  0.6898446201008952\n",
      "MAE :  11307.237545780765\n",
      "MSE :  211029401.83572283\n",
      "SMSE :  14526.851064002922\n"
     ]
    }
   ],
   "source": [
    "print('r2 score : ', r2_score(np.exp(y_test), final_pred))\n",
    "print('MAE : ', mean_absolute_error(np.exp(y_test), final_pred))\n",
    "print('MSE : ', mean_squared_error(np.exp(y_test), final_pred))\n",
    "print('SMSE : ', np.sqrt(mean_squared_error(np.exp(y_test), final_pred)))"
   ]
  },
  {
   "cell_type": "markdown",
   "id": "cb692426",
   "metadata": {},
   "source": [
    "## Conclusion : Using Bagging model for given dataset is the best approach"
   ]
  },
  {
   "cell_type": "code",
   "execution_count": null,
   "id": "de607131",
   "metadata": {},
   "outputs": [],
   "source": []
  }
 ],
 "metadata": {
  "kernelspec": {
   "display_name": "Python 3",
   "language": "python",
   "name": "python3"
  },
  "language_info": {
   "codemirror_mode": {
    "name": "ipython",
    "version": 3
   },
   "file_extension": ".py",
   "mimetype": "text/x-python",
   "name": "python",
   "nbconvert_exporter": "python",
   "pygments_lexer": "ipython3",
   "version": "3.6.13"
  }
 },
 "nbformat": 4,
 "nbformat_minor": 5
}
