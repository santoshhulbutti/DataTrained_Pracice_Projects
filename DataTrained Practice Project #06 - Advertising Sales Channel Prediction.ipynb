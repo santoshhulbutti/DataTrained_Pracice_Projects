{
 "cells": [
  {
   "cell_type": "markdown",
   "metadata": {},
   "source": [
    "## *santoshhulbutti@gmail.com | DataTrained | Practice Project # 06\n",
    "\n",
    "## Advertising Sales Channel Prediction"
   ]
  },
  {
   "cell_type": "markdown",
   "metadata": {},
   "source": [
    "<h1 align=\"center\"> Objective : Advertising Sales Channel Prediction </h1>\n",
    "<h2> This will be a <u><font color = \"green\">supervised ML model</font></u> as the dataset has <u><font color = \"green\">'label' column</font></u> i.e., 'sales'. it will be a <u><font color ='blue'>Regression problem - predicting the total sales through all the channels of Advertising</font></u>\n",
    "    \n",
    "performance metrics will be :\n",
    "<font color ='purple'> mean_squared_error, mean_absolute_error, r2_score</font>\n",
    "</h2>"
   ]
  },
  {
   "cell_type": "markdown",
   "metadata": {},
   "source": [
    "<h1 align = \"center\"><font color = \"red\">Importing necessary libraries</font></h1>"
   ]
  },
  {
   "cell_type": "code",
   "execution_count": 1,
   "metadata": {
    "execution": {
     "iopub.execute_input": "2022-09-15T04:09:58.236451Z",
     "iopub.status.busy": "2022-09-15T04:09:58.235589Z",
     "iopub.status.idle": "2022-09-15T04:09:59.354872Z",
     "shell.execute_reply": "2022-09-15T04:09:59.353901Z",
     "shell.execute_reply.started": "2022-09-15T04:09:58.236314Z"
    }
   },
   "outputs": [],
   "source": [
    "import pandas as pd\n",
    "import numpy as np\n",
    "import matplotlib.pyplot as plt\n",
    "import seaborn as sns\n",
    "sns.set_style('darkgrid')\n",
    "%matplotlib inline\n",
    "\n",
    "from scipy.stats import zscore, boxcox\n",
    "\n",
    "import statsmodels.formula.api as smf\n",
    "\n",
    "from collections import Counter\n",
    "\n",
    "from sklearn.preprocessing import StandardScaler\n",
    "\n",
    "from sklearn.model_selection import train_test_split, cross_val_score, GridSearchCV\n",
    "\n",
    "\n",
    "\n",
    "from sklearn.linear_model import LinearRegression, Ridge, Lasso\n",
    "\n",
    "from sklearn.ensemble import RandomForestRegressor, AdaBoostRegressor, GradientBoostingRegressor\n",
    "\n",
    "from sklearn.tree import DecisionTreeRegressor\n",
    "\n",
    "from sklearn.svm import SVR\n",
    "\n",
    "from sklearn.neighbors import KNeighborsRegressor\n",
    "\n",
    "from xgboost import XGBRegressor\n",
    "\n",
    "\n",
    "\n",
    "from sklearn.metrics import mean_squared_error, mean_absolute_error, r2_score\n",
    "\n",
    "\n",
    "import pickle\n",
    "\n",
    "import warnings\n",
    "warnings.filterwarnings('ignore')"
   ]
  },
  {
   "cell_type": "markdown",
   "metadata": {},
   "source": [
    "<h1 align = \"center\"><font color = \"red\">Getting the Data</font></h1>"
   ]
  },
  {
   "cell_type": "code",
   "execution_count": 2,
   "metadata": {
    "execution": {
     "iopub.execute_input": "2022-09-15T04:10:06.126749Z",
     "iopub.status.busy": "2022-09-15T04:10:06.125634Z",
     "iopub.status.idle": "2022-09-15T04:10:06.755532Z",
     "shell.execute_reply": "2022-09-15T04:10:06.754360Z",
     "shell.execute_reply.started": "2022-09-15T04:10:06.126703Z"
    }
   },
   "outputs": [],
   "source": [
    "#storing the file path/ url path in a variable\n",
    "url = \"https://raw.githubusercontent.com/dsrscientist/DSData/master/Advertising.csv\"\n",
    "\n",
    "#make dataframe of the data\n",
    "df0 = pd.read_csv(url)"
   ]
  },
  {
   "cell_type": "markdown",
   "metadata": {},
   "source": [
    "<h1 align=\"center\"><font color = \"red\">Data Preprocessing & EDA</font> </h1>"
   ]
  },
  {
   "cell_type": "markdown",
   "metadata": {},
   "source": [
    "<h2><font color = \"blue\">01. Checking the data using .head(), .sample(n), .shape, features' dtypes using .info()</font></h2>"
   ]
  },
  {
   "cell_type": "code",
   "execution_count": 3,
   "metadata": {
    "execution": {
     "iopub.execute_input": "2022-09-15T04:10:09.220311Z",
     "iopub.status.busy": "2022-09-15T04:10:09.219486Z",
     "iopub.status.idle": "2022-09-15T04:10:09.248402Z",
     "shell.execute_reply": "2022-09-15T04:10:09.247256Z",
     "shell.execute_reply.started": "2022-09-15T04:10:09.220268Z"
    }
   },
   "outputs": [
    {
     "data": {
      "text/html": [
       "<div>\n",
       "<style scoped>\n",
       "    .dataframe tbody tr th:only-of-type {\n",
       "        vertical-align: middle;\n",
       "    }\n",
       "\n",
       "    .dataframe tbody tr th {\n",
       "        vertical-align: top;\n",
       "    }\n",
       "\n",
       "    .dataframe thead th {\n",
       "        text-align: right;\n",
       "    }\n",
       "</style>\n",
       "<table border=\"1\" class=\"dataframe\">\n",
       "  <thead>\n",
       "    <tr style=\"text-align: right;\">\n",
       "      <th></th>\n",
       "      <th>Unnamed: 0</th>\n",
       "      <th>TV</th>\n",
       "      <th>radio</th>\n",
       "      <th>newspaper</th>\n",
       "      <th>sales</th>\n",
       "    </tr>\n",
       "  </thead>\n",
       "  <tbody>\n",
       "    <tr>\n",
       "      <th>0</th>\n",
       "      <td>1</td>\n",
       "      <td>230.1</td>\n",
       "      <td>37.8</td>\n",
       "      <td>69.2</td>\n",
       "      <td>22.1</td>\n",
       "    </tr>\n",
       "    <tr>\n",
       "      <th>1</th>\n",
       "      <td>2</td>\n",
       "      <td>44.5</td>\n",
       "      <td>39.3</td>\n",
       "      <td>45.1</td>\n",
       "      <td>10.4</td>\n",
       "    </tr>\n",
       "    <tr>\n",
       "      <th>2</th>\n",
       "      <td>3</td>\n",
       "      <td>17.2</td>\n",
       "      <td>45.9</td>\n",
       "      <td>69.3</td>\n",
       "      <td>9.3</td>\n",
       "    </tr>\n",
       "    <tr>\n",
       "      <th>3</th>\n",
       "      <td>4</td>\n",
       "      <td>151.5</td>\n",
       "      <td>41.3</td>\n",
       "      <td>58.5</td>\n",
       "      <td>18.5</td>\n",
       "    </tr>\n",
       "    <tr>\n",
       "      <th>4</th>\n",
       "      <td>5</td>\n",
       "      <td>180.8</td>\n",
       "      <td>10.8</td>\n",
       "      <td>58.4</td>\n",
       "      <td>12.9</td>\n",
       "    </tr>\n",
       "  </tbody>\n",
       "</table>\n",
       "</div>"
      ],
      "text/plain": [
       "   Unnamed: 0     TV  radio  newspaper  sales\n",
       "0           1  230.1   37.8       69.2   22.1\n",
       "1           2   44.5   39.3       45.1   10.4\n",
       "2           3   17.2   45.9       69.3    9.3\n",
       "3           4  151.5   41.3       58.5   18.5\n",
       "4           5  180.8   10.8       58.4   12.9"
      ]
     },
     "execution_count": 3,
     "metadata": {},
     "output_type": "execute_result"
    }
   ],
   "source": [
    "#read top 5 rows of the data\n",
    "df0.head()"
   ]
  },
  {
   "cell_type": "code",
   "execution_count": 4,
   "metadata": {
    "execution": {
     "iopub.execute_input": "2022-09-15T04:10:10.067253Z",
     "iopub.status.busy": "2022-09-15T04:10:10.066832Z",
     "iopub.status.idle": "2022-09-15T04:10:10.087050Z",
     "shell.execute_reply": "2022-09-15T04:10:10.086123Z",
     "shell.execute_reply.started": "2022-09-15T04:10:10.067221Z"
    }
   },
   "outputs": [
    {
     "data": {
      "text/html": [
       "<div>\n",
       "<style scoped>\n",
       "    .dataframe tbody tr th:only-of-type {\n",
       "        vertical-align: middle;\n",
       "    }\n",
       "\n",
       "    .dataframe tbody tr th {\n",
       "        vertical-align: top;\n",
       "    }\n",
       "\n",
       "    .dataframe thead th {\n",
       "        text-align: right;\n",
       "    }\n",
       "</style>\n",
       "<table border=\"1\" class=\"dataframe\">\n",
       "  <thead>\n",
       "    <tr style=\"text-align: right;\">\n",
       "      <th></th>\n",
       "      <th>Unnamed: 0</th>\n",
       "      <th>TV</th>\n",
       "      <th>radio</th>\n",
       "      <th>newspaper</th>\n",
       "      <th>sales</th>\n",
       "    </tr>\n",
       "  </thead>\n",
       "  <tbody>\n",
       "    <tr>\n",
       "      <th>195</th>\n",
       "      <td>196</td>\n",
       "      <td>38.2</td>\n",
       "      <td>3.7</td>\n",
       "      <td>13.8</td>\n",
       "      <td>7.6</td>\n",
       "    </tr>\n",
       "    <tr>\n",
       "      <th>196</th>\n",
       "      <td>197</td>\n",
       "      <td>94.2</td>\n",
       "      <td>4.9</td>\n",
       "      <td>8.1</td>\n",
       "      <td>9.7</td>\n",
       "    </tr>\n",
       "    <tr>\n",
       "      <th>197</th>\n",
       "      <td>198</td>\n",
       "      <td>177.0</td>\n",
       "      <td>9.3</td>\n",
       "      <td>6.4</td>\n",
       "      <td>12.8</td>\n",
       "    </tr>\n",
       "    <tr>\n",
       "      <th>198</th>\n",
       "      <td>199</td>\n",
       "      <td>283.6</td>\n",
       "      <td>42.0</td>\n",
       "      <td>66.2</td>\n",
       "      <td>25.5</td>\n",
       "    </tr>\n",
       "    <tr>\n",
       "      <th>199</th>\n",
       "      <td>200</td>\n",
       "      <td>232.1</td>\n",
       "      <td>8.6</td>\n",
       "      <td>8.7</td>\n",
       "      <td>13.4</td>\n",
       "    </tr>\n",
       "  </tbody>\n",
       "</table>\n",
       "</div>"
      ],
      "text/plain": [
       "     Unnamed: 0     TV  radio  newspaper  sales\n",
       "195         196   38.2    3.7       13.8    7.6\n",
       "196         197   94.2    4.9        8.1    9.7\n",
       "197         198  177.0    9.3        6.4   12.8\n",
       "198         199  283.6   42.0       66.2   25.5\n",
       "199         200  232.1    8.6        8.7   13.4"
      ]
     },
     "execution_count": 4,
     "metadata": {},
     "output_type": "execute_result"
    }
   ],
   "source": [
    "#read last 5 rows of the data\n",
    "df0.tail()"
   ]
  },
  {
   "cell_type": "code",
   "execution_count": 5,
   "metadata": {
    "execution": {
     "iopub.execute_input": "2022-09-15T04:10:10.824467Z",
     "iopub.status.busy": "2022-09-15T04:10:10.823241Z",
     "iopub.status.idle": "2022-09-15T04:10:10.832832Z",
     "shell.execute_reply": "2022-09-15T04:10:10.831423Z",
     "shell.execute_reply.started": "2022-09-15T04:10:10.824421Z"
    }
   },
   "outputs": [
    {
     "name": "stdout",
     "output_type": "stream",
     "text": [
      "(200, 5)\n",
      " \n",
      "Unnamed: 0      int64\n",
      "TV            float64\n",
      "radio         float64\n",
      "newspaper     float64\n",
      "sales         float64\n",
      "dtype: object\n"
     ]
    }
   ],
   "source": [
    "#checking shape & datatypes of the columns in data...\n",
    "print(df0.shape)\n",
    "print(' ')\n",
    "print(df0.dtypes)"
   ]
  },
  {
   "cell_type": "code",
   "execution_count": 6,
   "metadata": {
    "execution": {
     "iopub.execute_input": "2022-09-15T04:10:11.594773Z",
     "iopub.status.busy": "2022-09-15T04:10:11.594032Z",
     "iopub.status.idle": "2022-09-15T04:10:11.623553Z",
     "shell.execute_reply": "2022-09-15T04:10:11.622610Z",
     "shell.execute_reply.started": "2022-09-15T04:10:11.594716Z"
    },
    "scrolled": true
   },
   "outputs": [
    {
     "name": "stdout",
     "output_type": "stream",
     "text": [
      "<class 'pandas.core.frame.DataFrame'>\n",
      "RangeIndex: 200 entries, 0 to 199\n",
      "Data columns (total 5 columns):\n",
      " #   Column      Non-Null Count  Dtype  \n",
      "---  ------      --------------  -----  \n",
      " 0   Unnamed: 0  200 non-null    int64  \n",
      " 1   TV          200 non-null    float64\n",
      " 2   radio       200 non-null    float64\n",
      " 3   newspaper   200 non-null    float64\n",
      " 4   sales       200 non-null    float64\n",
      "dtypes: float64(4), int64(1)\n",
      "memory usage: 7.9 KB\n"
     ]
    }
   ],
   "source": [
    "df0.info()"
   ]
  },
  {
   "cell_type": "markdown",
   "metadata": {},
   "source": [
    "### Observation:\n",
    "the data set has 200 rows of data & 5 Columns\n",
    "\n",
    "1. The first Column is Unnamed.. No mention of this column in Problem description so its irrelevant We will drop it.\n",
    "2. TV, Radio, Newspaper & sales Columns are float variables(continuous data)"
   ]
  },
  {
   "cell_type": "code",
   "execution_count": 7,
   "metadata": {},
   "outputs": [],
   "source": [
    "df0.drop('Unnamed: 0', axis=1, inplace=True)"
   ]
  },
  {
   "cell_type": "markdown",
   "metadata": {},
   "source": [
    "<h2><font color = \"blue\">02. Checking for duplicate entries...</font></h2>"
   ]
  },
  {
   "cell_type": "code",
   "execution_count": 8,
   "metadata": {
    "execution": {
     "iopub.execute_input": "2022-09-15T04:10:15.896610Z",
     "iopub.status.busy": "2022-09-15T04:10:15.896228Z",
     "iopub.status.idle": "2022-09-15T04:10:15.909819Z",
     "shell.execute_reply": "2022-09-15T04:10:15.908629Z",
     "shell.execute_reply.started": "2022-09-15T04:10:15.896578Z"
    }
   },
   "outputs": [
    {
     "data": {
      "text/plain": [
       "0"
      ]
     },
     "execution_count": 8,
     "metadata": {},
     "output_type": "execute_result"
    }
   ],
   "source": [
    "df0.duplicated().sum()"
   ]
  },
  {
   "cell_type": "markdown",
   "metadata": {},
   "source": [
    "#### Observation:\n",
    "1. in our data there are no duplicate entries."
   ]
  },
  {
   "cell_type": "markdown",
   "metadata": {},
   "source": [
    "<h2><font color = \"blue\">03. Checking for descriptive statistics...</font></h2>"
   ]
  },
  {
   "cell_type": "code",
   "execution_count": 9,
   "metadata": {
    "execution": {
     "iopub.execute_input": "2022-09-15T04:10:13.363589Z",
     "iopub.status.busy": "2022-09-15T04:10:13.362834Z",
     "iopub.status.idle": "2022-09-15T04:10:13.401258Z",
     "shell.execute_reply": "2022-09-15T04:10:13.399946Z",
     "shell.execute_reply.started": "2022-09-15T04:10:13.363551Z"
    }
   },
   "outputs": [
    {
     "data": {
      "text/html": [
       "<div>\n",
       "<style scoped>\n",
       "    .dataframe tbody tr th:only-of-type {\n",
       "        vertical-align: middle;\n",
       "    }\n",
       "\n",
       "    .dataframe tbody tr th {\n",
       "        vertical-align: top;\n",
       "    }\n",
       "\n",
       "    .dataframe thead th {\n",
       "        text-align: right;\n",
       "    }\n",
       "</style>\n",
       "<table border=\"1\" class=\"dataframe\">\n",
       "  <thead>\n",
       "    <tr style=\"text-align: right;\">\n",
       "      <th></th>\n",
       "      <th>TV</th>\n",
       "      <th>radio</th>\n",
       "      <th>newspaper</th>\n",
       "      <th>sales</th>\n",
       "    </tr>\n",
       "  </thead>\n",
       "  <tbody>\n",
       "    <tr>\n",
       "      <th>count</th>\n",
       "      <td>200.000000</td>\n",
       "      <td>200.000000</td>\n",
       "      <td>200.000000</td>\n",
       "      <td>200.000000</td>\n",
       "    </tr>\n",
       "    <tr>\n",
       "      <th>mean</th>\n",
       "      <td>147.042500</td>\n",
       "      <td>23.264000</td>\n",
       "      <td>30.554000</td>\n",
       "      <td>14.022500</td>\n",
       "    </tr>\n",
       "    <tr>\n",
       "      <th>std</th>\n",
       "      <td>85.854236</td>\n",
       "      <td>14.846809</td>\n",
       "      <td>21.778621</td>\n",
       "      <td>5.217457</td>\n",
       "    </tr>\n",
       "    <tr>\n",
       "      <th>min</th>\n",
       "      <td>0.700000</td>\n",
       "      <td>0.000000</td>\n",
       "      <td>0.300000</td>\n",
       "      <td>1.600000</td>\n",
       "    </tr>\n",
       "    <tr>\n",
       "      <th>25%</th>\n",
       "      <td>74.375000</td>\n",
       "      <td>9.975000</td>\n",
       "      <td>12.750000</td>\n",
       "      <td>10.375000</td>\n",
       "    </tr>\n",
       "    <tr>\n",
       "      <th>50%</th>\n",
       "      <td>149.750000</td>\n",
       "      <td>22.900000</td>\n",
       "      <td>25.750000</td>\n",
       "      <td>12.900000</td>\n",
       "    </tr>\n",
       "    <tr>\n",
       "      <th>75%</th>\n",
       "      <td>218.825000</td>\n",
       "      <td>36.525000</td>\n",
       "      <td>45.100000</td>\n",
       "      <td>17.400000</td>\n",
       "    </tr>\n",
       "    <tr>\n",
       "      <th>max</th>\n",
       "      <td>296.400000</td>\n",
       "      <td>49.600000</td>\n",
       "      <td>114.000000</td>\n",
       "      <td>27.000000</td>\n",
       "    </tr>\n",
       "  </tbody>\n",
       "</table>\n",
       "</div>"
      ],
      "text/plain": [
       "               TV       radio   newspaper       sales\n",
       "count  200.000000  200.000000  200.000000  200.000000\n",
       "mean   147.042500   23.264000   30.554000   14.022500\n",
       "std     85.854236   14.846809   21.778621    5.217457\n",
       "min      0.700000    0.000000    0.300000    1.600000\n",
       "25%     74.375000    9.975000   12.750000   10.375000\n",
       "50%    149.750000   22.900000   25.750000   12.900000\n",
       "75%    218.825000   36.525000   45.100000   17.400000\n",
       "max    296.400000   49.600000  114.000000   27.000000"
      ]
     },
     "execution_count": 9,
     "metadata": {},
     "output_type": "execute_result"
    }
   ],
   "source": [
    "df0.describe()"
   ]
  },
  {
   "cell_type": "markdown",
   "metadata": {},
   "source": [
    "### Observations:\n",
    "1. All 3 featues(TV, radio, newspaper) are continuous data.\n",
    "2. Sales is the target variable, it is also continuous data.\n",
    "3. TV Column has high standard deviation value\n",
    "3. in Newspaper, difference between 75th percentile and max is huge.\n",
    "3. radio having zero as minimum value in data."
   ]
  },
  {
   "cell_type": "markdown",
   "metadata": {},
   "source": [
    "<h2><font color = \"blue\">04. Checking for missing & null values...</font></h2>"
   ]
  },
  {
   "cell_type": "code",
   "execution_count": 10,
   "metadata": {
    "execution": {
     "iopub.execute_input": "2022-09-15T04:10:18.359210Z",
     "iopub.status.busy": "2022-09-15T04:10:18.358368Z",
     "iopub.status.idle": "2022-09-15T04:10:18.369563Z",
     "shell.execute_reply": "2022-09-15T04:10:18.368209Z",
     "shell.execute_reply.started": "2022-09-15T04:10:18.359169Z"
    }
   },
   "outputs": [
    {
     "data": {
      "text/plain": [
       "TV           0\n",
       "radio        0\n",
       "newspaper    0\n",
       "sales        0\n",
       "dtype: int64"
      ]
     },
     "execution_count": 10,
     "metadata": {},
     "output_type": "execute_result"
    }
   ],
   "source": [
    "#total missing values\n",
    "df0.isnull().sum()"
   ]
  },
  {
   "cell_type": "code",
   "execution_count": 11,
   "metadata": {},
   "outputs": [
    {
     "data": {
      "text/plain": [
       "TV           0.0\n",
       "radio        0.0\n",
       "newspaper    0.0\n",
       "sales        0.0\n",
       "dtype: float64"
      ]
     },
     "execution_count": 11,
     "metadata": {},
     "output_type": "execute_result"
    }
   ],
   "source": [
    "# % of missing values\n",
    "df0.isnull().sum()*100/df0.shape[0]"
   ]
  },
  {
   "cell_type": "markdown",
   "metadata": {},
   "source": [
    "### Observations:\n",
    "Data set has no missing value/null value."
   ]
  },
  {
   "cell_type": "markdown",
   "metadata": {},
   "source": [
    "<h2><font color = \"blue\">05. Checking entries with ZERO Value...</font></h2>"
   ]
  },
  {
   "cell_type": "code",
   "execution_count": 12,
   "metadata": {
    "execution": {
     "iopub.execute_input": "2022-09-15T04:10:21.837896Z",
     "iopub.status.busy": "2022-09-15T04:10:21.837482Z",
     "iopub.status.idle": "2022-09-15T04:10:21.854533Z",
     "shell.execute_reply": "2022-09-15T04:10:21.853230Z",
     "shell.execute_reply.started": "2022-09-15T04:10:21.837861Z"
    }
   },
   "outputs": [
    {
     "data": {
      "text/plain": [
       "TV           0\n",
       "radio        1\n",
       "newspaper    0\n",
       "sales        0\n",
       "dtype: int64"
      ]
     },
     "execution_count": 12,
     "metadata": {},
     "output_type": "execute_result"
    }
   ],
   "source": [
    "#counting total vaues of 0/zero entries in data...\n",
    "df0[df0 ==0].count()"
   ]
  },
  {
   "cell_type": "markdown",
   "metadata": {},
   "source": [
    "### Observation:\n",
    "1. Radio feature having one entry as zero. we will look into it in later stage."
   ]
  },
  {
   "cell_type": "markdown",
   "metadata": {},
   "source": [
    "### renaming column names to remove whitespaces..."
   ]
  },
  {
   "cell_type": "code",
   "execution_count": 13,
   "metadata": {},
   "outputs": [
    {
     "data": {
      "text/plain": [
       "Index(['tv', 'radio', 'newspaper', 'sales'], dtype='object')"
      ]
     },
     "execution_count": 13,
     "metadata": {},
     "output_type": "execute_result"
    }
   ],
   "source": [
    "columns = df0.columns.tolist()\n",
    "columns_renamed = [column.strip().replace(\" \", \"_\").lower() for column in columns]\n",
    "df0.columns = columns_renamed\n",
    "df0.columns"
   ]
  },
  {
   "cell_type": "markdown",
   "metadata": {},
   "source": [
    "<h2 align=\"center\"><font color = \"red\">EDA : Numerical Feature Analysis...</font> </h2>"
   ]
  },
  {
   "cell_type": "code",
   "execution_count": 14,
   "metadata": {},
   "outputs": [],
   "source": [
    "#Copying dataframe\n",
    "df1 = df0.copy()"
   ]
  },
  {
   "cell_type": "markdown",
   "metadata": {},
   "source": [
    "<h2><font color = \"blue\">06. Data Visualization...</font></h2>"
   ]
  },
  {
   "cell_type": "markdown",
   "metadata": {},
   "source": [
    "## Univariate Analysis"
   ]
  },
  {
   "cell_type": "code",
   "execution_count": 15,
   "metadata": {},
   "outputs": [
    {
     "data": {
      "image/png": "[encoded data removed]",
      "text/plain": [
       "<Figure size 720x720 with 4 Axes>"
      ]
     },
     "metadata": {
      "needs_background": "light"
     },
     "output_type": "display_data"
    }
   ],
   "source": [
    "#distribution of numerical features.. \n",
    "i=0\n",
    "plt.figure(figsize=(10,10))\n",
    "for column in df1[['tv', 'radio', 'newspaper', 'sales']].columns:\n",
    "    plt.subplot(2,2,i+1)\n",
    "    sns.distplot(df1[column])\n",
    "    plt.xlabel(column,fontsize=12)\n",
    "    i+=1\n",
    "    \n",
    "plt.tight_layout()"
   ]
  },
  {
   "cell_type": "markdown",
   "metadata": {},
   "source": [
    "### Observation\n",
    "1. Newspaper has skewness present.\n",
    "2. TV & radio features are similarly distributed but not normally distributed."
   ]
  },
  {
   "cell_type": "markdown",
   "metadata": {},
   "source": [
    "## Bivariate Analysis"
   ]
  },
  {
   "cell_type": "code",
   "execution_count": 16,
   "metadata": {
    "scrolled": false
   },
   "outputs": [
    {
     "data": {
      "text/plain": [
       "<AxesSubplot:xlabel='newspaper', ylabel='sales'>"
      ]
     },
     "execution_count": 16,
     "metadata": {},
     "output_type": "execute_result"
    },
    {
     "data": {
      "image/png": "[encoded data removed]",
      "text/plain": [
       "<Figure size 1152x576 with 3 Axes>"
      ]
     },
     "metadata": {
      "needs_background": "light"
     },
     "output_type": "display_data"
    }
   ],
   "source": [
    "fig, axs = plt.subplots(1, 3)\n",
    "df1.plot(kind='scatter', x='tv', y='sales', color = 'blue', ax=axs[0], figsize=(16, 8))\n",
    "df1.plot(kind='scatter', x='radio', y='sales', color = 'blue', ax=axs[1])\n",
    "df1.plot(kind='scatter', x='newspaper', y='sales', color = 'blue', ax=axs[2])"
   ]
  },
  {
   "cell_type": "code",
   "execution_count": 17,
   "metadata": {
    "scrolled": false
   },
   "outputs": [
    {
     "data": {
      "text/plain": [
       "<seaborn.axisgrid.PairGrid at 0x208555c8f60>"
      ]
     },
     "execution_count": 17,
     "metadata": {},
     "output_type": "execute_result"
    },
    {
     "data": {
      "image/png": "[encoded data removed]",
      "text/plain": [
       "<Figure size 720x720 with 20 Axes>"
      ]
     },
     "metadata": {
      "needs_background": "light"
     },
     "output_type": "display_data"
    }
   ],
   "source": [
    "sns.set_palette('rainbow')\n",
    "sns.pairplot(df1)"
   ]
  },
  {
   "cell_type": "markdown",
   "metadata": {},
   "source": [
    "### Observation\n",
    "1. TV & Radio are having almost a linear relationship with Sales,\n",
    "2. Newspaper doesnt show any relation, need to do further analysis."
   ]
  },
  {
   "cell_type": "markdown",
   "metadata": {},
   "source": [
    "<h2><font color = \"blue\">07. Checking outliers...</font></h2>"
   ]
  },
  {
   "cell_type": "code",
   "execution_count": 18,
   "metadata": {},
   "outputs": [
    {
     "data": {
      "image/png": "[encoded data removed]",
      "text/plain": [
       "<Figure size 504x360 with 3 Axes>"
      ]
     },
     "metadata": {
      "needs_background": "light"
     },
     "output_type": "display_data"
    }
   ],
   "source": [
    "collist=df1[['tv', 'radio', 'newspaper']].columns.values\n",
    "\n",
    "plt.figure(figsize=(7,5))\n",
    "for i in range(0,3):\n",
    "    plt.subplot(1,3,i+1)\n",
    "    sns.boxplot(data=df1[collist[i]],color='green',orient='v').set(xlabel=collist[i])\n",
    "    plt.tight_layout()"
   ]
  },
  {
   "cell_type": "code",
   "execution_count": 19,
   "metadata": {},
   "outputs": [],
   "source": [
    "df2 = df1.copy()"
   ]
  },
  {
   "cell_type": "code",
   "execution_count": 20,
   "metadata": {},
   "outputs": [
    {
     "name": "stdout",
     "output_type": "stream",
     "text": [
      "data loss  1.0  %\n"
     ]
    }
   ],
   "source": [
    "z=np.abs(zscore(df2))\n",
    "df3=df2[(z<3).all(axis=1)]\n",
    "data_loss=((df2.shape[0]-df3.shape[0])/df2.shape[0])*100\n",
    "print(\"data loss \", data_loss, \" %\")"
   ]
  },
  {
   "cell_type": "code",
   "execution_count": 21,
   "metadata": {},
   "outputs": [
    {
     "data": {
      "image/png": "[encoded data removed]",
      "text/plain": [
       "<Figure size 504x360 with 3 Axes>"
      ]
     },
     "metadata": {
      "needs_background": "light"
     },
     "output_type": "display_data"
    }
   ],
   "source": [
    "collist=df3[['tv', 'radio', 'newspaper']].columns.values\n",
    "\n",
    "plt.figure(figsize=(7,5))\n",
    "for i in range(0,3):\n",
    "    plt.subplot(1,3,i+1)\n",
    "    sns.boxplot(data=df3[collist[i]],color='green',orient='v').set(xlabel=collist[i])\n",
    "    plt.tight_layout()"
   ]
  },
  {
   "cell_type": "markdown",
   "metadata": {},
   "source": [
    "### Observation\n",
    "1. There were 2 outliers removed from Newspaper columns\n",
    "2. Data loss after removing outliers is : 1%"
   ]
  },
  {
   "cell_type": "markdown",
   "metadata": {},
   "source": [
    "<h2><font color = \"blue\">08. Checking Skewness...</font></h2>"
   ]
  },
  {
   "cell_type": "code",
   "execution_count": 22,
   "metadata": {
    "scrolled": false
   },
   "outputs": [
    {
     "data": {
      "text/html": [
       "<div>\n",
       "<style scoped>\n",
       "    .dataframe tbody tr th:only-of-type {\n",
       "        vertical-align: middle;\n",
       "    }\n",
       "\n",
       "    .dataframe tbody tr th {\n",
       "        vertical-align: top;\n",
       "    }\n",
       "\n",
       "    .dataframe thead th {\n",
       "        text-align: right;\n",
       "    }\n",
       "</style>\n",
       "<table border=\"1\" class=\"dataframe\">\n",
       "  <thead>\n",
       "    <tr style=\"text-align: right;\">\n",
       "      <th></th>\n",
       "      <th>tv</th>\n",
       "      <th>radio</th>\n",
       "      <th>newspaper</th>\n",
       "      <th>sales</th>\n",
       "    </tr>\n",
       "  </thead>\n",
       "  <tbody>\n",
       "    <tr>\n",
       "      <th>0</th>\n",
       "      <td>230.1</td>\n",
       "      <td>37.8</td>\n",
       "      <td>69.2</td>\n",
       "      <td>22.1</td>\n",
       "    </tr>\n",
       "    <tr>\n",
       "      <th>1</th>\n",
       "      <td>44.5</td>\n",
       "      <td>39.3</td>\n",
       "      <td>45.1</td>\n",
       "      <td>10.4</td>\n",
       "    </tr>\n",
       "    <tr>\n",
       "      <th>2</th>\n",
       "      <td>17.2</td>\n",
       "      <td>45.9</td>\n",
       "      <td>69.3</td>\n",
       "      <td>9.3</td>\n",
       "    </tr>\n",
       "    <tr>\n",
       "      <th>3</th>\n",
       "      <td>151.5</td>\n",
       "      <td>41.3</td>\n",
       "      <td>58.5</td>\n",
       "      <td>18.5</td>\n",
       "    </tr>\n",
       "    <tr>\n",
       "      <th>4</th>\n",
       "      <td>180.8</td>\n",
       "      <td>10.8</td>\n",
       "      <td>58.4</td>\n",
       "      <td>12.9</td>\n",
       "    </tr>\n",
       "  </tbody>\n",
       "</table>\n",
       "</div>"
      ],
      "text/plain": [
       "      tv  radio  newspaper  sales\n",
       "0  230.1   37.8       69.2   22.1\n",
       "1   44.5   39.3       45.1   10.4\n",
       "2   17.2   45.9       69.3    9.3\n",
       "3  151.5   41.3       58.5   18.5\n",
       "4  180.8   10.8       58.4   12.9"
      ]
     },
     "execution_count": 22,
     "metadata": {},
     "output_type": "execute_result"
    }
   ],
   "source": [
    "df3.head()"
   ]
  },
  {
   "cell_type": "code",
   "execution_count": 23,
   "metadata": {},
   "outputs": [
    {
     "data": {
      "text/plain": [
       "(198, 4)"
      ]
     },
     "execution_count": 23,
     "metadata": {},
     "output_type": "execute_result"
    }
   ],
   "source": [
    "df3.shape"
   ]
  },
  {
   "cell_type": "code",
   "execution_count": 24,
   "metadata": {},
   "outputs": [
    {
     "data": {
      "text/plain": [
       "tv          -0.082332\n",
       "radio        0.114842\n",
       "newspaper    0.650112\n",
       "sales        0.407130\n",
       "dtype: float64"
      ]
     },
     "execution_count": 24,
     "metadata": {},
     "output_type": "execute_result"
    }
   ],
   "source": [
    "df3.skew()"
   ]
  },
  {
   "cell_type": "code",
   "execution_count": 25,
   "metadata": {
    "scrolled": true
   },
   "outputs": [
    {
     "data": {
      "image/png": "[encoded data removed]",
      "text/plain": [
       "<Figure size 720x288 with 1 Axes>"
      ]
     },
     "metadata": {
      "needs_background": "light"
     },
     "output_type": "display_data"
    }
   ],
   "source": [
    "plt.figure(figsize=(10,4))\n",
    "df3.skew().drop(['sales']).plot(kind='bar', rot = 0, fontsize=13)\n",
    "plt.xlabel('Features', fontsize=15)\n",
    "plt.ylabel('Skewness', fontsize=15)\n",
    "plt.title('Skewness of Features', fontsize=20)\n",
    "plt.show()"
   ]
  },
  {
   "cell_type": "markdown",
   "metadata": {},
   "source": [
    "### Observation\n",
    "1. Newspaper have some skewness. we will remove it using boxcox transformation"
   ]
  },
  {
   "cell_type": "code",
   "execution_count": 26,
   "metadata": {},
   "outputs": [],
   "source": [
    "df4 = df3.copy()"
   ]
  },
  {
   "cell_type": "code",
   "execution_count": 27,
   "metadata": {},
   "outputs": [],
   "source": [
    "df4['newspaper']=boxcox(df4['newspaper'],0.5)"
   ]
  },
  {
   "cell_type": "code",
   "execution_count": 28,
   "metadata": {},
   "outputs": [
    {
     "data": {
      "text/plain": [
       "tv          -0.082332\n",
       "radio        0.114842\n",
       "newspaper   -0.040649\n",
       "sales        0.407130\n",
       "dtype: float64"
      ]
     },
     "execution_count": 28,
     "metadata": {},
     "output_type": "execute_result"
    }
   ],
   "source": [
    "df4.skew()"
   ]
  },
  {
   "cell_type": "code",
   "execution_count": 29,
   "metadata": {},
   "outputs": [
    {
     "data": {
      "image/png": "[encoded data removed]",
      "text/plain": [
       "<Figure size 720x288 with 1 Axes>"
      ]
     },
     "metadata": {
      "needs_background": "light"
     },
     "output_type": "display_data"
    }
   ],
   "source": [
    "plt.figure(figsize=(10,4))\n",
    "df4.skew().drop(['sales']).plot(kind='bar', rot = 0, fontsize=13)\n",
    "plt.xlabel('Features', fontsize=15)\n",
    "plt.ylabel('Skewness', fontsize=15)\n",
    "plt.title('Skewness of Features', fontsize=20)\n",
    "plt.show()"
   ]
  },
  {
   "cell_type": "markdown",
   "metadata": {},
   "source": [
    "### Observation\n",
    "1. skewness in Newspaper is removed. & all other features are well within skewness of +/-0.5."
   ]
  },
  {
   "cell_type": "markdown",
   "metadata": {},
   "source": [
    "<h2><font color = \"blue\">09. Checking Correlation & Multicollinearity...</font></h2>"
   ]
  },
  {
   "cell_type": "markdown",
   "metadata": {},
   "source": [
    "## Correlation.."
   ]
  },
  {
   "cell_type": "code",
   "execution_count": 30,
   "metadata": {
    "execution": {
     "iopub.execute_input": "2022-09-15T04:10:30.367908Z",
     "iopub.status.busy": "2022-09-15T04:10:30.366666Z",
     "iopub.status.idle": "2022-09-15T04:10:30.729930Z",
     "shell.execute_reply": "2022-09-15T04:10:30.728734Z",
     "shell.execute_reply.started": "2022-09-15T04:10:30.367862Z"
    },
    "scrolled": false
   },
   "outputs": [
    {
     "data": {
      "image/png": "[encoded data removed]",
      "text/plain": [
       "<Figure size 720x576 with 2 Axes>"
      ]
     },
     "metadata": {
      "needs_background": "light"
     },
     "output_type": "display_data"
    }
   ],
   "source": [
    "#Heatmap of numerical columns\n",
    "plt.figure(figsize = (10, 8))\n",
    "sns.heatmap(df4[['tv', 'radio', 'newspaper', 'sales']].corr(),annot=True, fmt = \".2f\")\n",
    "plt.show()"
   ]
  },
  {
   "cell_type": "code",
   "execution_count": 31,
   "metadata": {},
   "outputs": [
    {
     "data": {
      "image/png": "[encoded data removed]",
      "text/plain": [
       "<Figure size 720x288 with 1 Axes>"
      ]
     },
     "metadata": {
      "needs_background": "light"
     },
     "output_type": "display_data"
    }
   ],
   "source": [
    "plt.figure(figsize=(10,4))\n",
    "df4.corr()['sales'].drop(['sales']).plot(kind='bar', rot = 0, fontsize=13)\n",
    "plt.xlabel('Features', fontsize=15)\n",
    "plt.ylabel('Sales', fontsize=15)\n",
    "plt.title('Correlation of Sales with Features', fontsize=20)\n",
    "plt.show()"
   ]
  },
  {
   "cell_type": "code",
   "execution_count": 32,
   "metadata": {},
   "outputs": [
    {
     "data": {
      "text/plain": [
       "tv           0.779121\n",
       "radio        0.576748\n",
       "newspaper    0.194153\n",
       "sales        1.000000\n",
       "Name: sales, dtype: float64"
      ]
     },
     "execution_count": 32,
     "metadata": {},
     "output_type": "execute_result"
    }
   ],
   "source": [
    "df4.corr()['sales']"
   ]
  },
  {
   "cell_type": "markdown",
   "metadata": {},
   "source": [
    "### Observation\n",
    "1. TV & Radio columns show high correlation with sales column than newspaper."
   ]
  },
  {
   "cell_type": "markdown",
   "metadata": {},
   "source": [
    "## Multicoliinearity.."
   ]
  },
  {
   "cell_type": "code",
   "execution_count": 33,
   "metadata": {},
   "outputs": [],
   "source": [
    "#checking for multicollinearity by using vif\n",
    "scaler = StandardScaler()\n",
    "features = df4.drop('sales',axis=1)\n",
    "scaled = scaler.fit_transform(features)\n",
    "from statsmodels.stats.outliers_influence import variance_inflation_factor\n",
    "vif=pd.DataFrame()\n",
    "vif['vif']=[variance_inflation_factor(scaled, i)for i in range(len(features.columns))]\n",
    "vif['features']=features.columns\n",
    "vif.set_index('features', inplace=True)"
   ]
  },
  {
   "cell_type": "code",
   "execution_count": 34,
   "metadata": {},
   "outputs": [
    {
     "data": {
      "text/plain": [
       "<Figure size 720x288 with 0 Axes>"
      ]
     },
     "metadata": {},
     "output_type": "display_data"
    },
    {
     "data": {
      "image/png": "[encoded data removed]",
      "text/plain": [
       "<Figure size 432x288 with 1 Axes>"
      ]
     },
     "metadata": {
      "needs_background": "light"
     },
     "output_type": "display_data"
    }
   ],
   "source": [
    "plt.figure(figsize=(10,4))\n",
    "vif.plot(kind='bar', rot = 0, fontsize=13)\n",
    "plt.xlabel('Features', fontsize=15)\n",
    "plt.ylabel('VIF', fontsize=15)\n",
    "plt.title('VIF of Features', fontsize=20)\n",
    "plt.show()"
   ]
  },
  {
   "cell_type": "code",
   "execution_count": 35,
   "metadata": {},
   "outputs": [
    {
     "data": {
      "text/html": [
       "<div>\n",
       "<style scoped>\n",
       "    .dataframe tbody tr th:only-of-type {\n",
       "        vertical-align: middle;\n",
       "    }\n",
       "\n",
       "    .dataframe tbody tr th {\n",
       "        vertical-align: top;\n",
       "    }\n",
       "\n",
       "    .dataframe thead th {\n",
       "        text-align: right;\n",
       "    }\n",
       "</style>\n",
       "<table border=\"1\" class=\"dataframe\">\n",
       "  <thead>\n",
       "    <tr style=\"text-align: right;\">\n",
       "      <th></th>\n",
       "      <th>vif</th>\n",
       "    </tr>\n",
       "    <tr>\n",
       "      <th>features</th>\n",
       "      <th></th>\n",
       "    </tr>\n",
       "  </thead>\n",
       "  <tbody>\n",
       "    <tr>\n",
       "      <th>tv</th>\n",
       "      <td>1.003318</td>\n",
       "    </tr>\n",
       "    <tr>\n",
       "      <th>radio</th>\n",
       "      <td>1.102134</td>\n",
       "    </tr>\n",
       "    <tr>\n",
       "      <th>newspaper</th>\n",
       "      <td>1.100842</td>\n",
       "    </tr>\n",
       "  </tbody>\n",
       "</table>\n",
       "</div>"
      ],
      "text/plain": [
       "                vif\n",
       "features           \n",
       "tv         1.003318\n",
       "radio      1.102134\n",
       "newspaper  1.100842"
      ]
     },
     "execution_count": 35,
     "metadata": {},
     "output_type": "execute_result"
    }
   ],
   "source": [
    "vif"
   ]
  },
  {
   "cell_type": "markdown",
   "metadata": {},
   "source": [
    "### Observation\n",
    "1. As VIF is less than 5, There is No multicollinearity in the data."
   ]
  },
  {
   "cell_type": "markdown",
   "metadata": {},
   "source": [
    "<h2><font color = \"blue\">10. Checking distribution for cleaned data</font></h2>"
   ]
  },
  {
   "cell_type": "code",
   "execution_count": 36,
   "metadata": {},
   "outputs": [],
   "source": [
    "df5 = df4.copy()"
   ]
  },
  {
   "cell_type": "code",
   "execution_count": 37,
   "metadata": {},
   "outputs": [
    {
     "data": {
      "image/png": "[encoded data removed]",
      "text/plain": [
       "<Figure size 720x720 with 4 Axes>"
      ]
     },
     "metadata": {
      "needs_background": "light"
     },
     "output_type": "display_data"
    }
   ],
   "source": [
    "i=0\n",
    "plt.figure(figsize=(10,10))\n",
    "for column in df5[['tv', 'radio', 'newspaper', 'sales']].columns:\n",
    "    plt.subplot(2,2,i+1)\n",
    "    sns.distplot(df5[column])\n",
    "    plt.xlabel(column,fontsize=12)\n",
    "    i+=1\n",
    "    \n",
    "plt.tight_layout()"
   ]
  },
  {
   "cell_type": "code",
   "execution_count": 38,
   "metadata": {},
   "outputs": [
    {
     "data": {
      "text/html": [
       "<table class=\"simpletable\">\n",
       "<caption>OLS Regression Results</caption>\n",
       "<tr>\n",
       "  <th>Dep. Variable:</th>          <td>sales</td>      <th>  R-squared:         </th> <td>   0.895</td>\n",
       "</tr>\n",
       "<tr>\n",
       "  <th>Model:</th>                   <td>OLS</td>       <th>  Adj. R-squared:    </th> <td>   0.894</td>\n",
       "</tr>\n",
       "<tr>\n",
       "  <th>Method:</th>             <td>Least Squares</td>  <th>  F-statistic:       </th> <td>   553.4</td>\n",
       "</tr>\n",
       "<tr>\n",
       "  <th>Date:</th>             <td>Sun, 18 Sep 2022</td> <th>  Prob (F-statistic):</th> <td>8.44e-95</td>\n",
       "</tr>\n",
       "<tr>\n",
       "  <th>Time:</th>                 <td>21:45:50</td>     <th>  Log-Likelihood:    </th> <td> -383.25</td>\n",
       "</tr>\n",
       "<tr>\n",
       "  <th>No. Observations:</th>      <td>   198</td>      <th>  AIC:               </th> <td>   774.5</td>\n",
       "</tr>\n",
       "<tr>\n",
       "  <th>Df Residuals:</th>          <td>   194</td>      <th>  BIC:               </th> <td>   787.7</td>\n",
       "</tr>\n",
       "<tr>\n",
       "  <th>Df Model:</th>              <td>     3</td>      <th>                     </th>     <td> </td>   \n",
       "</tr>\n",
       "<tr>\n",
       "  <th>Covariance Type:</th>      <td>nonrobust</td>    <th>                     </th>     <td> </td>   \n",
       "</tr>\n",
       "</table>\n",
       "<table class=\"simpletable\">\n",
       "<tr>\n",
       "      <td></td>         <th>coef</th>     <th>std err</th>      <th>t</th>      <th>P>|t|</th>  <th>[0.025</th>    <th>0.975]</th>  \n",
       "</tr>\n",
       "<tr>\n",
       "  <th>Intercept</th> <td>    2.9092</td> <td>    0.357</td> <td>    8.142</td> <td> 0.000</td> <td>    2.204</td> <td>    3.614</td>\n",
       "</tr>\n",
       "<tr>\n",
       "  <th>tv</th>        <td>    0.0457</td> <td>    0.001</td> <td>   32.291</td> <td> 0.000</td> <td>    0.043</td> <td>    0.048</td>\n",
       "</tr>\n",
       "<tr>\n",
       "  <th>radio</th>     <td>    0.1877</td> <td>    0.009</td> <td>   22.022</td> <td> 0.000</td> <td>    0.171</td> <td>    0.205</td>\n",
       "</tr>\n",
       "<tr>\n",
       "  <th>newspaper</th> <td>    0.0036</td> <td>    0.032</td> <td>    0.113</td> <td> 0.910</td> <td>   -0.059</td> <td>    0.067</td>\n",
       "</tr>\n",
       "</table>\n",
       "<table class=\"simpletable\">\n",
       "<tr>\n",
       "  <th>Omnibus:</th>       <td>58.989</td> <th>  Durbin-Watson:     </th> <td>   2.036</td>\n",
       "</tr>\n",
       "<tr>\n",
       "  <th>Prob(Omnibus):</th> <td> 0.000</td> <th>  Jarque-Bera (JB):  </th> <td> 143.591</td>\n",
       "</tr>\n",
       "<tr>\n",
       "  <th>Skew:</th>          <td>-1.319</td> <th>  Prob(JB):          </th> <td>6.60e-32</td>\n",
       "</tr>\n",
       "<tr>\n",
       "  <th>Kurtosis:</th>      <td> 6.232</td> <th>  Cond. No.          </th> <td>    508.</td>\n",
       "</tr>\n",
       "</table><br/><br/>Notes:<br/>[1] Standard Errors assume that the covariance matrix of the errors is correctly specified."
      ],
      "text/plain": [
       "<class 'statsmodels.iolib.summary.Summary'>\n",
       "\"\"\"\n",
       "                            OLS Regression Results                            \n",
       "==============================================================================\n",
       "Dep. Variable:                  sales   R-squared:                       0.895\n",
       "Model:                            OLS   Adj. R-squared:                  0.894\n",
       "Method:                 Least Squares   F-statistic:                     553.4\n",
       "Date:                Sun, 18 Sep 2022   Prob (F-statistic):           8.44e-95\n",
       "Time:                        21:45:50   Log-Likelihood:                -383.25\n",
       "No. Observations:                 198   AIC:                             774.5\n",
       "Df Residuals:                     194   BIC:                             787.7\n",
       "Df Model:                           3                                         \n",
       "Covariance Type:            nonrobust                                         \n",
       "==============================================================================\n",
       "                 coef    std err          t      P>|t|      [0.025      0.975]\n",
       "------------------------------------------------------------------------------\n",
       "Intercept      2.9092      0.357      8.142      0.000       2.204       3.614\n",
       "tv             0.0457      0.001     32.291      0.000       0.043       0.048\n",
       "radio          0.1877      0.009     22.022      0.000       0.171       0.205\n",
       "newspaper      0.0036      0.032      0.113      0.910      -0.059       0.067\n",
       "==============================================================================\n",
       "Omnibus:                       58.989   Durbin-Watson:                   2.036\n",
       "Prob(Omnibus):                  0.000   Jarque-Bera (JB):              143.591\n",
       "Skew:                          -1.319   Prob(JB):                     6.60e-32\n",
       "Kurtosis:                       6.232   Cond. No.                         508.\n",
       "==============================================================================\n",
       "\n",
       "Notes:\n",
       "[1] Standard Errors assume that the covariance matrix of the errors is correctly specified.\n",
       "\"\"\""
      ]
     },
     "execution_count": 38,
     "metadata": {},
     "output_type": "execute_result"
    }
   ],
   "source": [
    "# this is to be used to check r_sqared value and p-values\n",
    "\n",
    "lm = smf.ols(formula = 'sales ~ tv + radio + newspaper', data = df5).fit()\n",
    "\n",
    "lm.summary()"
   ]
  },
  {
   "cell_type": "markdown",
   "metadata": {},
   "source": [
    "<h2><font color = \"blue\">11. Preparing data for ML model</font></h2>"
   ]
  },
  {
   "cell_type": "markdown",
   "metadata": {},
   "source": [
    "## Applying StandardScaler.."
   ]
  },
  {
   "cell_type": "code",
   "execution_count": 39,
   "metadata": {},
   "outputs": [],
   "source": [
    "x = df5.drop(columns=['sales'])\n",
    "y = df5['sales']"
   ]
  },
  {
   "cell_type": "code",
   "execution_count": 40,
   "metadata": {},
   "outputs": [],
   "source": [
    "Scaler = StandardScaler()\n",
    "X_scaled = pd.DataFrame(Scaler.fit_transform(x), columns=x.columns)"
   ]
  },
  {
   "cell_type": "code",
   "execution_count": 41,
   "metadata": {},
   "outputs": [
    {
     "data": {
      "text/html": [
       "<div>\n",
       "<style scoped>\n",
       "    .dataframe tbody tr th:only-of-type {\n",
       "        vertical-align: middle;\n",
       "    }\n",
       "\n",
       "    .dataframe tbody tr th {\n",
       "        vertical-align: top;\n",
       "    }\n",
       "\n",
       "    .dataframe thead th {\n",
       "        text-align: right;\n",
       "    }\n",
       "</style>\n",
       "<table border=\"1\" class=\"dataframe\">\n",
       "  <thead>\n",
       "    <tr style=\"text-align: right;\">\n",
       "      <th></th>\n",
       "      <th>tv</th>\n",
       "      <th>radio</th>\n",
       "      <th>newspaper</th>\n",
       "    </tr>\n",
       "  </thead>\n",
       "  <tbody>\n",
       "    <tr>\n",
       "      <th>0</th>\n",
       "      <td>0.978697</td>\n",
       "      <td>0.989521</td>\n",
       "      <td>1.636691</td>\n",
       "    </tr>\n",
       "    <tr>\n",
       "      <th>1</th>\n",
       "      <td>-1.199012</td>\n",
       "      <td>1.090705</td>\n",
       "      <td>0.824808</td>\n",
       "    </tr>\n",
       "    <tr>\n",
       "      <th>2</th>\n",
       "      <td>-1.519332</td>\n",
       "      <td>1.535913</td>\n",
       "      <td>1.639734</td>\n",
       "    </tr>\n",
       "    <tr>\n",
       "      <th>3</th>\n",
       "      <td>0.056456</td>\n",
       "      <td>1.225616</td>\n",
       "      <td>1.297288</td>\n",
       "    </tr>\n",
       "    <tr>\n",
       "      <th>4</th>\n",
       "      <td>0.400243</td>\n",
       "      <td>-0.831784</td>\n",
       "      <td>1.293976</td>\n",
       "    </tr>\n",
       "  </tbody>\n",
       "</table>\n",
       "</div>"
      ],
      "text/plain": [
       "         tv     radio  newspaper\n",
       "0  0.978697  0.989521   1.636691\n",
       "1 -1.199012  1.090705   0.824808\n",
       "2 -1.519332  1.535913   1.639734\n",
       "3  0.056456  1.225616   1.297288\n",
       "4  0.400243 -0.831784   1.293976"
      ]
     },
     "execution_count": 41,
     "metadata": {},
     "output_type": "execute_result"
    }
   ],
   "source": [
    "X_scaled.head()"
   ]
  },
  {
   "cell_type": "markdown",
   "metadata": {},
   "source": [
    "### Checking distribution after scaling.."
   ]
  },
  {
   "cell_type": "code",
   "execution_count": 42,
   "metadata": {
    "scrolled": false
   },
   "outputs": [
    {
     "data": {
      "image/png": "[encoded data removed]",
      "text/plain": [
       "<Figure size 720x720 with 3 Axes>"
      ]
     },
     "metadata": {
      "needs_background": "light"
     },
     "output_type": "display_data"
    }
   ],
   "source": [
    "i=0\n",
    "plt.figure(figsize=(10,10))\n",
    "for column in X_scaled[['tv', 'radio', 'newspaper']].columns:\n",
    "    plt.subplot(2,2,i+1)\n",
    "    sns.distplot(X_scaled[column])\n",
    "    plt.xlabel(column,fontsize=12)\n",
    "    i+=1\n",
    "    \n",
    "plt.tight_layout()"
   ]
  },
  {
   "cell_type": "markdown",
   "metadata": {},
   "source": [
    "<h1 align=\"center\"><font color = \"red\">Model Selection</font> </h1>"
   ]
  },
  {
   "cell_type": "markdown",
   "metadata": {},
   "source": [
    "<h2 align = 'center'><font color = \"blue\">Checking for Linear Regression algorithm..</font></h2>"
   ]
  },
  {
   "cell_type": "markdown",
   "metadata": {},
   "source": [
    "## Finding random state to get best split for traing & testing sets"
   ]
  },
  {
   "cell_type": "code",
   "execution_count": 43,
   "metadata": {},
   "outputs": [],
   "source": [
    "lr = LinearRegression()\n",
    "train = []\n",
    "test = []\n",
    "diff = []\n",
    "randomstate = []\n",
    "for i in range(0, 100):\n",
    "    x_train, x_test, y_train, y_test = train_test_split(X_scaled, y, test_size = 0.25, random_state = i)\n",
    "    lr.fit(x_train, y_train)\n",
    "    pred_train = lr.predict(x_train)\n",
    "    pred_test = lr.predict(x_test)\n",
    "\n",
    "    train.append(r2_score(y_train, pred_train))\n",
    "    test.append(r2_score(y_test, pred_test))\n",
    "    diff.append(r2_score(y_train, pred_train) - r2_score(y_test, pred_test))\n",
    "    randomstate.append(i)\n",
    "    \n",
    "table = pd.DataFrame(list(zip(randomstate, train, test, diff)),\n",
    "                              columns =['randomstate', 'train_score', 'test_score', 'diff_score'])\n",
    "#                               index=pd.RangeIndex(start=1, stop=(len(randomstate)+1), name='Sr. No.'))"
   ]
  },
  {
   "cell_type": "code",
   "execution_count": 44,
   "metadata": {},
   "outputs": [
    {
     "data": {
      "text/html": [
       "<div>\n",
       "<style scoped>\n",
       "    .dataframe tbody tr th:only-of-type {\n",
       "        vertical-align: middle;\n",
       "    }\n",
       "\n",
       "    .dataframe tbody tr th {\n",
       "        vertical-align: top;\n",
       "    }\n",
       "\n",
       "    .dataframe thead th {\n",
       "        text-align: right;\n",
       "    }\n",
       "</style>\n",
       "<table border=\"1\" class=\"dataframe\">\n",
       "  <thead>\n",
       "    <tr style=\"text-align: right;\">\n",
       "      <th></th>\n",
       "      <th>randomstate</th>\n",
       "      <th>train_score</th>\n",
       "      <th>test_score</th>\n",
       "      <th>diff_score</th>\n",
       "    </tr>\n",
       "  </thead>\n",
       "  <tbody>\n",
       "    <tr>\n",
       "      <th>34</th>\n",
       "      <td>34</td>\n",
       "      <td>0.893132</td>\n",
       "      <td>0.897861</td>\n",
       "      <td>-0.004729</td>\n",
       "    </tr>\n",
       "    <tr>\n",
       "      <th>88</th>\n",
       "      <td>88</td>\n",
       "      <td>0.894091</td>\n",
       "      <td>0.898249</td>\n",
       "      <td>-0.004158</td>\n",
       "    </tr>\n",
       "    <tr>\n",
       "      <th>46</th>\n",
       "      <td>46</td>\n",
       "      <td>0.893963</td>\n",
       "      <td>0.897799</td>\n",
       "      <td>-0.003836</td>\n",
       "    </tr>\n",
       "    <tr>\n",
       "      <th>51</th>\n",
       "      <td>51</td>\n",
       "      <td>0.893494</td>\n",
       "      <td>0.893855</td>\n",
       "      <td>-0.000361</td>\n",
       "    </tr>\n",
       "    <tr>\n",
       "      <th>77</th>\n",
       "      <td>77</td>\n",
       "      <td>0.893799</td>\n",
       "      <td>0.894088</td>\n",
       "      <td>-0.000289</td>\n",
       "    </tr>\n",
       "    <tr>\n",
       "      <th>55</th>\n",
       "      <td>55</td>\n",
       "      <td>0.894448</td>\n",
       "      <td>0.894591</td>\n",
       "      <td>-0.000143</td>\n",
       "    </tr>\n",
       "    <tr>\n",
       "      <th>60</th>\n",
       "      <td>60</td>\n",
       "      <td>0.893299</td>\n",
       "      <td>0.893148</td>\n",
       "      <td>0.000151</td>\n",
       "    </tr>\n",
       "    <tr>\n",
       "      <th>6</th>\n",
       "      <td>6</td>\n",
       "      <td>0.893849</td>\n",
       "      <td>0.893693</td>\n",
       "      <td>0.000156</td>\n",
       "    </tr>\n",
       "    <tr>\n",
       "      <th>38</th>\n",
       "      <td>38</td>\n",
       "      <td>0.895745</td>\n",
       "      <td>0.891962</td>\n",
       "      <td>0.003783</td>\n",
       "    </tr>\n",
       "  </tbody>\n",
       "</table>\n",
       "</div>"
      ],
      "text/plain": [
       "    randomstate  train_score  test_score  diff_score\n",
       "34           34     0.893132    0.897861   -0.004729\n",
       "88           88     0.894091    0.898249   -0.004158\n",
       "46           46     0.893963    0.897799   -0.003836\n",
       "51           51     0.893494    0.893855   -0.000361\n",
       "77           77     0.893799    0.894088   -0.000289\n",
       "55           55     0.894448    0.894591   -0.000143\n",
       "60           60     0.893299    0.893148    0.000151\n",
       "6             6     0.893849    0.893693    0.000156\n",
       "38           38     0.895745    0.891962    0.003783"
      ]
     },
     "execution_count": 44,
     "metadata": {},
     "output_type": "execute_result"
    }
   ],
   "source": [
    "table[(-0.005 < table['diff_score']) & (table['diff_score'] < 0.005)].sort_values(by=['diff_score', 'train_score', 'test_score'])"
   ]
  },
  {
   "cell_type": "markdown",
   "metadata": {},
   "source": [
    "#### Best Random state is 55 for splitting data."
   ]
  },
  {
   "cell_type": "markdown",
   "metadata": {},
   "source": [
    "## Training the model.."
   ]
  },
  {
   "cell_type": "code",
   "execution_count": 45,
   "metadata": {},
   "outputs": [],
   "source": [
    "x_train, x_test, y_train, y_test = train_test_split(X_scaled, y, random_state=55, test_size=.25)"
   ]
  },
  {
   "cell_type": "code",
   "execution_count": 46,
   "metadata": {},
   "outputs": [
    {
     "name": "stdout",
     "output_type": "stream",
     "text": [
      "===scores for training set===\n",
      "r2 score for training set 0.8944481366818667\n",
      "MAE for training set:  1.226201814635296\n",
      "MSE for training set:  2.761514309565219\n",
      "SMSE for training set:  1.6617804637090963\n",
      " \n",
      "===scores for testing set===\n",
      "r2 score for testing set :  0.8945914466570097\n",
      "MAE for testing set:  1.355863584124825\n",
      "MSE for testing set:  3.0350428119679735\n",
      "SMSE for testing set:  1.742137426257749\n"
     ]
    },
    {
     "data": {
      "image/png": "[encoded data removed]",
      "text/plain": [
       "<Figure size 432x360 with 1 Axes>"
      ]
     },
     "metadata": {
      "needs_background": "light"
     },
     "output_type": "display_data"
    }
   ],
   "source": [
    "lr = LinearRegression()\n",
    "lr.fit(x_train, y_train)\n",
    "pred_test = lr.predict(x_test)\n",
    "pred_train = lr.predict(x_train)\n",
    "print('===scores for training set===')\n",
    "print('r2 score for training set', r2_score(y_train, pred_train))\n",
    "print('MAE for training set: ', mean_absolute_error(y_train, pred_train))\n",
    "print('MSE for training set: ', mean_squared_error(y_train, pred_train))\n",
    "print('SMSE for training set: ', np.sqrt(mean_squared_error(y_train, pred_train)))\n",
    "print(' ')\n",
    "print('===scores for testing set===')\n",
    "print('r2 score for testing set : ', r2_score(y_test, pred_test))\n",
    "print('MAE for testing set: ', mean_absolute_error(y_test, pred_test))\n",
    "print('MSE for testing set: ', mean_squared_error(y_test, pred_test))\n",
    "print('SMSE for testing set: ', np.sqrt(mean_squared_error(y_test, pred_test)))\n",
    "\n",
    "plt.figure(figsize = (6,5))\n",
    "plt.scatter(x = y_test, y=pred_test, color = 'r')\n",
    "plt.plot(y_test, y_test, color = 'b')\n",
    "plt.xlabel('actual', fontsize = 15)\n",
    "plt.ylabel('predictions', fontsize = 15)\n",
    "plt.title('linear_regression', fontsize = 18)\n",
    "plt.show()"
   ]
  },
  {
   "cell_type": "markdown",
   "metadata": {},
   "source": [
    "## Cross validation of the model"
   ]
  },
  {
   "cell_type": "code",
   "execution_count": 47,
   "metadata": {},
   "outputs": [
    {
     "name": "stdout",
     "output_type": "stream",
     "text": [
      "at cv = 3, cv_score is 0.8889614061129034, train_accu is 0.8944481366818667, test_accu is 0.8945914466570097 \n",
      "\n",
      "at cv = 4, cv_score is 0.8883964730592853, train_accu is 0.8944481366818667, test_accu is 0.8945914466570097 \n",
      "\n",
      "at cv = 5, cv_score is 0.8857406146589945, train_accu is 0.8944481366818667, test_accu is 0.8945914466570097 \n",
      "\n",
      "at cv = 6, cv_score is 0.8868941047683484, train_accu is 0.8944481366818667, test_accu is 0.8945914466570097 \n",
      "\n",
      "at cv = 7, cv_score is 0.8840400627916499, train_accu is 0.8944481366818667, test_accu is 0.8945914466570097 \n",
      "\n",
      "at cv = 8, cv_score is 0.8882618783932388, train_accu is 0.8944481366818667, test_accu is 0.8945914466570097 \n",
      "\n",
      "at cv = 9, cv_score is 0.8812478781412287, train_accu is 0.8944481366818667, test_accu is 0.8945914466570097 \n",
      "\n",
      "at cv = 10, cv_score is 0.8855266260381282, train_accu is 0.8944481366818667, test_accu is 0.8945914466570097 \n",
      "\n",
      "at cv = 11, cv_score is 0.8772076402871772, train_accu is 0.8944481366818667, test_accu is 0.8945914466570097 \n",
      "\n",
      "at cv = 12, cv_score is 0.8812470666207619, train_accu is 0.8944481366818667, test_accu is 0.8945914466570097 \n",
      "\n"
     ]
    }
   ],
   "source": [
    "train_accuracy = r2_score(y_train, pred_train)\n",
    "test_accuracy = r2_score(y_test, pred_test)\n",
    "for j in range(3,13):\n",
    "    cv_score = cross_val_score(lr, X_scaled, y, cv = j)\n",
    "    cv_mean = cv_score.mean()\n",
    "    print(f'at cv = {j}, cv_score is {cv_mean}, train_accu is {train_accuracy}, test_accu is {test_accuracy} \\n')"
   ]
  },
  {
   "cell_type": "markdown",
   "metadata": {},
   "source": [
    "#### Best fold for cv is 3, but there isnt much difference between other folds as well hence we will select 5 as our CV fold."
   ]
  },
  {
   "cell_type": "code",
   "execution_count": 48,
   "metadata": {},
   "outputs": [
    {
     "data": {
      "text/plain": [
       "0.8857406146589945"
      ]
     },
     "execution_count": 48,
     "metadata": {},
     "output_type": "execute_result"
    }
   ],
   "source": [
    "cross_val_score(lr, X_scaled, y, cv = 5, scoring ='r2').mean()"
   ]
  },
  {
   "cell_type": "markdown",
   "metadata": {},
   "source": [
    "<h2 align = 'center'><font color = \"blue\">Checking for Lasso algorithm..</font></h2>"
   ]
  },
  {
   "cell_type": "markdown",
   "metadata": {},
   "source": [
    "## Finding random state to get best split for traing & testing sets"
   ]
  },
  {
   "cell_type": "code",
   "execution_count": 49,
   "metadata": {},
   "outputs": [],
   "source": [
    "ls = Lasso()\n",
    "train = []\n",
    "test = []\n",
    "diff = []\n",
    "randomstate = []\n",
    "for i in range(0, 100):\n",
    "    x_train, x_test, y_train, y_test = train_test_split(X_scaled, y, test_size = 0.25, random_state = i)\n",
    "    ls.fit(x_train, y_train)\n",
    "    pred_train = ls.predict(x_train)\n",
    "    pred_test = ls.predict(x_test)\n",
    "\n",
    "    train.append(r2_score(y_train, pred_train))\n",
    "    test.append(r2_score(y_test, pred_test))\n",
    "    diff.append(r2_score(y_train, pred_train) - r2_score(y_test, pred_test))\n",
    "    randomstate.append(i)\n",
    "    \n",
    "table = pd.DataFrame(list(zip(randomstate, train, test, diff)),\n",
    "                              columns =['randomstate', 'train_score', 'test_score', 'diff_score'])\n",
    "#                               index=pd.RangeIndex(start=1, stop=(len(randomstate)+1), name='Sr. No.'))"
   ]
  },
  {
   "cell_type": "code",
   "execution_count": 50,
   "metadata": {},
   "outputs": [
    {
     "data": {
      "text/html": [
       "<div>\n",
       "<style scoped>\n",
       "    .dataframe tbody tr th:only-of-type {\n",
       "        vertical-align: middle;\n",
       "    }\n",
       "\n",
       "    .dataframe tbody tr th {\n",
       "        vertical-align: top;\n",
       "    }\n",
       "\n",
       "    .dataframe thead th {\n",
       "        text-align: right;\n",
       "    }\n",
       "</style>\n",
       "<table border=\"1\" class=\"dataframe\">\n",
       "  <thead>\n",
       "    <tr style=\"text-align: right;\">\n",
       "      <th></th>\n",
       "      <th>randomstate</th>\n",
       "      <th>train_score</th>\n",
       "      <th>test_score</th>\n",
       "      <th>diff_score</th>\n",
       "    </tr>\n",
       "  </thead>\n",
       "  <tbody>\n",
       "    <tr>\n",
       "      <th>88</th>\n",
       "      <td>88</td>\n",
       "      <td>0.825430</td>\n",
       "      <td>0.834707</td>\n",
       "      <td>-0.009277</td>\n",
       "    </tr>\n",
       "    <tr>\n",
       "      <th>3</th>\n",
       "      <td>3</td>\n",
       "      <td>0.803755</td>\n",
       "      <td>0.811019</td>\n",
       "      <td>-0.007264</td>\n",
       "    </tr>\n",
       "    <tr>\n",
       "      <th>72</th>\n",
       "      <td>72</td>\n",
       "      <td>0.817293</td>\n",
       "      <td>0.821644</td>\n",
       "      <td>-0.004350</td>\n",
       "    </tr>\n",
       "    <tr>\n",
       "      <th>55</th>\n",
       "      <td>55</td>\n",
       "      <td>0.820003</td>\n",
       "      <td>0.823731</td>\n",
       "      <td>-0.003728</td>\n",
       "    </tr>\n",
       "    <tr>\n",
       "      <th>38</th>\n",
       "      <td>38</td>\n",
       "      <td>0.827964</td>\n",
       "      <td>0.830053</td>\n",
       "      <td>-0.002089</td>\n",
       "    </tr>\n",
       "    <tr>\n",
       "      <th>12</th>\n",
       "      <td>12</td>\n",
       "      <td>0.821218</td>\n",
       "      <td>0.822112</td>\n",
       "      <td>-0.000894</td>\n",
       "    </tr>\n",
       "    <tr>\n",
       "      <th>74</th>\n",
       "      <td>74</td>\n",
       "      <td>0.782454</td>\n",
       "      <td>0.782346</td>\n",
       "      <td>0.000108</td>\n",
       "    </tr>\n",
       "    <tr>\n",
       "      <th>11</th>\n",
       "      <td>11</td>\n",
       "      <td>0.798504</td>\n",
       "      <td>0.797870</td>\n",
       "      <td>0.000634</td>\n",
       "    </tr>\n",
       "    <tr>\n",
       "      <th>20</th>\n",
       "      <td>20</td>\n",
       "      <td>0.804150</td>\n",
       "      <td>0.800172</td>\n",
       "      <td>0.003978</td>\n",
       "    </tr>\n",
       "    <tr>\n",
       "      <th>14</th>\n",
       "      <td>14</td>\n",
       "      <td>0.794972</td>\n",
       "      <td>0.790176</td>\n",
       "      <td>0.004796</td>\n",
       "    </tr>\n",
       "    <tr>\n",
       "      <th>97</th>\n",
       "      <td>97</td>\n",
       "      <td>0.820889</td>\n",
       "      <td>0.813844</td>\n",
       "      <td>0.007045</td>\n",
       "    </tr>\n",
       "    <tr>\n",
       "      <th>15</th>\n",
       "      <td>15</td>\n",
       "      <td>0.831609</td>\n",
       "      <td>0.824309</td>\n",
       "      <td>0.007299</td>\n",
       "    </tr>\n",
       "    <tr>\n",
       "      <th>66</th>\n",
       "      <td>66</td>\n",
       "      <td>0.815934</td>\n",
       "      <td>0.807225</td>\n",
       "      <td>0.008709</td>\n",
       "    </tr>\n",
       "    <tr>\n",
       "      <th>92</th>\n",
       "      <td>92</td>\n",
       "      <td>0.808143</td>\n",
       "      <td>0.798982</td>\n",
       "      <td>0.009161</td>\n",
       "    </tr>\n",
       "    <tr>\n",
       "      <th>26</th>\n",
       "      <td>26</td>\n",
       "      <td>0.841179</td>\n",
       "      <td>0.831198</td>\n",
       "      <td>0.009981</td>\n",
       "    </tr>\n",
       "  </tbody>\n",
       "</table>\n",
       "</div>"
      ],
      "text/plain": [
       "    randomstate  train_score  test_score  diff_score\n",
       "88           88     0.825430    0.834707   -0.009277\n",
       "3             3     0.803755    0.811019   -0.007264\n",
       "72           72     0.817293    0.821644   -0.004350\n",
       "55           55     0.820003    0.823731   -0.003728\n",
       "38           38     0.827964    0.830053   -0.002089\n",
       "12           12     0.821218    0.822112   -0.000894\n",
       "74           74     0.782454    0.782346    0.000108\n",
       "11           11     0.798504    0.797870    0.000634\n",
       "20           20     0.804150    0.800172    0.003978\n",
       "14           14     0.794972    0.790176    0.004796\n",
       "97           97     0.820889    0.813844    0.007045\n",
       "15           15     0.831609    0.824309    0.007299\n",
       "66           66     0.815934    0.807225    0.008709\n",
       "92           92     0.808143    0.798982    0.009161\n",
       "26           26     0.841179    0.831198    0.009981"
      ]
     },
     "execution_count": 50,
     "metadata": {},
     "output_type": "execute_result"
    }
   ],
   "source": [
    "table[(-0.01 < table['diff_score']) & (table['diff_score'] < 0.01)].sort_values(by=['diff_score', 'train_score', 'test_score'])"
   ]
  },
  {
   "cell_type": "markdown",
   "metadata": {},
   "source": [
    "#### Best Random state is 74 for splitting data."
   ]
  },
  {
   "cell_type": "markdown",
   "metadata": {},
   "source": [
    "## Training the model.."
   ]
  },
  {
   "cell_type": "code",
   "execution_count": 61,
   "metadata": {},
   "outputs": [],
   "source": [
    "x_train, x_test, y_train, y_test = train_test_split(X_scaled, y, random_state=74, test_size=.25)"
   ]
  },
  {
   "cell_type": "code",
   "execution_count": 62,
   "metadata": {},
   "outputs": [
    {
     "name": "stdout",
     "output_type": "stream",
     "text": [
      "===scores for training set===\n",
      "r2 score for training set 0.7824540306860646\n",
      "MAE for training set:  1.6469872169162\n",
      "MSE for training set:  5.088998811349486\n",
      "SMSE for training set:  2.255880939089979\n",
      " \n",
      "===scores for testing set===\n",
      "r2 score for testing set :  0.7823463437553145\n",
      "MAE for testing set:  2.150808725126189\n",
      "MSE for testing set:  7.549413705070288\n",
      "SMSE for testing set:  2.747619643449633\n"
     ]
    },
    {
     "data": {
      "image/png": "[encoded data removed]",
      "text/plain": [
       "<Figure size 432x360 with 1 Axes>"
      ]
     },
     "metadata": {
      "needs_background": "light"
     },
     "output_type": "display_data"
    }
   ],
   "source": [
    "ls = Lasso()\n",
    "ls.fit(x_train, y_train)\n",
    "pred_test = ls.predict(x_test)\n",
    "pred_train = ls.predict(x_train)\n",
    "print('===scores for training set===')\n",
    "print('r2 score for training set', r2_score(y_train, pred_train))\n",
    "print('MAE for training set: ', mean_absolute_error(y_train, pred_train))\n",
    "print('MSE for training set: ', mean_squared_error(y_train, pred_train))\n",
    "print('SMSE for training set: ', np.sqrt(mean_squared_error(y_train, pred_train)))\n",
    "print(' ')\n",
    "print('===scores for testing set===')\n",
    "print('r2 score for testing set : ', r2_score(y_test, pred_test))\n",
    "print('MAE for testing set: ', mean_absolute_error(y_test, pred_test))\n",
    "print('MSE for testing set: ', mean_squared_error(y_test, pred_test))\n",
    "print('SMSE for testing set: ', np.sqrt(mean_squared_error(y_test, pred_test)))\n",
    "plt.figure(figsize = (6,5))\n",
    "plt.scatter(x = y_test, y=pred_test, color = 'r')\n",
    "plt.plot(y_test, y_test, color = 'b')\n",
    "plt.xlabel('actual', fontsize = 15)\n",
    "plt.ylabel('predictions', fontsize = 15)\n",
    "plt.title('Lasso_regression', fontsize = 18)\n",
    "plt.show()"
   ]
  },
  {
   "cell_type": "markdown",
   "metadata": {},
   "source": [
    "## Cross validation of the model"
   ]
  },
  {
   "cell_type": "code",
   "execution_count": 63,
   "metadata": {},
   "outputs": [
    {
     "name": "stdout",
     "output_type": "stream",
     "text": [
      "at cv = 3, cv_score is 0.8178584890361975, train_accu is 0.7824540306860646, test_accu is 0.7823463437553145 \n",
      "\n",
      "at cv = 4, cv_score is 0.8152800487338876, train_accu is 0.7824540306860646, test_accu is 0.7823463437553145 \n",
      "\n",
      "at cv = 5, cv_score is 0.8163649691832717, train_accu is 0.7824540306860646, test_accu is 0.7823463437553145 \n",
      "\n",
      "at cv = 6, cv_score is 0.81310294519329, train_accu is 0.7824540306860646, test_accu is 0.7823463437553145 \n",
      "\n",
      "at cv = 7, cv_score is 0.8098893042289045, train_accu is 0.7824540306860646, test_accu is 0.7823463437553145 \n",
      "\n",
      "at cv = 8, cv_score is 0.8184278334446049, train_accu is 0.7824540306860646, test_accu is 0.7823463437553145 \n",
      "\n",
      "at cv = 9, cv_score is 0.809739796582535, train_accu is 0.7824540306860646, test_accu is 0.7823463437553145 \n",
      "\n",
      "at cv = 10, cv_score is 0.8144412465705712, train_accu is 0.7824540306860646, test_accu is 0.7823463437553145 \n",
      "\n",
      "at cv = 11, cv_score is 0.8078633316311955, train_accu is 0.7824540306860646, test_accu is 0.7823463437553145 \n",
      "\n",
      "at cv = 12, cv_score is 0.8108803867500088, train_accu is 0.7824540306860646, test_accu is 0.7823463437553145 \n",
      "\n"
     ]
    }
   ],
   "source": [
    "train_accuracy = r2_score(y_train, pred_train)\n",
    "test_accuracy = r2_score(y_test, pred_test)\n",
    "for j in range(3,13):\n",
    "    cv_score = cross_val_score(ls, X_scaled, y, cv = j)\n",
    "    cv_mean = cv_score.mean()\n",
    "    print(f'at cv = {j}, cv_score is {cv_mean}, train_accu is {train_accuracy}, test_accu is {test_accuracy} \\n')"
   ]
  },
  {
   "cell_type": "markdown",
   "metadata": {},
   "source": [
    "#### Best fold for cv is 11, as corss val score at cv=11 is close to the test score."
   ]
  },
  {
   "cell_type": "code",
   "execution_count": 64,
   "metadata": {},
   "outputs": [
    {
     "data": {
      "text/plain": [
       "0.8078633316311955"
      ]
     },
     "execution_count": 64,
     "metadata": {},
     "output_type": "execute_result"
    }
   ],
   "source": [
    "cross_val_score(ls, X_scaled, y, cv = 11, scoring ='r2').mean()"
   ]
  },
  {
   "cell_type": "markdown",
   "metadata": {},
   "source": [
    "<h2 align = 'center'><font color = \"blue\">Checking for Ridge algorithm..</font></h2>"
   ]
  },
  {
   "cell_type": "markdown",
   "metadata": {},
   "source": [
    "## Finding random state to get best split for traing & testing sets"
   ]
  },
  {
   "cell_type": "code",
   "execution_count": 65,
   "metadata": {},
   "outputs": [],
   "source": [
    "rd = Ridge()\n",
    "train = []\n",
    "test = []\n",
    "diff = []\n",
    "randomstate = []\n",
    "for i in range(0, 100):\n",
    "    x_train, x_test, y_train, y_test = train_test_split(X_scaled, y, test_size = 0.25, random_state = i)\n",
    "    rd.fit(x_train, y_train)\n",
    "    pred_train = rd.predict(x_train)\n",
    "    pred_test = rd.predict(x_test)\n",
    "\n",
    "    train.append(r2_score(y_train, pred_train))\n",
    "    test.append(r2_score(y_test, pred_test))\n",
    "    diff.append(r2_score(y_train, pred_train) - r2_score(y_test, pred_test))\n",
    "    randomstate.append(i)\n",
    "    \n",
    "table = pd.DataFrame(list(zip(randomstate, train, test, diff)),\n",
    "                              columns =['randomstate', 'train_score', 'test_score', 'diff_score'])\n",
    "#                               index=pd.RangeIndex(start=1, stop=(len(randomstate)+1), name='Sr. No.'))"
   ]
  },
  {
   "cell_type": "code",
   "execution_count": 66,
   "metadata": {},
   "outputs": [
    {
     "data": {
      "text/html": [
       "<div>\n",
       "<style scoped>\n",
       "    .dataframe tbody tr th:only-of-type {\n",
       "        vertical-align: middle;\n",
       "    }\n",
       "\n",
       "    .dataframe tbody tr th {\n",
       "        vertical-align: top;\n",
       "    }\n",
       "\n",
       "    .dataframe thead th {\n",
       "        text-align: right;\n",
       "    }\n",
       "</style>\n",
       "<table border=\"1\" class=\"dataframe\">\n",
       "  <thead>\n",
       "    <tr style=\"text-align: right;\">\n",
       "      <th></th>\n",
       "      <th>randomstate</th>\n",
       "      <th>train_score</th>\n",
       "      <th>test_score</th>\n",
       "      <th>diff_score</th>\n",
       "    </tr>\n",
       "  </thead>\n",
       "  <tbody>\n",
       "    <tr>\n",
       "      <th>72</th>\n",
       "      <td>72</td>\n",
       "      <td>0.891709</td>\n",
       "      <td>0.901054</td>\n",
       "      <td>-0.009346</td>\n",
       "    </tr>\n",
       "    <tr>\n",
       "      <th>92</th>\n",
       "      <td>92</td>\n",
       "      <td>0.891028</td>\n",
       "      <td>0.899639</td>\n",
       "      <td>-0.008611</td>\n",
       "    </tr>\n",
       "    <tr>\n",
       "      <th>12</th>\n",
       "      <td>12</td>\n",
       "      <td>0.893124</td>\n",
       "      <td>0.899378</td>\n",
       "      <td>-0.006254</td>\n",
       "    </tr>\n",
       "    <tr>\n",
       "      <th>34</th>\n",
       "      <td>34</td>\n",
       "      <td>0.893094</td>\n",
       "      <td>0.898401</td>\n",
       "      <td>-0.005307</td>\n",
       "    </tr>\n",
       "    <tr>\n",
       "      <th>16</th>\n",
       "      <td>16</td>\n",
       "      <td>0.893090</td>\n",
       "      <td>0.897738</td>\n",
       "      <td>-0.004648</td>\n",
       "    </tr>\n",
       "    <tr>\n",
       "      <th>88</th>\n",
       "      <td>88</td>\n",
       "      <td>0.894054</td>\n",
       "      <td>0.898338</td>\n",
       "      <td>-0.004284</td>\n",
       "    </tr>\n",
       "    <tr>\n",
       "      <th>46</th>\n",
       "      <td>46</td>\n",
       "      <td>0.893925</td>\n",
       "      <td>0.898090</td>\n",
       "      <td>-0.004165</td>\n",
       "    </tr>\n",
       "    <tr>\n",
       "      <th>77</th>\n",
       "      <td>77</td>\n",
       "      <td>0.893756</td>\n",
       "      <td>0.895247</td>\n",
       "      <td>-0.001491</td>\n",
       "    </tr>\n",
       "    <tr>\n",
       "      <th>51</th>\n",
       "      <td>51</td>\n",
       "      <td>0.893454</td>\n",
       "      <td>0.894815</td>\n",
       "      <td>-0.001360</td>\n",
       "    </tr>\n",
       "    <tr>\n",
       "      <th>55</th>\n",
       "      <td>55</td>\n",
       "      <td>0.894407</td>\n",
       "      <td>0.894895</td>\n",
       "      <td>-0.000487</td>\n",
       "    </tr>\n",
       "    <tr>\n",
       "      <th>60</th>\n",
       "      <td>60</td>\n",
       "      <td>0.893248</td>\n",
       "      <td>0.892829</td>\n",
       "      <td>0.000419</td>\n",
       "    </tr>\n",
       "    <tr>\n",
       "      <th>6</th>\n",
       "      <td>6</td>\n",
       "      <td>0.893809</td>\n",
       "      <td>0.892900</td>\n",
       "      <td>0.000909</td>\n",
       "    </tr>\n",
       "    <tr>\n",
       "      <th>38</th>\n",
       "      <td>38</td>\n",
       "      <td>0.895707</td>\n",
       "      <td>0.892428</td>\n",
       "      <td>0.003280</td>\n",
       "    </tr>\n",
       "    <tr>\n",
       "      <th>15</th>\n",
       "      <td>15</td>\n",
       "      <td>0.895112</td>\n",
       "      <td>0.887964</td>\n",
       "      <td>0.007148</td>\n",
       "    </tr>\n",
       "    <tr>\n",
       "      <th>41</th>\n",
       "      <td>41</td>\n",
       "      <td>0.895068</td>\n",
       "      <td>0.887589</td>\n",
       "      <td>0.007479</td>\n",
       "    </tr>\n",
       "    <tr>\n",
       "      <th>47</th>\n",
       "      <td>47</td>\n",
       "      <td>0.894877</td>\n",
       "      <td>0.886714</td>\n",
       "      <td>0.008163</td>\n",
       "    </tr>\n",
       "    <tr>\n",
       "      <th>66</th>\n",
       "      <td>66</td>\n",
       "      <td>0.897497</td>\n",
       "      <td>0.888719</td>\n",
       "      <td>0.008778</td>\n",
       "    </tr>\n",
       "  </tbody>\n",
       "</table>\n",
       "</div>"
      ],
      "text/plain": [
       "    randomstate  train_score  test_score  diff_score\n",
       "72           72     0.891709    0.901054   -0.009346\n",
       "92           92     0.891028    0.899639   -0.008611\n",
       "12           12     0.893124    0.899378   -0.006254\n",
       "34           34     0.893094    0.898401   -0.005307\n",
       "16           16     0.893090    0.897738   -0.004648\n",
       "88           88     0.894054    0.898338   -0.004284\n",
       "46           46     0.893925    0.898090   -0.004165\n",
       "77           77     0.893756    0.895247   -0.001491\n",
       "51           51     0.893454    0.894815   -0.001360\n",
       "55           55     0.894407    0.894895   -0.000487\n",
       "60           60     0.893248    0.892829    0.000419\n",
       "6             6     0.893809    0.892900    0.000909\n",
       "38           38     0.895707    0.892428    0.003280\n",
       "15           15     0.895112    0.887964    0.007148\n",
       "41           41     0.895068    0.887589    0.007479\n",
       "47           47     0.894877    0.886714    0.008163\n",
       "66           66     0.897497    0.888719    0.008778"
      ]
     },
     "execution_count": 66,
     "metadata": {},
     "output_type": "execute_result"
    }
   ],
   "source": [
    "table[(-0.01 < table['diff_score']) & (table['diff_score'] < 0.01)].sort_values(by=['diff_score', 'train_score', 'test_score'])"
   ]
  },
  {
   "cell_type": "markdown",
   "metadata": {},
   "source": [
    "#### Best Random state is 60 for splitting data."
   ]
  },
  {
   "cell_type": "markdown",
   "metadata": {},
   "source": [
    "## Training the model.."
   ]
  },
  {
   "cell_type": "code",
   "execution_count": 67,
   "metadata": {},
   "outputs": [],
   "source": [
    "x_train, x_test, y_train, y_test = train_test_split(X_scaled, y, random_state=60, test_size=.25)"
   ]
  },
  {
   "cell_type": "code",
   "execution_count": 68,
   "metadata": {},
   "outputs": [
    {
     "name": "stdout",
     "output_type": "stream",
     "text": [
      "===scores for training set===\n",
      "r2 score for training set 0.8932482156887002\n",
      "MAE for training set:  1.2440631129645423\n",
      "MSE for training set:  2.4732631484723457\n",
      "SMSE for training set:  1.5726611677256948\n",
      " \n",
      "===scores for testing set===\n",
      "r2 score for testing set :  0.892829200832897\n",
      "MAE for testing set:  1.3679019509600294\n",
      "MSE for testing set:  3.931428304337403\n",
      "SMSE for testing set:  1.9827829695499715\n"
     ]
    },
    {
     "data": {
      "image/png": "[encoded data removed]",
      "text/plain": [
       "<Figure size 432x360 with 1 Axes>"
      ]
     },
     "metadata": {
      "needs_background": "light"
     },
     "output_type": "display_data"
    }
   ],
   "source": [
    "rd = Ridge()\n",
    "rd.fit(x_train, y_train)\n",
    "pred_test = rd.predict(x_test)\n",
    "pred_train = rd.predict(x_train)\n",
    "print('===scores for training set===')\n",
    "print('r2 score for training set', r2_score(y_train, pred_train))\n",
    "print('MAE for training set: ', mean_absolute_error(y_train, pred_train))\n",
    "print('MSE for training set: ', mean_squared_error(y_train, pred_train))\n",
    "print('SMSE for training set: ', np.sqrt(mean_squared_error(y_train, pred_train)))\n",
    "print(' ')\n",
    "print('===scores for testing set===')\n",
    "print('r2 score for testing set : ', r2_score(y_test, pred_test))\n",
    "print('MAE for testing set: ', mean_absolute_error(y_test, pred_test))\n",
    "print('MSE for testing set: ', mean_squared_error(y_test, pred_test))\n",
    "print('SMSE for testing set: ', np.sqrt(mean_squared_error(y_test, pred_test)))\n",
    "plt.figure(figsize = (6,5))\n",
    "plt.scatter(x = y_test, y=pred_test, color = 'r')\n",
    "plt.plot(y_test, y_test, color = 'b')\n",
    "plt.xlabel('actual', fontsize = 15)\n",
    "plt.ylabel('predictions', fontsize = 15)\n",
    "plt.title('Ridge_regression', fontsize = 18)\n",
    "plt.show()"
   ]
  },
  {
   "cell_type": "markdown",
   "metadata": {},
   "source": [
    "## Cross validation of the model"
   ]
  },
  {
   "cell_type": "code",
   "execution_count": 69,
   "metadata": {},
   "outputs": [
    {
     "name": "stdout",
     "output_type": "stream",
     "text": [
      "at cv = 3, cv_score is 0.8889652718867754, train_accu is 0.8932482156887002, test_accu is 0.892829200832897 \n",
      "\n",
      "at cv = 4, cv_score is 0.8883855256166289, train_accu is 0.8932482156887002, test_accu is 0.892829200832897 \n",
      "\n",
      "at cv = 5, cv_score is 0.8858278340182535, train_accu is 0.8932482156887002, test_accu is 0.892829200832897 \n",
      "\n",
      "at cv = 6, cv_score is 0.8868471402426068, train_accu is 0.8932482156887002, test_accu is 0.892829200832897 \n",
      "\n",
      "at cv = 7, cv_score is 0.8840495597794374, train_accu is 0.8932482156887002, test_accu is 0.892829200832897 \n",
      "\n",
      "at cv = 8, cv_score is 0.8883596599731567, train_accu is 0.8932482156887002, test_accu is 0.892829200832897 \n",
      "\n",
      "at cv = 9, cv_score is 0.8813209631321117, train_accu is 0.8932482156887002, test_accu is 0.892829200832897 \n",
      "\n",
      "at cv = 10, cv_score is 0.885649611111384, train_accu is 0.8932482156887002, test_accu is 0.892829200832897 \n",
      "\n",
      "at cv = 11, cv_score is 0.8773416920766014, train_accu is 0.8932482156887002, test_accu is 0.892829200832897 \n",
      "\n",
      "at cv = 12, cv_score is 0.8813790220031419, train_accu is 0.8932482156887002, test_accu is 0.892829200832897 \n",
      "\n"
     ]
    }
   ],
   "source": [
    "train_accuracy = r2_score(y_train, pred_train)\n",
    "test_accuracy = r2_score(y_test, pred_test)\n",
    "for j in range(3,13):\n",
    "    cv_score = cross_val_score(rd, X_scaled, y, cv = j)\n",
    "    cv_mean = cv_score.mean()\n",
    "    print(f'at cv = {j}, cv_score is {cv_mean}, train_accu is {train_accuracy}, test_accu is {test_accuracy} \\n')"
   ]
  },
  {
   "cell_type": "markdown",
   "metadata": {},
   "source": [
    "#### Best fold for cv is 3, but there isnt much difference between other folds as well hence we will select 4 as our CV fold."
   ]
  },
  {
   "cell_type": "code",
   "execution_count": 70,
   "metadata": {},
   "outputs": [
    {
     "data": {
      "text/plain": [
       "0.8883855256166289"
      ]
     },
     "execution_count": 70,
     "metadata": {},
     "output_type": "execute_result"
    }
   ],
   "source": [
    "cross_val_score(rd, X_scaled, y, cv = 4, scoring ='r2').mean()"
   ]
  },
  {
   "cell_type": "markdown",
   "metadata": {},
   "source": [
    "<h2 align = 'center'><font color = \"blue\">Checking for RandomForestRegressor algorithm..</font></h2>"
   ]
  },
  {
   "cell_type": "markdown",
   "metadata": {},
   "source": [
    "## Finding random state to get best split for traing & testing sets"
   ]
  },
  {
   "cell_type": "code",
   "execution_count": 71,
   "metadata": {},
   "outputs": [],
   "source": [
    "rfr = RandomForestRegressor()\n",
    "train = []\n",
    "test = []\n",
    "diff = []\n",
    "randomstate = []\n",
    "for i in range(0, 100):\n",
    "    x_train, x_test, y_train, y_test = train_test_split(X_scaled, y, test_size = 0.25, random_state = i)\n",
    "    rfr.fit(x_train, y_train)\n",
    "    pred_train = rfr.predict(x_train)\n",
    "    pred_test = rfr.predict(x_test)\n",
    "\n",
    "    train.append(r2_score(y_train, pred_train))\n",
    "    test.append(r2_score(y_test, pred_test))\n",
    "    diff.append(r2_score(y_train, pred_train) - r2_score(y_test, pred_test))\n",
    "    randomstate.append(i)\n",
    "    \n",
    "table = pd.DataFrame(list(zip(randomstate, train, test, diff)),\n",
    "                              columns =['randomstate', 'train_score', 'test_score', 'diff_score'])\n",
    "#                               index=pd.RangeIndex(start=1, stop=(len(randomstate)+1), name='Sr. No.'))"
   ]
  },
  {
   "cell_type": "code",
   "execution_count": 74,
   "metadata": {},
   "outputs": [
    {
     "data": {
      "text/html": [
       "<div>\n",
       "<style scoped>\n",
       "    .dataframe tbody tr th:only-of-type {\n",
       "        vertical-align: middle;\n",
       "    }\n",
       "\n",
       "    .dataframe tbody tr th {\n",
       "        vertical-align: top;\n",
       "    }\n",
       "\n",
       "    .dataframe thead th {\n",
       "        text-align: right;\n",
       "    }\n",
       "</style>\n",
       "<table border=\"1\" class=\"dataframe\">\n",
       "  <thead>\n",
       "    <tr style=\"text-align: right;\">\n",
       "      <th></th>\n",
       "      <th>randomstate</th>\n",
       "      <th>train_score</th>\n",
       "      <th>test_score</th>\n",
       "      <th>diff_score</th>\n",
       "    </tr>\n",
       "  </thead>\n",
       "  <tbody>\n",
       "    <tr>\n",
       "      <th>74</th>\n",
       "      <td>74</td>\n",
       "      <td>0.995277</td>\n",
       "      <td>0.985539</td>\n",
       "      <td>0.009738</td>\n",
       "    </tr>\n",
       "  </tbody>\n",
       "</table>\n",
       "</div>"
      ],
      "text/plain": [
       "    randomstate  train_score  test_score  diff_score\n",
       "74           74     0.995277    0.985539    0.009738"
      ]
     },
     "execution_count": 74,
     "metadata": {},
     "output_type": "execute_result"
    }
   ],
   "source": [
    "table[(-0.01 < table['diff_score']) & (table['diff_score'] < 0.01)].sort_values(by=['diff_score', 'train_score', 'test_score'])"
   ]
  },
  {
   "cell_type": "markdown",
   "metadata": {},
   "source": [
    "#### Best Random state is 74 for splitting data."
   ]
  },
  {
   "cell_type": "markdown",
   "metadata": {},
   "source": [
    "## Training the model.."
   ]
  },
  {
   "cell_type": "code",
   "execution_count": 75,
   "metadata": {},
   "outputs": [],
   "source": [
    "x_train, x_test, y_train, y_test = train_test_split(X_scaled, y, random_state=74, test_size=.25)"
   ]
  },
  {
   "cell_type": "code",
   "execution_count": 76,
   "metadata": {},
   "outputs": [
    {
     "name": "stdout",
     "output_type": "stream",
     "text": [
      "===scores for training set===\n",
      "r2 score for training set 0.9956761329071178\n",
      "MAE for training set:  0.21318918918918828\n",
      "MSE for training set:  0.1011471486486482\n",
      "SMSE for training set:  0.31803639516358534\n",
      " \n",
      "===scores for testing set===\n",
      "r2 score for testing set :  0.9870343646170423\n",
      "MAE for testing set:  0.5554199999999969\n",
      "MSE for testing set:  0.4497188199999973\n",
      "SMSE for testing set:  0.6706107813031321\n"
     ]
    },
    {
     "data": {
      "image/png": "[encoded data removed]",
      "text/plain": [
       "<Figure size 432x360 with 1 Axes>"
      ]
     },
     "metadata": {
      "needs_background": "light"
     },
     "output_type": "display_data"
    }
   ],
   "source": [
    "rfr = RandomForestRegressor()\n",
    "rfr.fit(x_train, y_train)\n",
    "pred_test = rfr.predict(x_test)\n",
    "pred_train = rfr.predict(x_train)\n",
    "print('===scores for training set===')\n",
    "print('r2 score for training set', r2_score(y_train, pred_train))\n",
    "print('MAE for training set: ', mean_absolute_error(y_train, pred_train))\n",
    "print('MSE for training set: ', mean_squared_error(y_train, pred_train))\n",
    "print('SMSE for training set: ', np.sqrt(mean_squared_error(y_train, pred_train)))\n",
    "print(' ')\n",
    "print('===scores for testing set===')\n",
    "print('r2 score for testing set : ', r2_score(y_test, pred_test))\n",
    "print('MAE for testing set: ', mean_absolute_error(y_test, pred_test))\n",
    "print('MSE for testing set: ', mean_squared_error(y_test, pred_test))\n",
    "print('SMSE for testing set: ', np.sqrt(mean_squared_error(y_test, pred_test)))\n",
    "plt.figure(figsize = (6,5))\n",
    "plt.scatter(x = y_test, y=pred_test, color = 'r')\n",
    "plt.plot(y_test, y_test, color = 'b')\n",
    "plt.xlabel('actual', fontsize = 15)\n",
    "plt.ylabel('predictions', fontsize = 15)\n",
    "plt.title('Random forest regression', fontsize = 18)\n",
    "plt.show()"
   ]
  },
  {
   "cell_type": "markdown",
   "metadata": {},
   "source": [
    "## Cross validation of the model"
   ]
  },
  {
   "cell_type": "code",
   "execution_count": 77,
   "metadata": {},
   "outputs": [
    {
     "name": "stdout",
     "output_type": "stream",
     "text": [
      "at cv = 3, cv_score is 0.9745992836453065, train_accu is 0.9956761329071178, test_accu is 0.9870343646170423 \n",
      "\n",
      "at cv = 4, cv_score is 0.9785876419655678, train_accu is 0.9956761329071178, test_accu is 0.9870343646170423 \n",
      "\n",
      "at cv = 5, cv_score is 0.9763727057822592, train_accu is 0.9956761329071178, test_accu is 0.9870343646170423 \n",
      "\n",
      "at cv = 6, cv_score is 0.9774370379645507, train_accu is 0.9956761329071178, test_accu is 0.9870343646170423 \n",
      "\n",
      "at cv = 7, cv_score is 0.9774893808721872, train_accu is 0.9956761329071178, test_accu is 0.9870343646170423 \n",
      "\n",
      "at cv = 8, cv_score is 0.9770794265316135, train_accu is 0.9956761329071178, test_accu is 0.9870343646170423 \n",
      "\n",
      "at cv = 9, cv_score is 0.9772578388428946, train_accu is 0.9956761329071178, test_accu is 0.9870343646170423 \n",
      "\n",
      "at cv = 10, cv_score is 0.9776244603943489, train_accu is 0.9956761329071178, test_accu is 0.9870343646170423 \n",
      "\n",
      "at cv = 11, cv_score is 0.9761871217456666, train_accu is 0.9956761329071178, test_accu is 0.9870343646170423 \n",
      "\n",
      "at cv = 12, cv_score is 0.9759361677673012, train_accu is 0.9956761329071178, test_accu is 0.9870343646170423 \n",
      "\n"
     ]
    }
   ],
   "source": [
    "train_accuracy = r2_score(y_train, pred_train)\n",
    "test_accuracy = r2_score(y_test, pred_test)\n",
    "for j in range(3,13):\n",
    "    cv_score = cross_val_score(rfr, X_scaled, y, cv = j)\n",
    "    cv_mean = cv_score.mean()\n",
    "    print(f'at cv = {j}, cv_score is {cv_mean}, train_accu is {train_accuracy}, test_accu is {test_accuracy} \\n')"
   ]
  },
  {
   "cell_type": "markdown",
   "metadata": {},
   "source": [
    "#### Best fold for cv is 4."
   ]
  },
  {
   "cell_type": "code",
   "execution_count": 78,
   "metadata": {},
   "outputs": [
    {
     "data": {
      "text/plain": [
       "0.9768689224188674"
      ]
     },
     "execution_count": 78,
     "metadata": {},
     "output_type": "execute_result"
    }
   ],
   "source": [
    "cross_val_score(rfr, X_scaled, y, cv = 4, scoring ='r2').mean()"
   ]
  },
  {
   "cell_type": "markdown",
   "metadata": {},
   "source": [
    "<h2 align = 'center'><font color = \"blue\">Checking for AdaBoostRegressor algorithm..</font></h2>"
   ]
  },
  {
   "cell_type": "markdown",
   "metadata": {},
   "source": [
    "## Finding random state to get best split for traing & testing sets"
   ]
  },
  {
   "cell_type": "code",
   "execution_count": 79,
   "metadata": {},
   "outputs": [],
   "source": [
    "abr = AdaBoostRegressor()\n",
    "train = []\n",
    "test = []\n",
    "diff = []\n",
    "randomstate = []\n",
    "for i in range(0, 100):\n",
    "    x_train, x_test, y_train, y_test = train_test_split(X_scaled, y, test_size = 0.25, random_state = i)\n",
    "    abr.fit(x_train, y_train)\n",
    "    pred_train = abr.predict(x_train)\n",
    "    pred_test = abr.predict(x_test)\n",
    "\n",
    "    train.append(r2_score(y_train, pred_train))\n",
    "    test.append(r2_score(y_test, pred_test))\n",
    "    diff.append(r2_score(y_train, pred_train) - r2_score(y_test, pred_test))\n",
    "    randomstate.append(i)\n",
    "    \n",
    "table = pd.DataFrame(list(zip(randomstate, train, test, diff)),\n",
    "                              columns =['randomstate', 'train_score', 'test_score', 'diff_score'])\n",
    "#                               index=pd.RangeIndex(start=1, stop=(len(randomstate)+1), name='Sr. No.'))"
   ]
  },
  {
   "cell_type": "code",
   "execution_count": 80,
   "metadata": {},
   "outputs": [
    {
     "data": {
      "text/html": [
       "<div>\n",
       "<style scoped>\n",
       "    .dataframe tbody tr th:only-of-type {\n",
       "        vertical-align: middle;\n",
       "    }\n",
       "\n",
       "    .dataframe tbody tr th {\n",
       "        vertical-align: top;\n",
       "    }\n",
       "\n",
       "    .dataframe thead th {\n",
       "        text-align: right;\n",
       "    }\n",
       "</style>\n",
       "<table border=\"1\" class=\"dataframe\">\n",
       "  <thead>\n",
       "    <tr style=\"text-align: right;\">\n",
       "      <th></th>\n",
       "      <th>randomstate</th>\n",
       "      <th>train_score</th>\n",
       "      <th>test_score</th>\n",
       "      <th>diff_score</th>\n",
       "    </tr>\n",
       "  </thead>\n",
       "  <tbody>\n",
       "    <tr>\n",
       "      <th>74</th>\n",
       "      <td>74</td>\n",
       "      <td>0.970771</td>\n",
       "      <td>0.978414</td>\n",
       "      <td>-0.007642</td>\n",
       "    </tr>\n",
       "    <tr>\n",
       "      <th>42</th>\n",
       "      <td>42</td>\n",
       "      <td>0.974645</td>\n",
       "      <td>0.968996</td>\n",
       "      <td>0.005649</td>\n",
       "    </tr>\n",
       "    <tr>\n",
       "      <th>55</th>\n",
       "      <td>55</td>\n",
       "      <td>0.980505</td>\n",
       "      <td>0.973354</td>\n",
       "      <td>0.007151</td>\n",
       "    </tr>\n",
       "    <tr>\n",
       "      <th>23</th>\n",
       "      <td>23</td>\n",
       "      <td>0.975555</td>\n",
       "      <td>0.967092</td>\n",
       "      <td>0.008463</td>\n",
       "    </tr>\n",
       "    <tr>\n",
       "      <th>12</th>\n",
       "      <td>12</td>\n",
       "      <td>0.979570</td>\n",
       "      <td>0.970531</td>\n",
       "      <td>0.009039</td>\n",
       "    </tr>\n",
       "    <tr>\n",
       "      <th>46</th>\n",
       "      <td>46</td>\n",
       "      <td>0.975532</td>\n",
       "      <td>0.966315</td>\n",
       "      <td>0.009217</td>\n",
       "    </tr>\n",
       "    <tr>\n",
       "      <th>14</th>\n",
       "      <td>14</td>\n",
       "      <td>0.973027</td>\n",
       "      <td>0.963259</td>\n",
       "      <td>0.009768</td>\n",
       "    </tr>\n",
       "  </tbody>\n",
       "</table>\n",
       "</div>"
      ],
      "text/plain": [
       "    randomstate  train_score  test_score  diff_score\n",
       "74           74     0.970771    0.978414   -0.007642\n",
       "42           42     0.974645    0.968996    0.005649\n",
       "55           55     0.980505    0.973354    0.007151\n",
       "23           23     0.975555    0.967092    0.008463\n",
       "12           12     0.979570    0.970531    0.009039\n",
       "46           46     0.975532    0.966315    0.009217\n",
       "14           14     0.973027    0.963259    0.009768"
      ]
     },
     "execution_count": 80,
     "metadata": {},
     "output_type": "execute_result"
    }
   ],
   "source": [
    "table[(-0.01 < table['diff_score']) & (table['diff_score'] < 0.01)].sort_values(by=['diff_score', 'train_score', 'test_score'])"
   ]
  },
  {
   "cell_type": "markdown",
   "metadata": {},
   "source": [
    "#### Best Random state is 42 for splitting data."
   ]
  },
  {
   "cell_type": "markdown",
   "metadata": {},
   "source": [
    "## Training the model.."
   ]
  },
  {
   "cell_type": "code",
   "execution_count": 131,
   "metadata": {},
   "outputs": [],
   "source": [
    "x_train, x_test, y_train, y_test = train_test_split(X_scaled, y, random_state=42, test_size=.25)"
   ]
  },
  {
   "cell_type": "code",
   "execution_count": 132,
   "metadata": {},
   "outputs": [
    {
     "name": "stdout",
     "output_type": "stream",
     "text": [
      "===scores for training set===\n",
      "r2 score for training set 0.9739944193002691\n",
      "MAE for training set:  0.685788530354128\n",
      "MSE for training set:  0.6811060450068113\n",
      "SMSE for training set:  0.8252914909332407\n",
      " \n",
      "===scores for testing set===\n",
      "r2 score for testing set :  0.9690242612053437\n",
      "MAE for testing set:  0.7717108648366695\n",
      "MSE for testing set:  0.8908831873337393\n",
      "SMSE for testing set:  0.9438660854876285\n"
     ]
    },
    {
     "data": {
      "image/png": "[encoded data removed]",
      "text/plain": [
       "<Figure size 432x360 with 1 Axes>"
      ]
     },
     "metadata": {
      "needs_background": "light"
     },
     "output_type": "display_data"
    }
   ],
   "source": [
    "abr = AdaBoostRegressor()\n",
    "abr.fit(x_train, y_train)\n",
    "pred_test = abr.predict(x_test)\n",
    "pred_train = abr.predict(x_train)\n",
    "print('===scores for training set===')\n",
    "print('r2 score for training set', r2_score(y_train, pred_train))\n",
    "print('MAE for training set: ', mean_absolute_error(y_train, pred_train))\n",
    "print('MSE for training set: ', mean_squared_error(y_train, pred_train))\n",
    "print('SMSE for training set: ', np.sqrt(mean_squared_error(y_train, pred_train)))\n",
    "print(' ')\n",
    "print('===scores for testing set===')\n",
    "print('r2 score for testing set : ', r2_score(y_test, pred_test))\n",
    "print('MAE for testing set: ', mean_absolute_error(y_test, pred_test))\n",
    "print('MSE for testing set: ', mean_squared_error(y_test, pred_test))\n",
    "print('SMSE for testing set: ', np.sqrt(mean_squared_error(y_test, pred_test)))\n",
    "plt.figure(figsize = (6,5))\n",
    "plt.scatter(x = y_test, y=pred_test, color = 'r')\n",
    "plt.plot(y_test, y_test, color = 'b')\n",
    "plt.xlabel('actual', fontsize = 15)\n",
    "plt.ylabel('predictions', fontsize = 15)\n",
    "plt.title('AdaBoost_regression', fontsize = 18)\n",
    "plt.show()"
   ]
  },
  {
   "cell_type": "markdown",
   "metadata": {},
   "source": [
    "## Cross validation of the model"
   ]
  },
  {
   "cell_type": "code",
   "execution_count": 133,
   "metadata": {},
   "outputs": [
    {
     "name": "stdout",
     "output_type": "stream",
     "text": [
      "at cv = 3, cv_score is 0.9542245624259132, train_accu is 0.9739944193002691, test_accu is 0.9690242612053437 \n",
      "\n",
      "at cv = 4, cv_score is 0.9556833835696495, train_accu is 0.9739944193002691, test_accu is 0.9690242612053437 \n",
      "\n",
      "at cv = 5, cv_score is 0.9556834739820733, train_accu is 0.9739944193002691, test_accu is 0.9690242612053437 \n",
      "\n",
      "at cv = 6, cv_score is 0.9578917679725034, train_accu is 0.9739944193002691, test_accu is 0.9690242612053437 \n",
      "\n",
      "at cv = 7, cv_score is 0.9575847388196478, train_accu is 0.9739944193002691, test_accu is 0.9690242612053437 \n",
      "\n",
      "at cv = 8, cv_score is 0.9567724139159408, train_accu is 0.9739944193002691, test_accu is 0.9690242612053437 \n",
      "\n",
      "at cv = 9, cv_score is 0.9555553002149291, train_accu is 0.9739944193002691, test_accu is 0.9690242612053437 \n",
      "\n",
      "at cv = 10, cv_score is 0.9548766415595272, train_accu is 0.9739944193002691, test_accu is 0.9690242612053437 \n",
      "\n",
      "at cv = 11, cv_score is 0.9541448294599619, train_accu is 0.9739944193002691, test_accu is 0.9690242612053437 \n",
      "\n",
      "at cv = 12, cv_score is 0.9539240180313575, train_accu is 0.9739944193002691, test_accu is 0.9690242612053437 \n",
      "\n"
     ]
    }
   ],
   "source": [
    "train_accuracy = r2_score(y_train, pred_train)\n",
    "test_accuracy = r2_score(y_test, pred_test)\n",
    "for j in range(3,13):\n",
    "    cv_score = cross_val_score(abr, X_scaled, y, cv = j)\n",
    "    cv_mean = cv_score.mean()\n",
    "    print(f'at cv = {j}, cv_score is {cv_mean}, train_accu is {train_accuracy}, test_accu is {test_accuracy} \\n')"
   ]
  },
  {
   "cell_type": "markdown",
   "metadata": {},
   "source": [
    "#### Best fold for cv is 6."
   ]
  },
  {
   "cell_type": "code",
   "execution_count": 134,
   "metadata": {},
   "outputs": [
    {
     "data": {
      "text/plain": [
       "0.9565428384139771"
      ]
     },
     "execution_count": 134,
     "metadata": {},
     "output_type": "execute_result"
    }
   ],
   "source": [
    "cross_val_score(abr, X_scaled, y, cv = 6, scoring ='r2').mean()"
   ]
  },
  {
   "cell_type": "markdown",
   "metadata": {},
   "source": [
    "<h2 align = 'center'><font color = \"blue\">Checking for GradientBoostingRegressor algorithm..</font></h2>"
   ]
  },
  {
   "cell_type": "markdown",
   "metadata": {},
   "source": [
    "## Finding random state to get best split for traing & testing sets"
   ]
  },
  {
   "cell_type": "code",
   "execution_count": 85,
   "metadata": {},
   "outputs": [],
   "source": [
    "gbr = GradientBoostingRegressor()\n",
    "train = []\n",
    "test = []\n",
    "diff = []\n",
    "randomstate = []\n",
    "for i in range(0, 100):\n",
    "    x_train, x_test, y_train, y_test = train_test_split(X_scaled, y, test_size = 0.25, random_state = i)\n",
    "    gbr.fit(x_train, y_train)\n",
    "    pred_train = gbr.predict(x_train)\n",
    "    pred_test = gbr.predict(x_test)\n",
    "\n",
    "    train.append(r2_score(y_train, pred_train))\n",
    "    test.append(r2_score(y_test, pred_test))\n",
    "    diff.append(r2_score(y_train, pred_train) - r2_score(y_test, pred_test))\n",
    "    randomstate.append(i)\n",
    "    \n",
    "table = pd.DataFrame(list(zip(randomstate, train, test, diff)),\n",
    "                              columns =['randomstate', 'train_score', 'test_score', 'diff_score'])\n",
    "#                               index=pd.RangeIndex(start=1, stop=(len(randomstate)+1), name='Sr. No.'))"
   ]
  },
  {
   "cell_type": "code",
   "execution_count": 86,
   "metadata": {},
   "outputs": [
    {
     "data": {
      "text/html": [
       "<div>\n",
       "<style scoped>\n",
       "    .dataframe tbody tr th:only-of-type {\n",
       "        vertical-align: middle;\n",
       "    }\n",
       "\n",
       "    .dataframe tbody tr th {\n",
       "        vertical-align: top;\n",
       "    }\n",
       "\n",
       "    .dataframe thead th {\n",
       "        text-align: right;\n",
       "    }\n",
       "</style>\n",
       "<table border=\"1\" class=\"dataframe\">\n",
       "  <thead>\n",
       "    <tr style=\"text-align: right;\">\n",
       "      <th></th>\n",
       "      <th>randomstate</th>\n",
       "      <th>train_score</th>\n",
       "      <th>test_score</th>\n",
       "      <th>diff_score</th>\n",
       "    </tr>\n",
       "  </thead>\n",
       "  <tbody>\n",
       "    <tr>\n",
       "      <th>74</th>\n",
       "      <td>74</td>\n",
       "      <td>0.998513</td>\n",
       "      <td>0.988555</td>\n",
       "      <td>0.009958</td>\n",
       "    </tr>\n",
       "    <tr>\n",
       "      <th>34</th>\n",
       "      <td>34</td>\n",
       "      <td>0.998893</td>\n",
       "      <td>0.988788</td>\n",
       "      <td>0.010105</td>\n",
       "    </tr>\n",
       "    <tr>\n",
       "      <th>55</th>\n",
       "      <td>55</td>\n",
       "      <td>0.998656</td>\n",
       "      <td>0.988295</td>\n",
       "      <td>0.010361</td>\n",
       "    </tr>\n",
       "    <tr>\n",
       "      <th>58</th>\n",
       "      <td>58</td>\n",
       "      <td>0.998462</td>\n",
       "      <td>0.987190</td>\n",
       "      <td>0.011272</td>\n",
       "    </tr>\n",
       "    <tr>\n",
       "      <th>1</th>\n",
       "      <td>1</td>\n",
       "      <td>0.998623</td>\n",
       "      <td>0.987217</td>\n",
       "      <td>0.011406</td>\n",
       "    </tr>\n",
       "    <tr>\n",
       "      <th>32</th>\n",
       "      <td>32</td>\n",
       "      <td>0.998701</td>\n",
       "      <td>0.987222</td>\n",
       "      <td>0.011479</td>\n",
       "    </tr>\n",
       "    <tr>\n",
       "      <th>31</th>\n",
       "      <td>31</td>\n",
       "      <td>0.998437</td>\n",
       "      <td>0.986905</td>\n",
       "      <td>0.011532</td>\n",
       "    </tr>\n",
       "  </tbody>\n",
       "</table>\n",
       "</div>"
      ],
      "text/plain": [
       "    randomstate  train_score  test_score  diff_score\n",
       "74           74     0.998513    0.988555    0.009958\n",
       "34           34     0.998893    0.988788    0.010105\n",
       "55           55     0.998656    0.988295    0.010361\n",
       "58           58     0.998462    0.987190    0.011272\n",
       "1             1     0.998623    0.987217    0.011406\n",
       "32           32     0.998701    0.987222    0.011479\n",
       "31           31     0.998437    0.986905    0.011532"
      ]
     },
     "execution_count": 86,
     "metadata": {},
     "output_type": "execute_result"
    }
   ],
   "source": [
    "table[(-0.012 < table['diff_score']) & (table['diff_score'] < 0.012)].sort_values(by=['diff_score', 'train_score', 'test_score'])"
   ]
  },
  {
   "cell_type": "markdown",
   "metadata": {},
   "source": [
    "#### Best Random state is 74 for splitting data."
   ]
  },
  {
   "cell_type": "markdown",
   "metadata": {},
   "source": [
    "## Training the model.."
   ]
  },
  {
   "cell_type": "code",
   "execution_count": 129,
   "metadata": {},
   "outputs": [],
   "source": [
    "x_train, x_test, y_train, y_test = train_test_split(X_scaled, y, random_state=74, test_size=.25)"
   ]
  },
  {
   "cell_type": "code",
   "execution_count": 130,
   "metadata": {},
   "outputs": [
    {
     "name": "stdout",
     "output_type": "stream",
     "text": [
      "===scores for training set===\n",
      "r2 score for training set 0.9985132937748448\n",
      "MAE for training set:  0.1429922657517099\n",
      "MSE for training set:  0.03477814935620773\n",
      "SMSE for training set:  0.18648900599286738\n",
      " \n",
      "===scores for testing set===\n",
      "r2 score for testing set :  0.9883996077059888\n",
      "MAE for testing set:  0.4774442857391935\n",
      "MSE for testing set:  0.4023647572919595\n",
      "SMSE for testing set:  0.6343222818819779\n"
     ]
    },
    {
     "data": {
      "image/png": "[encoded data removed]",
      "text/plain": [
       "<Figure size 432x360 with 1 Axes>"
      ]
     },
     "metadata": {
      "needs_background": "light"
     },
     "output_type": "display_data"
    }
   ],
   "source": [
    "gbr = GradientBoostingRegressor()\n",
    "gbr.fit(x_train, y_train)\n",
    "pred_test = gbr.predict(x_test)\n",
    "pred_train = gbr.predict(x_train)\n",
    "print('===scores for training set===')\n",
    "print('r2 score for training set', r2_score(y_train, pred_train))\n",
    "print('MAE for training set: ', mean_absolute_error(y_train, pred_train))\n",
    "print('MSE for training set: ', mean_squared_error(y_train, pred_train))\n",
    "print('SMSE for training set: ', np.sqrt(mean_squared_error(y_train, pred_train)))\n",
    "print(' ')\n",
    "print('===scores for testing set===')\n",
    "print('r2 score for testing set : ', r2_score(y_test, pred_test))\n",
    "print('MAE for testing set: ', mean_absolute_error(y_test, pred_test))\n",
    "print('MSE for testing set: ', mean_squared_error(y_test, pred_test))\n",
    "print('SMSE for testing set: ', np.sqrt(mean_squared_error(y_test, pred_test)))\n",
    "plt.figure(figsize = (6,5))\n",
    "plt.scatter(x = y_test, y=pred_test, color = 'r')\n",
    "plt.plot(y_test, y_test, color = 'b')\n",
    "plt.xlabel('actual', fontsize = 15)\n",
    "plt.ylabel('predictions', fontsize = 15)\n",
    "plt.title('GradientBoosting_regression', fontsize = 18)\n",
    "plt.show()"
   ]
  },
  {
   "cell_type": "markdown",
   "metadata": {},
   "source": [
    "## Cross validation of the model"
   ]
  },
  {
   "cell_type": "code",
   "execution_count": 89,
   "metadata": {},
   "outputs": [
    {
     "name": "stdout",
     "output_type": "stream",
     "text": [
      "at cv = 3, cv_score is 0.9769926185786598, train_accu is 0.9985132937748448, test_accu is 0.9886170199902365 \n",
      "\n",
      "at cv = 4, cv_score is 0.979226046892491, train_accu is 0.9985132937748448, test_accu is 0.9886170199902365 \n",
      "\n",
      "at cv = 5, cv_score is 0.9781288449895659, train_accu is 0.9985132937748448, test_accu is 0.9886170199902365 \n",
      "\n",
      "at cv = 6, cv_score is 0.9765219083756298, train_accu is 0.9985132937748448, test_accu is 0.9886170199902365 \n",
      "\n",
      "at cv = 7, cv_score is 0.977174327342215, train_accu is 0.9985132937748448, test_accu is 0.9886170199902365 \n",
      "\n",
      "at cv = 8, cv_score is 0.9785121437907469, train_accu is 0.9985132937748448, test_accu is 0.9886170199902365 \n",
      "\n",
      "at cv = 9, cv_score is 0.9765241566202941, train_accu is 0.9985132937748448, test_accu is 0.9886170199902365 \n",
      "\n",
      "at cv = 10, cv_score is 0.9790746700436619, train_accu is 0.9985132937748448, test_accu is 0.9886170199902365 \n",
      "\n",
      "at cv = 11, cv_score is 0.9792714245707507, train_accu is 0.9985132937748448, test_accu is 0.9886170199902365 \n",
      "\n",
      "at cv = 12, cv_score is 0.9785147161017251, train_accu is 0.9985132937748448, test_accu is 0.9886170199902365 \n",
      "\n"
     ]
    }
   ],
   "source": [
    "train_accuracy = r2_score(y_train, pred_train)\n",
    "test_accuracy = r2_score(y_test, pred_test)\n",
    "for j in range(3,13):\n",
    "    cv_score = cross_val_score(gbr, X_scaled, y, cv = j)\n",
    "    cv_mean = cv_score.mean()\n",
    "    print(f'at cv = {j}, cv_score is {cv_mean}, train_accu is {train_accuracy}, test_accu is {test_accuracy} \\n')"
   ]
  },
  {
   "cell_type": "markdown",
   "metadata": {},
   "source": [
    "#### Best fold for cv is 4."
   ]
  },
  {
   "cell_type": "code",
   "execution_count": 90,
   "metadata": {},
   "outputs": [
    {
     "data": {
      "text/plain": [
       "0.9791323989665607"
      ]
     },
     "execution_count": 90,
     "metadata": {},
     "output_type": "execute_result"
    }
   ],
   "source": [
    "cross_val_score(gbr, X_scaled, y, cv = 4, scoring ='r2').mean()"
   ]
  },
  {
   "cell_type": "markdown",
   "metadata": {},
   "source": [
    "<h2 align = 'center'><font color = \"blue\">Checking for DecisionTreeRegressor algorithm..</font></h2>"
   ]
  },
  {
   "cell_type": "markdown",
   "metadata": {},
   "source": [
    "## Finding random state to get best split for traing & testing sets"
   ]
  },
  {
   "cell_type": "code",
   "execution_count": 91,
   "metadata": {},
   "outputs": [],
   "source": [
    "dt = DecisionTreeRegressor()\n",
    "train = []\n",
    "test = []\n",
    "diff = []\n",
    "randomstate = []\n",
    "for i in range(0, 100):\n",
    "    x_train, x_test, y_train, y_test = train_test_split(X_scaled, y, test_size = 0.25, random_state = i)\n",
    "    dt.fit(x_train, y_train)\n",
    "    pred_train = dt.predict(x_train)\n",
    "    pred_test = dt.predict(x_test)\n",
    "\n",
    "    train.append(r2_score(y_train, pred_train))\n",
    "    test.append(r2_score(y_test, pred_test))\n",
    "    diff.append(r2_score(y_train, pred_train) - r2_score(y_test, pred_test))\n",
    "    randomstate.append(i)\n",
    "    \n",
    "table = pd.DataFrame(list(zip(randomstate, train, test, diff)),\n",
    "                              columns =['randomstate', 'train_score', 'test_score', 'diff_score'])\n",
    "#                               index=pd.RangeIndex(start=1, stop=(len(randomstate)+1), name='Sr. No.'))"
   ]
  },
  {
   "cell_type": "code",
   "execution_count": 92,
   "metadata": {},
   "outputs": [
    {
     "data": {
      "text/html": [
       "<div>\n",
       "<style scoped>\n",
       "    .dataframe tbody tr th:only-of-type {\n",
       "        vertical-align: middle;\n",
       "    }\n",
       "\n",
       "    .dataframe tbody tr th {\n",
       "        vertical-align: top;\n",
       "    }\n",
       "\n",
       "    .dataframe thead th {\n",
       "        text-align: right;\n",
       "    }\n",
       "</style>\n",
       "<table border=\"1\" class=\"dataframe\">\n",
       "  <thead>\n",
       "    <tr style=\"text-align: right;\">\n",
       "      <th></th>\n",
       "      <th>randomstate</th>\n",
       "      <th>train_score</th>\n",
       "      <th>test_score</th>\n",
       "      <th>diff_score</th>\n",
       "    </tr>\n",
       "  </thead>\n",
       "  <tbody>\n",
       "    <tr>\n",
       "      <th>74</th>\n",
       "      <td>74</td>\n",
       "      <td>1.0</td>\n",
       "      <td>0.974566</td>\n",
       "      <td>0.025434</td>\n",
       "    </tr>\n",
       "    <tr>\n",
       "      <th>72</th>\n",
       "      <td>72</td>\n",
       "      <td>1.0</td>\n",
       "      <td>0.972973</td>\n",
       "      <td>0.027027</td>\n",
       "    </tr>\n",
       "    <tr>\n",
       "      <th>10</th>\n",
       "      <td>10</td>\n",
       "      <td>1.0</td>\n",
       "      <td>0.972442</td>\n",
       "      <td>0.027558</td>\n",
       "    </tr>\n",
       "    <tr>\n",
       "      <th>69</th>\n",
       "      <td>69</td>\n",
       "      <td>1.0</td>\n",
       "      <td>0.971970</td>\n",
       "      <td>0.028030</td>\n",
       "    </tr>\n",
       "    <tr>\n",
       "      <th>81</th>\n",
       "      <td>81</td>\n",
       "      <td>1.0</td>\n",
       "      <td>0.970350</td>\n",
       "      <td>0.029650</td>\n",
       "    </tr>\n",
       "    <tr>\n",
       "      <th>94</th>\n",
       "      <td>94</td>\n",
       "      <td>1.0</td>\n",
       "      <td>0.970063</td>\n",
       "      <td>0.029937</td>\n",
       "    </tr>\n",
       "  </tbody>\n",
       "</table>\n",
       "</div>"
      ],
      "text/plain": [
       "    randomstate  train_score  test_score  diff_score\n",
       "74           74          1.0    0.974566    0.025434\n",
       "72           72          1.0    0.972973    0.027027\n",
       "10           10          1.0    0.972442    0.027558\n",
       "69           69          1.0    0.971970    0.028030\n",
       "81           81          1.0    0.970350    0.029650\n",
       "94           94          1.0    0.970063    0.029937"
      ]
     },
     "execution_count": 92,
     "metadata": {},
     "output_type": "execute_result"
    }
   ],
   "source": [
    "table[(-0.03 < table['diff_score']) & (table['diff_score'] < 0.03)].sort_values(by=['diff_score', 'train_score', 'test_score'])"
   ]
  },
  {
   "cell_type": "markdown",
   "metadata": {},
   "source": [
    "#### Best Random state is 74."
   ]
  },
  {
   "cell_type": "markdown",
   "metadata": {},
   "source": [
    "## Training the model.."
   ]
  },
  {
   "cell_type": "code",
   "execution_count": 127,
   "metadata": {},
   "outputs": [],
   "source": [
    "x_train, x_test, y_train, y_test = train_test_split(X_scaled, y, random_state=74, test_size=.25)"
   ]
  },
  {
   "cell_type": "code",
   "execution_count": 128,
   "metadata": {},
   "outputs": [
    {
     "name": "stdout",
     "output_type": "stream",
     "text": [
      "===scores for training set===\n",
      "r2 score for training set 1.0\n",
      "MAE for training set:  0.0\n",
      "MSE for training set:  0.0\n",
      "SMSE for training set:  0.0\n",
      " \n",
      "===scores for testing set===\n",
      "r2 score for testing set :  0.9769816987206507\n",
      "MAE for testing set:  0.7520000000000003\n",
      "MSE for testing set:  0.7984000000000004\n",
      "SMSE for testing set:  0.8935323161475474\n"
     ]
    },
    {
     "data": {
      "image/png": "[encoded data removed]",
      "text/plain": [
       "<Figure size 432x360 with 1 Axes>"
      ]
     },
     "metadata": {
      "needs_background": "light"
     },
     "output_type": "display_data"
    }
   ],
   "source": [
    "dt = DecisionTreeRegressor()\n",
    "dt.fit(x_train, y_train)\n",
    "pred_test = dt.predict(x_test)\n",
    "pred_train = dt.predict(x_train)\n",
    "print('===scores for training set===')\n",
    "print('r2 score for training set', r2_score(y_train, pred_train))\n",
    "print('MAE for training set: ', mean_absolute_error(y_train, pred_train))\n",
    "print('MSE for training set: ', mean_squared_error(y_train, pred_train))\n",
    "print('SMSE for training set: ', np.sqrt(mean_squared_error(y_train, pred_train)))\n",
    "print(' ')\n",
    "print('===scores for testing set===')\n",
    "print('r2 score for testing set : ', r2_score(y_test, pred_test))\n",
    "print('MAE for testing set: ', mean_absolute_error(y_test, pred_test))\n",
    "print('MSE for testing set: ', mean_squared_error(y_test, pred_test))\n",
    "print('SMSE for testing set: ', np.sqrt(mean_squared_error(y_test, pred_test)))\n",
    "plt.figure(figsize = (6,5))\n",
    "plt.scatter(x = y_test, y=pred_test, color = 'r')\n",
    "plt.plot(y_test, y_test, color = 'b')\n",
    "plt.xlabel('actual', fontsize = 15)\n",
    "plt.ylabel('predictions', fontsize = 15)\n",
    "plt.title('DecisionTree_regression', fontsize = 18)\n",
    "plt.show()"
   ]
  },
  {
   "cell_type": "markdown",
   "metadata": {},
   "source": [
    "## Cross validation of the model"
   ]
  },
  {
   "cell_type": "code",
   "execution_count": 95,
   "metadata": {},
   "outputs": [
    {
     "name": "stdout",
     "output_type": "stream",
     "text": [
      "at cv = 3, cv_score is 0.9448241421715468, train_accu is 1.0, test_accu is 0.9767222238815798 \n",
      "\n",
      "at cv = 4, cv_score is 0.9413681393380715, train_accu is 1.0, test_accu is 0.9767222238815798 \n",
      "\n",
      "at cv = 5, cv_score is 0.9530712232082268, train_accu is 1.0, test_accu is 0.9767222238815798 \n",
      "\n",
      "at cv = 6, cv_score is 0.9378680712876938, train_accu is 1.0, test_accu is 0.9767222238815798 \n",
      "\n",
      "at cv = 7, cv_score is 0.948966268176542, train_accu is 1.0, test_accu is 0.9767222238815798 \n",
      "\n",
      "at cv = 8, cv_score is 0.9508950439894164, train_accu is 1.0, test_accu is 0.9767222238815798 \n",
      "\n",
      "at cv = 9, cv_score is 0.9436065002465737, train_accu is 1.0, test_accu is 0.9767222238815798 \n",
      "\n",
      "at cv = 10, cv_score is 0.9547551526769317, train_accu is 1.0, test_accu is 0.9767222238815798 \n",
      "\n",
      "at cv = 11, cv_score is 0.9418947865679633, train_accu is 1.0, test_accu is 0.9767222238815798 \n",
      "\n",
      "at cv = 12, cv_score is 0.9465586172707089, train_accu is 1.0, test_accu is 0.9767222238815798 \n",
      "\n"
     ]
    }
   ],
   "source": [
    "train_accuracy = r2_score(y_train, pred_train)\n",
    "test_accuracy = r2_score(y_test, pred_test)\n",
    "for j in range(3,13):\n",
    "    cv_score = cross_val_score(dt, X_scaled, y, cv = j)\n",
    "    cv_mean = cv_score.mean()\n",
    "    print(f'at cv = {j}, cv_score is {cv_mean}, train_accu is {train_accuracy}, test_accu is {test_accuracy} \\n')"
   ]
  },
  {
   "cell_type": "markdown",
   "metadata": {},
   "source": [
    "#### Best fold for cv is 10."
   ]
  },
  {
   "cell_type": "code",
   "execution_count": 96,
   "metadata": {},
   "outputs": [
    {
     "data": {
      "text/plain": [
       "0.9520451919220972"
      ]
     },
     "execution_count": 96,
     "metadata": {},
     "output_type": "execute_result"
    }
   ],
   "source": [
    "cross_val_score(dt, X_scaled, y, cv = 10, scoring ='r2').mean()"
   ]
  },
  {
   "cell_type": "markdown",
   "metadata": {},
   "source": [
    "<h2 align = 'center'><font color = \"blue\">Checking for SVR algorithm..</font></h2>"
   ]
  },
  {
   "cell_type": "markdown",
   "metadata": {},
   "source": [
    "## Finding random state to get best split for traing & testing sets"
   ]
  },
  {
   "cell_type": "code",
   "execution_count": 97,
   "metadata": {},
   "outputs": [],
   "source": [
    "svr = SVR()\n",
    "train = []\n",
    "test = []\n",
    "diff = []\n",
    "randomstate = []\n",
    "for i in range(0, 100):\n",
    "    x_train, x_test, y_train, y_test = train_test_split(X_scaled, y, test_size = 0.25, random_state = i)\n",
    "    svr.fit(x_train, y_train)\n",
    "    pred_train = svr.predict(x_train)\n",
    "    pred_test = svr.predict(x_test)\n",
    "\n",
    "    train.append(r2_score(y_train, pred_train))\n",
    "    test.append(r2_score(y_test, pred_test))\n",
    "    diff.append(r2_score(y_train, pred_train) - r2_score(y_test, pred_test))\n",
    "    randomstate.append(i)\n",
    "    \n",
    "table = pd.DataFrame(list(zip(randomstate, train, test, diff)),\n",
    "                              columns =['randomstate', 'train_score', 'test_score', 'diff_score'])\n",
    "#                               index=pd.RangeIndex(start=1, stop=(len(randomstate)+1), name='Sr. No.'))"
   ]
  },
  {
   "cell_type": "code",
   "execution_count": 99,
   "metadata": {},
   "outputs": [
    {
     "data": {
      "text/html": [
       "<div>\n",
       "<style scoped>\n",
       "    .dataframe tbody tr th:only-of-type {\n",
       "        vertical-align: middle;\n",
       "    }\n",
       "\n",
       "    .dataframe tbody tr th {\n",
       "        vertical-align: top;\n",
       "    }\n",
       "\n",
       "    .dataframe thead th {\n",
       "        text-align: right;\n",
       "    }\n",
       "</style>\n",
       "<table border=\"1\" class=\"dataframe\">\n",
       "  <thead>\n",
       "    <tr style=\"text-align: right;\">\n",
       "      <th></th>\n",
       "      <th>randomstate</th>\n",
       "      <th>train_score</th>\n",
       "      <th>test_score</th>\n",
       "      <th>diff_score</th>\n",
       "    </tr>\n",
       "  </thead>\n",
       "  <tbody>\n",
       "    <tr>\n",
       "      <th>21</th>\n",
       "      <td>21</td>\n",
       "      <td>0.911680</td>\n",
       "      <td>0.913239</td>\n",
       "      <td>-0.001558</td>\n",
       "    </tr>\n",
       "    <tr>\n",
       "      <th>91</th>\n",
       "      <td>91</td>\n",
       "      <td>0.912478</td>\n",
       "      <td>0.913679</td>\n",
       "      <td>-0.001201</td>\n",
       "    </tr>\n",
       "    <tr>\n",
       "      <th>55</th>\n",
       "      <td>55</td>\n",
       "      <td>0.908224</td>\n",
       "      <td>0.908436</td>\n",
       "      <td>-0.000212</td>\n",
       "    </tr>\n",
       "    <tr>\n",
       "      <th>23</th>\n",
       "      <td>23</td>\n",
       "      <td>0.916842</td>\n",
       "      <td>0.915503</td>\n",
       "      <td>0.001339</td>\n",
       "    </tr>\n",
       "    <tr>\n",
       "      <th>81</th>\n",
       "      <td>81</td>\n",
       "      <td>0.915089</td>\n",
       "      <td>0.913489</td>\n",
       "      <td>0.001600</td>\n",
       "    </tr>\n",
       "    <tr>\n",
       "      <th>60</th>\n",
       "      <td>60</td>\n",
       "      <td>0.898607</td>\n",
       "      <td>0.896921</td>\n",
       "      <td>0.001685</td>\n",
       "    </tr>\n",
       "  </tbody>\n",
       "</table>\n",
       "</div>"
      ],
      "text/plain": [
       "    randomstate  train_score  test_score  diff_score\n",
       "21           21     0.911680    0.913239   -0.001558\n",
       "91           91     0.912478    0.913679   -0.001201\n",
       "55           55     0.908224    0.908436   -0.000212\n",
       "23           23     0.916842    0.915503    0.001339\n",
       "81           81     0.915089    0.913489    0.001600\n",
       "60           60     0.898607    0.896921    0.001685"
      ]
     },
     "execution_count": 99,
     "metadata": {},
     "output_type": "execute_result"
    }
   ],
   "source": [
    "table[(-0.002 < table['diff_score']) & (table['diff_score'] < 0.002)].sort_values(by=['diff_score', 'train_score', 'test_score'])"
   ]
  },
  {
   "cell_type": "markdown",
   "metadata": {},
   "source": [
    "#### Best Random state is 55 for splitting data."
   ]
  },
  {
   "cell_type": "markdown",
   "metadata": {},
   "source": [
    "## Training the model.."
   ]
  },
  {
   "cell_type": "code",
   "execution_count": 125,
   "metadata": {},
   "outputs": [],
   "source": [
    "x_train, x_test, y_train, y_test = train_test_split(X_scaled, y, random_state=55, test_size=.25)"
   ]
  },
  {
   "cell_type": "code",
   "execution_count": 126,
   "metadata": {},
   "outputs": [
    {
     "name": "stdout",
     "output_type": "stream",
     "text": [
      "===scores for training set===\n",
      "r2 score for training set 0.908223968492019\n",
      "MAE for training set:  0.8762799437692392\n",
      "MSE for training set:  2.4011023237034403\n",
      "SMSE for training set:  1.5495490710859854\n",
      " \n",
      "===scores for testing set===\n",
      "r2 score for testing set :  0.9084363142363183\n",
      "MAE for testing set:  0.9538641405148195\n",
      "MSE for testing set:  2.6364056568549517\n",
      "SMSE for testing set:  1.6237012215475333\n"
     ]
    },
    {
     "data": {
      "image/png": "[encoded data removed]",
      "text/plain": [
       "<Figure size 432x360 with 1 Axes>"
      ]
     },
     "metadata": {
      "needs_background": "light"
     },
     "output_type": "display_data"
    }
   ],
   "source": [
    "svr = SVR()\n",
    "svr.fit(x_train, y_train)\n",
    "pred_test = svr.predict(x_test)\n",
    "pred_train = svr.predict(x_train)\n",
    "print('===scores for training set===')\n",
    "print('r2 score for training set', r2_score(y_train, pred_train))\n",
    "print('MAE for training set: ', mean_absolute_error(y_train, pred_train))\n",
    "print('MSE for training set: ', mean_squared_error(y_train, pred_train))\n",
    "print('SMSE for training set: ', np.sqrt(mean_squared_error(y_train, pred_train)))\n",
    "print(' ')\n",
    "print('===scores for testing set===')\n",
    "print('r2 score for testing set : ', r2_score(y_test, pred_test))\n",
    "print('MAE for testing set: ', mean_absolute_error(y_test, pred_test))\n",
    "print('MSE for testing set: ', mean_squared_error(y_test, pred_test))\n",
    "print('SMSE for testing set: ', np.sqrt(mean_squared_error(y_test, pred_test)))\n",
    "plt.figure(figsize = (6,5))\n",
    "plt.scatter(x = y_test, y=pred_test, color = 'r')\n",
    "plt.plot(y_test, y_test, color = 'b')\n",
    "plt.xlabel('actual', fontsize = 15)\n",
    "plt.ylabel('predictions', fontsize = 15)\n",
    "plt.title('SVM_regression', fontsize = 18)\n",
    "plt.show()"
   ]
  },
  {
   "cell_type": "markdown",
   "metadata": {},
   "source": [
    "## Cross validation of the model"
   ]
  },
  {
   "cell_type": "code",
   "execution_count": 102,
   "metadata": {},
   "outputs": [
    {
     "name": "stdout",
     "output_type": "stream",
     "text": [
      "at cv = 3, cv_score is 0.88981945622717, train_accu is 0.908223968492019, test_accu is 0.9084363142363183 \n",
      "\n",
      "at cv = 4, cv_score is 0.8978806270851241, train_accu is 0.908223968492019, test_accu is 0.9084363142363183 \n",
      "\n",
      "at cv = 5, cv_score is 0.9041170072126675, train_accu is 0.908223968492019, test_accu is 0.9084363142363183 \n",
      "\n",
      "at cv = 6, cv_score is 0.9095413796185904, train_accu is 0.908223968492019, test_accu is 0.9084363142363183 \n",
      "\n",
      "at cv = 7, cv_score is 0.9065762269400526, train_accu is 0.908223968492019, test_accu is 0.9084363142363183 \n",
      "\n",
      "at cv = 8, cv_score is 0.9090554832010831, train_accu is 0.908223968492019, test_accu is 0.9084363142363183 \n",
      "\n",
      "at cv = 9, cv_score is 0.9113011335802861, train_accu is 0.908223968492019, test_accu is 0.9084363142363183 \n",
      "\n",
      "at cv = 10, cv_score is 0.9168539347597647, train_accu is 0.908223968492019, test_accu is 0.9084363142363183 \n",
      "\n",
      "at cv = 11, cv_score is 0.9147896221036486, train_accu is 0.908223968492019, test_accu is 0.9084363142363183 \n",
      "\n",
      "at cv = 12, cv_score is 0.9141955411027084, train_accu is 0.908223968492019, test_accu is 0.9084363142363183 \n",
      "\n"
     ]
    }
   ],
   "source": [
    "train_accuracy = r2_score(y_train, pred_train)\n",
    "test_accuracy = r2_score(y_test, pred_test)\n",
    "for j in range(3,13):\n",
    "    cv_score = cross_val_score(svr, X_scaled, y, cv = j)\n",
    "    cv_mean = cv_score.mean()\n",
    "    print(f'at cv = {j}, cv_score is {cv_mean}, train_accu is {train_accuracy}, test_accu is {test_accuracy} \\n')"
   ]
  },
  {
   "cell_type": "markdown",
   "metadata": {},
   "source": [
    "#### Best fold for cv is 8."
   ]
  },
  {
   "cell_type": "code",
   "execution_count": 103,
   "metadata": {},
   "outputs": [
    {
     "data": {
      "text/plain": [
       "0.9090554832010831"
      ]
     },
     "execution_count": 103,
     "metadata": {},
     "output_type": "execute_result"
    }
   ],
   "source": [
    "cross_val_score(svr, X_scaled, y, cv = 8, scoring ='r2').mean()"
   ]
  },
  {
   "cell_type": "markdown",
   "metadata": {},
   "source": [
    "<h2 align = 'center'><font color = \"blue\">Checking for KNeighborsRegressor algorithm..</font></h2>"
   ]
  },
  {
   "cell_type": "markdown",
   "metadata": {},
   "source": [
    "## Finding random state to get best split for traing & testing sets"
   ]
  },
  {
   "cell_type": "code",
   "execution_count": 104,
   "metadata": {},
   "outputs": [],
   "source": [
    "knn = KNeighborsRegressor()\n",
    "train = []\n",
    "test = []\n",
    "diff = []\n",
    "randomstate = []\n",
    "for i in range(0, 100):\n",
    "    x_train, x_test, y_train, y_test = train_test_split(X_scaled, y, test_size = 0.25, random_state = i)\n",
    "    knn.fit(x_train, y_train)\n",
    "    pred_train = knn.predict(x_train)\n",
    "    pred_test = knn.predict(x_test)\n",
    "\n",
    "    train.append(r2_score(y_train, pred_train))\n",
    "    test.append(r2_score(y_test, pred_test))\n",
    "    diff.append(r2_score(y_train, pred_train) - r2_score(y_test, pred_test))\n",
    "    randomstate.append(i)\n",
    "    \n",
    "table = pd.DataFrame(list(zip(randomstate, train, test, diff)),\n",
    "                              columns =['randomstate', 'train_score', 'test_score', 'diff_score'])\n",
    "#                               index=pd.RangeIndex(start=1, stop=(len(randomstate)+1), name='Sr. No.'))"
   ]
  },
  {
   "cell_type": "code",
   "execution_count": 106,
   "metadata": {},
   "outputs": [
    {
     "data": {
      "text/html": [
       "<div>\n",
       "<style scoped>\n",
       "    .dataframe tbody tr th:only-of-type {\n",
       "        vertical-align: middle;\n",
       "    }\n",
       "\n",
       "    .dataframe tbody tr th {\n",
       "        vertical-align: top;\n",
       "    }\n",
       "\n",
       "    .dataframe thead th {\n",
       "        text-align: right;\n",
       "    }\n",
       "</style>\n",
       "<table border=\"1\" class=\"dataframe\">\n",
       "  <thead>\n",
       "    <tr style=\"text-align: right;\">\n",
       "      <th></th>\n",
       "      <th>randomstate</th>\n",
       "      <th>train_score</th>\n",
       "      <th>test_score</th>\n",
       "      <th>diff_score</th>\n",
       "    </tr>\n",
       "  </thead>\n",
       "  <tbody>\n",
       "    <tr>\n",
       "      <th>65</th>\n",
       "      <td>65</td>\n",
       "      <td>0.949453</td>\n",
       "      <td>0.950361</td>\n",
       "      <td>-0.000908</td>\n",
       "    </tr>\n",
       "    <tr>\n",
       "      <th>1</th>\n",
       "      <td>1</td>\n",
       "      <td>0.952683</td>\n",
       "      <td>0.953312</td>\n",
       "      <td>-0.000629</td>\n",
       "    </tr>\n",
       "    <tr>\n",
       "      <th>4</th>\n",
       "      <td>4</td>\n",
       "      <td>0.955016</td>\n",
       "      <td>0.954461</td>\n",
       "      <td>0.000555</td>\n",
       "    </tr>\n",
       "    <tr>\n",
       "      <th>40</th>\n",
       "      <td>40</td>\n",
       "      <td>0.950878</td>\n",
       "      <td>0.949327</td>\n",
       "      <td>0.001551</td>\n",
       "    </tr>\n",
       "  </tbody>\n",
       "</table>\n",
       "</div>"
      ],
      "text/plain": [
       "    randomstate  train_score  test_score  diff_score\n",
       "65           65     0.949453    0.950361   -0.000908\n",
       "1             1     0.952683    0.953312   -0.000629\n",
       "4             4     0.955016    0.954461    0.000555\n",
       "40           40     0.950878    0.949327    0.001551"
      ]
     },
     "execution_count": 106,
     "metadata": {},
     "output_type": "execute_result"
    }
   ],
   "source": [
    "table[(-0.002 < table['diff_score']) & (table['diff_score'] < 0.002)].sort_values(by=['diff_score', 'train_score', 'test_score'])"
   ]
  },
  {
   "cell_type": "markdown",
   "metadata": {},
   "source": [
    "#### Best Random state is 4."
   ]
  },
  {
   "cell_type": "markdown",
   "metadata": {},
   "source": [
    "## Training the model.."
   ]
  },
  {
   "cell_type": "code",
   "execution_count": 121,
   "metadata": {},
   "outputs": [],
   "source": [
    "x_train, x_test, y_train, y_test = train_test_split(X_scaled, y, random_state=4, test_size=.25)"
   ]
  },
  {
   "cell_type": "code",
   "execution_count": 122,
   "metadata": {},
   "outputs": [
    {
     "name": "stdout",
     "output_type": "stream",
     "text": [
      "===scores for training set===\n",
      "r2 score for training set 0.9550163467438197\n",
      "MAE for training set:  0.7932432432432431\n",
      "MSE for training set:  1.3317675675675678\n",
      "SMSE for training set:  1.1540223427505933\n",
      " \n",
      "===scores for testing set===\n",
      "r2 score for testing set :  0.9544613933921186\n",
      "MAE for testing set:  0.7156000000000001\n",
      "MSE for testing set:  0.8221520000000001\n",
      "SMSE for testing set:  0.9067259784521452\n"
     ]
    },
    {
     "data": {
      "image/png": "[encoded data removed]",
      "text/plain": [
       "<Figure size 432x360 with 1 Axes>"
      ]
     },
     "metadata": {
      "needs_background": "light"
     },
     "output_type": "display_data"
    }
   ],
   "source": [
    "knn = KNeighborsRegressor()\n",
    "knn.fit(x_train, y_train)\n",
    "pred_test = knn.predict(x_test)\n",
    "pred_train = knn.predict(x_train)\n",
    "print('===scores for training set===')\n",
    "print('r2 score for training set', r2_score(y_train, pred_train))\n",
    "print('MAE for training set: ', mean_absolute_error(y_train, pred_train))\n",
    "print('MSE for training set: ', mean_squared_error(y_train, pred_train))\n",
    "print('SMSE for training set: ', np.sqrt(mean_squared_error(y_train, pred_train)))\n",
    "print(' ')\n",
    "print('===scores for testing set===')\n",
    "print('r2 score for testing set : ', r2_score(y_test, pred_test))\n",
    "print('MAE for testing set: ', mean_absolute_error(y_test, pred_test))\n",
    "print('MSE for testing set: ', mean_squared_error(y_test, pred_test))\n",
    "print('SMSE for testing set: ', np.sqrt(mean_squared_error(y_test, pred_test)))\n",
    "plt.figure(figsize = (6,5))\n",
    "plt.scatter(x = y_test, y=pred_test, color = 'r')\n",
    "plt.plot(y_test, y_test, color = 'b')\n",
    "plt.xlabel('actual', fontsize = 15)\n",
    "plt.ylabel('predictions', fontsize = 15)\n",
    "plt.title('knn_regression', fontsize = 18)\n",
    "plt.show()"
   ]
  },
  {
   "cell_type": "markdown",
   "metadata": {},
   "source": [
    "## Cross validation of the model"
   ]
  },
  {
   "cell_type": "code",
   "execution_count": 123,
   "metadata": {},
   "outputs": [
    {
     "name": "stdout",
     "output_type": "stream",
     "text": [
      "at cv = 3, cv_score is 0.915762942793629, train_accu is 0.9550163467438197, test_accu is 0.9544613933921186 \n",
      "\n",
      "at cv = 4, cv_score is 0.9363932686673537, train_accu is 0.9550163467438197, test_accu is 0.9544613933921186 \n",
      "\n",
      "at cv = 5, cv_score is 0.9358043941034188, train_accu is 0.9550163467438197, test_accu is 0.9544613933921186 \n",
      "\n",
      "at cv = 6, cv_score is 0.9331598005696677, train_accu is 0.9550163467438197, test_accu is 0.9544613933921186 \n",
      "\n",
      "at cv = 7, cv_score is 0.9368853208336503, train_accu is 0.9550163467438197, test_accu is 0.9544613933921186 \n",
      "\n",
      "at cv = 8, cv_score is 0.9349213385654551, train_accu is 0.9550163467438197, test_accu is 0.9544613933921186 \n",
      "\n",
      "at cv = 9, cv_score is 0.9329595673012181, train_accu is 0.9550163467438197, test_accu is 0.9544613933921186 \n",
      "\n",
      "at cv = 10, cv_score is 0.942525208572151, train_accu is 0.9550163467438197, test_accu is 0.9544613933921186 \n",
      "\n",
      "at cv = 11, cv_score is 0.938901618448411, train_accu is 0.9550163467438197, test_accu is 0.9544613933921186 \n",
      "\n",
      "at cv = 12, cv_score is 0.9378693252052543, train_accu is 0.9550163467438197, test_accu is 0.9544613933921186 \n",
      "\n"
     ]
    }
   ],
   "source": [
    "train_accuracy = r2_score(y_train, pred_train)\n",
    "test_accuracy = r2_score(y_test, pred_test)\n",
    "for j in range(3,13):\n",
    "    cv_score = cross_val_score(knn, X_scaled, y, cv = j)\n",
    "    cv_mean = cv_score.mean()\n",
    "    print(f'at cv = {j}, cv_score is {cv_mean}, train_accu is {train_accuracy}, test_accu is {test_accuracy} \\n')"
   ]
  },
  {
   "cell_type": "markdown",
   "metadata": {},
   "source": [
    "#### Best fold for cv is 10."
   ]
  },
  {
   "cell_type": "code",
   "execution_count": 124,
   "metadata": {},
   "outputs": [
    {
     "data": {
      "text/plain": [
       "0.942525208572151"
      ]
     },
     "execution_count": 124,
     "metadata": {},
     "output_type": "execute_result"
    }
   ],
   "source": [
    "cross_val_score(knn, X_scaled, y, cv = 10, scoring ='r2').mean()"
   ]
  },
  {
   "cell_type": "markdown",
   "metadata": {},
   "source": [
    "<h2 align = 'center'><font color = \"blue\">Checking for XGBRegressor algorithm..</font></h2>"
   ]
  },
  {
   "cell_type": "markdown",
   "metadata": {},
   "source": [
    "## Finding random state to get best split for traing & testing sets"
   ]
  },
  {
   "cell_type": "code",
   "execution_count": 111,
   "metadata": {},
   "outputs": [],
   "source": [
    "xgb = XGBRegressor()\n",
    "train = []\n",
    "test = []\n",
    "diff = []\n",
    "randomstate = []\n",
    "for i in range(0, 100):\n",
    "    x_train, x_test, y_train, y_test = train_test_split(X_scaled, y, test_size = 0.25, random_state = i)\n",
    "    xgb.fit(x_train, y_train)\n",
    "    pred_train = xgb.predict(x_train)\n",
    "    pred_test = xgb.predict(x_test)\n",
    "\n",
    "    train.append(r2_score(y_train, pred_train))\n",
    "    test.append(r2_score(y_test, pred_test))\n",
    "    diff.append(r2_score(y_train, pred_train) - r2_score(y_test, pred_test))\n",
    "    randomstate.append(i)\n",
    "    \n",
    "table = pd.DataFrame(list(zip(randomstate, train, test, diff)),\n",
    "                              columns =['randomstate', 'train_score', 'test_score', 'diff_score'])\n",
    "#                               index=pd.RangeIndex(start=1, stop=(len(randomstate)+1), name='Sr. No.'))"
   ]
  },
  {
   "cell_type": "code",
   "execution_count": 112,
   "metadata": {},
   "outputs": [
    {
     "data": {
      "text/html": [
       "<div>\n",
       "<style scoped>\n",
       "    .dataframe tbody tr th:only-of-type {\n",
       "        vertical-align: middle;\n",
       "    }\n",
       "\n",
       "    .dataframe tbody tr th {\n",
       "        vertical-align: top;\n",
       "    }\n",
       "\n",
       "    .dataframe thead th {\n",
       "        text-align: right;\n",
       "    }\n",
       "</style>\n",
       "<table border=\"1\" class=\"dataframe\">\n",
       "  <thead>\n",
       "    <tr style=\"text-align: right;\">\n",
       "      <th></th>\n",
       "      <th>randomstate</th>\n",
       "      <th>train_score</th>\n",
       "      <th>test_score</th>\n",
       "      <th>diff_score</th>\n",
       "    </tr>\n",
       "  </thead>\n",
       "  <tbody>\n",
       "    <tr>\n",
       "      <th>34</th>\n",
       "      <td>34</td>\n",
       "      <td>1.0</td>\n",
       "      <td>0.988350</td>\n",
       "      <td>0.011650</td>\n",
       "    </tr>\n",
       "    <tr>\n",
       "      <th>21</th>\n",
       "      <td>21</td>\n",
       "      <td>1.0</td>\n",
       "      <td>0.987548</td>\n",
       "      <td>0.012452</td>\n",
       "    </tr>\n",
       "    <tr>\n",
       "      <th>55</th>\n",
       "      <td>55</td>\n",
       "      <td>1.0</td>\n",
       "      <td>0.987146</td>\n",
       "      <td>0.012854</td>\n",
       "    </tr>\n",
       "    <tr>\n",
       "      <th>32</th>\n",
       "      <td>32</td>\n",
       "      <td>1.0</td>\n",
       "      <td>0.985755</td>\n",
       "      <td>0.014245</td>\n",
       "    </tr>\n",
       "  </tbody>\n",
       "</table>\n",
       "</div>"
      ],
      "text/plain": [
       "    randomstate  train_score  test_score  diff_score\n",
       "34           34          1.0    0.988350    0.011650\n",
       "21           21          1.0    0.987548    0.012452\n",
       "55           55          1.0    0.987146    0.012854\n",
       "32           32          1.0    0.985755    0.014245"
      ]
     },
     "execution_count": 112,
     "metadata": {},
     "output_type": "execute_result"
    }
   ],
   "source": [
    "table[(-0.015 < table['diff_score']) & (table['diff_score'] < 0.015)].sort_values(by=['diff_score', 'train_score', 'test_score'])"
   ]
  },
  {
   "cell_type": "markdown",
   "metadata": {},
   "source": [
    "#### Best Random state is 34."
   ]
  },
  {
   "cell_type": "markdown",
   "metadata": {},
   "source": [
    "## Training the model.."
   ]
  },
  {
   "cell_type": "code",
   "execution_count": 138,
   "metadata": {},
   "outputs": [],
   "source": [
    "x_train, x_test, y_train, y_test = train_test_split(X_scaled, y, random_state=34, test_size=.25)"
   ]
  },
  {
   "cell_type": "code",
   "execution_count": 139,
   "metadata": {},
   "outputs": [
    {
     "name": "stdout",
     "output_type": "stream",
     "text": [
      "===scores for training set===\n",
      "r2 score for training set 0.999999920042977\n",
      "MAE for training set:  0.001062152353492964\n",
      "MSE for training set:  2.200162443477109e-06\n",
      "SMSE for training set:  0.0014832944560932968\n",
      " \n",
      "===scores for testing set===\n",
      "r2 score for testing set :  0.9883495870013942\n",
      "MAE for testing set:  0.4353957672119141\n",
      "MSE for testing set:  0.2866665671197941\n",
      "SMSE for testing set:  0.5354125205108619\n"
     ]
    },
    {
     "data": {
      "image/png": "[encoded data removed]",
      "text/plain": [
       "<Figure size 432x360 with 1 Axes>"
      ]
     },
     "metadata": {
      "needs_background": "light"
     },
     "output_type": "display_data"
    }
   ],
   "source": [
    "xgb = XGBRegressor()\n",
    "xgb.fit(x_train, y_train)\n",
    "pred_test = xgb.predict(x_test)\n",
    "pred_train = xgb.predict(x_train)\n",
    "print('===scores for training set===')\n",
    "print('r2 score for training set', r2_score(y_train, pred_train))\n",
    "print('MAE for training set: ', mean_absolute_error(y_train, pred_train))\n",
    "print('MSE for training set: ', mean_squared_error(y_train, pred_train))\n",
    "print('SMSE for training set: ', np.sqrt(mean_squared_error(y_train, pred_train)))\n",
    "print(' ')\n",
    "print('===scores for testing set===')\n",
    "print('r2 score for testing set : ', r2_score(y_test, pred_test))\n",
    "print('MAE for testing set: ', mean_absolute_error(y_test, pred_test))\n",
    "print('MSE for testing set: ', mean_squared_error(y_test, pred_test))\n",
    "print('SMSE for testing set: ', np.sqrt(mean_squared_error(y_test, pred_test)))\n",
    "plt.figure(figsize = (6,5))\n",
    "plt.scatter(x = y_test, y=pred_test, color = 'r')\n",
    "plt.plot(y_test, y_test, color = 'b')\n",
    "plt.xlabel('actual', fontsize = 15)\n",
    "plt.ylabel('predictions', fontsize = 15)\n",
    "plt.title('XGB_regression', fontsize = 18)\n",
    "plt.show()"
   ]
  },
  {
   "cell_type": "markdown",
   "metadata": {},
   "source": [
    "## Cross validation of the model"
   ]
  },
  {
   "cell_type": "code",
   "execution_count": 140,
   "metadata": {},
   "outputs": [
    {
     "name": "stdout",
     "output_type": "stream",
     "text": [
      "at cv = 3, cv_score is 0.9644331884525448, train_accu is 0.999999920042977, test_accu is 0.9883495870013942 \n",
      "\n",
      "at cv = 4, cv_score is 0.9699633492985051, train_accu is 0.999999920042977, test_accu is 0.9883495870013942 \n",
      "\n",
      "at cv = 5, cv_score is 0.9691752518103274, train_accu is 0.999999920042977, test_accu is 0.9883495870013942 \n",
      "\n",
      "at cv = 6, cv_score is 0.9672402232736711, train_accu is 0.999999920042977, test_accu is 0.9883495870013942 \n",
      "\n",
      "at cv = 7, cv_score is 0.9682480403763378, train_accu is 0.999999920042977, test_accu is 0.9883495870013942 \n",
      "\n",
      "at cv = 8, cv_score is 0.9730275265603796, train_accu is 0.999999920042977, test_accu is 0.9883495870013942 \n",
      "\n",
      "at cv = 9, cv_score is 0.9733982839741208, train_accu is 0.999999920042977, test_accu is 0.9883495870013942 \n",
      "\n",
      "at cv = 10, cv_score is 0.9752092237667288, train_accu is 0.999999920042977, test_accu is 0.9883495870013942 \n",
      "\n",
      "at cv = 11, cv_score is 0.9710102020820691, train_accu is 0.999999920042977, test_accu is 0.9883495870013942 \n",
      "\n",
      "at cv = 12, cv_score is 0.9724459573710896, train_accu is 0.999999920042977, test_accu is 0.9883495870013942 \n",
      "\n"
     ]
    }
   ],
   "source": [
    "train_accuracy = r2_score(y_train, pred_train)\n",
    "test_accuracy = r2_score(y_test, pred_test)\n",
    "for j in range(3,13):\n",
    "    cv_score = cross_val_score(xgb, X_scaled, y, cv = j)\n",
    "    cv_mean = cv_score.mean()\n",
    "    print(f'at cv = {j}, cv_score is {cv_mean}, train_accu is {train_accuracy}, test_accu is {test_accuracy} \\n')"
   ]
  },
  {
   "cell_type": "markdown",
   "metadata": {},
   "source": [
    "#### Best fold for cv is 10."
   ]
  },
  {
   "cell_type": "code",
   "execution_count": 141,
   "metadata": {},
   "outputs": [
    {
     "data": {
      "text/plain": [
       "0.9752092237667288"
      ]
     },
     "execution_count": 141,
     "metadata": {},
     "output_type": "execute_result"
    }
   ],
   "source": [
    "cross_val_score(xgb, X_scaled, y, cv = 10, scoring ='r2').mean()"
   ]
  },
  {
   "cell_type": "markdown",
   "metadata": {},
   "source": [
    "- model--------------mae--------r2--------cross val\n",
    "1. xgb--------------\t     0.435-------   0.988-------\t 0.975\n",
    "2. gbr--------------\t     0.474-------   0.989-------\t 0.979\n",
    "3. rfr----------------\t     0.555-------   0.987-------\t 0.977\n",
    "4. knn--------------\t     0.715-------   0.954-------   0.942\n",
    "5. dt--------------\t-     0.726-------   0.977-------   0.952\n",
    "6. adaboost------ 0.864-------\t 0.772-------\t 0.969\n",
    "7. svr--------------\t     0.953-------\t 0.908-------\t 0.909\n",
    "8. linear-----------1.356-------\t 0.895-------\t 0.886\n",
    "9. rd--------------\t     1.367-------\t 0.893-------\t 0.888\n",
    "10. lasso----------\t 2.150-------\t 0.782-------\t 0.808"
   ]
  },
  {
   "cell_type": "markdown",
   "metadata": {},
   "source": [
    "### Observation\n",
    "1. Out of all XGBoost has minimum MAE value & R2 score & Cross value score are high & close to each other. We will select XGBoost for Hyperparameter tuning."
   ]
  },
  {
   "cell_type": "markdown",
   "metadata": {},
   "source": [
    "<h1 align=\"center\"><font color = \"red\">Hyperparameter tuning using GridSearchCV</font> </h1>"
   ]
  },
  {
   "cell_type": "code",
   "execution_count": 156,
   "metadata": {},
   "outputs": [],
   "source": [
    "parameters = {'max_depth': range (2, 10, 1),\n",
    "              'n_estimators': range(40, 800, 40),\n",
    "              'learning_rate': [0.1, 0.01, 0.05]}"
   ]
  },
  {
   "cell_type": "code",
   "execution_count": 157,
   "metadata": {},
   "outputs": [],
   "source": [
    "grd = GridSearchCV(xgb, param_grid = parameters, cv =10, verbose=True, n_jobs=-1)"
   ]
  },
  {
   "cell_type": "code",
   "execution_count": 158,
   "metadata": {},
   "outputs": [
    {
     "name": "stdout",
     "output_type": "stream",
     "text": [
      "Fitting 10 folds for each of 456 candidates, totalling 4560 fits\n"
     ]
    },
    {
     "name": "stderr",
     "output_type": "stream",
     "text": [
      "[Parallel(n_jobs=-1)]: Using backend LokyBackend with 12 concurrent workers.\n",
      "[Parallel(n_jobs=-1)]: Done  28 tasks      | elapsed:    0.4s\n",
      "[Parallel(n_jobs=-1)]: Done 260 tasks      | elapsed:    7.6s\n",
      "[Parallel(n_jobs=-1)]: Done 510 tasks      | elapsed:   19.1s\n",
      "[Parallel(n_jobs=-1)]: Done 860 tasks      | elapsed:   37.0s\n",
      "[Parallel(n_jobs=-1)]: Done 1310 tasks      | elapsed:  1.0min\n",
      "[Parallel(n_jobs=-1)]: Done 1860 tasks      | elapsed:  1.4min\n",
      "[Parallel(n_jobs=-1)]: Done 2510 tasks      | elapsed:  2.0min\n",
      "[Parallel(n_jobs=-1)]: Done 3260 tasks      | elapsed:  2.7min\n",
      "[Parallel(n_jobs=-1)]: Done 4110 tasks      | elapsed:  3.5min\n",
      "[Parallel(n_jobs=-1)]: Done 4560 out of 4560 | elapsed:  4.1min finished\n"
     ]
    }
   ],
   "source": [
    "best_clf = grd.fit(x_train,y_train)"
   ]
  },
  {
   "cell_type": "code",
   "execution_count": 159,
   "metadata": {},
   "outputs": [
    {
     "data": {
      "text/plain": [
       "XGBRegressor(base_score=0.5, booster='gbtree', colsample_bylevel=1,\n",
       "             colsample_bynode=1, colsample_bytree=1, enable_categorical=False,\n",
       "             gamma=0, gpu_id=-1, importance_type=None,\n",
       "             interaction_constraints='', learning_rate=0.1, max_delta_step=0,\n",
       "             max_depth=6, min_child_weight=1, missing=nan,\n",
       "             monotone_constraints='()', n_estimators=160, n_jobs=12,\n",
       "             num_parallel_tree=1, predictor='auto', random_state=0, reg_alpha=0,\n",
       "             reg_lambda=1, scale_pos_weight=1, subsample=1, tree_method='exact',\n",
       "             validate_parameters=1, verbosity=None)"
      ]
     },
     "execution_count": 159,
     "metadata": {},
     "output_type": "execute_result"
    }
   ],
   "source": [
    "best_clf.best_estimator_"
   ]
  },
  {
   "cell_type": "code",
   "execution_count": 160,
   "metadata": {},
   "outputs": [
    {
     "data": {
      "text/plain": [
       "{'learning_rate': 0.1, 'max_depth': 6, 'n_estimators': 160}"
      ]
     },
     "execution_count": 160,
     "metadata": {},
     "output_type": "execute_result"
    }
   ],
   "source": [
    "best_clf.best_params_"
   ]
  },
  {
   "cell_type": "code",
   "execution_count": 161,
   "metadata": {},
   "outputs": [
    {
     "name": "stdout",
     "output_type": "stream",
     "text": [
      "===scores for testing set===\n",
      "r2 score for testing set :  0.9891214056511041\n",
      "MAE for testing set:  0.4395194492340088\n",
      "MSE for testing set:  0.2676754289706294\n",
      "SMSE for testing set:  0.5173735874304267\n"
     ]
    },
    {
     "data": {
      "image/png": "[encoded data removed]",
      "text/plain": [
       "<Figure size 432x360 with 1 Axes>"
      ]
     },
     "metadata": {
      "needs_background": "light"
     },
     "output_type": "display_data"
    }
   ],
   "source": [
    "xgb = XGBRegressor(learning_rate= 0.1, max_depth= 6, n_estimators= 160)\n",
    "xgb.fit(x_train, y_train)\n",
    "pred_test = xgb.predict(x_test)\n",
    "pred_train = xgb.predict(x_train)\n",
    "print('===scores for testing set===')\n",
    "print('r2 score for testing set : ', r2_score(y_test, pred_test))\n",
    "print('MAE for testing set: ', mean_absolute_error(y_test, pred_test))\n",
    "print('MSE for testing set: ', mean_squared_error(y_test, pred_test))\n",
    "print('SMSE for testing set: ', np.sqrt(mean_squared_error(y_test, pred_test)))\n",
    "plt.figure(figsize = (6,5))\n",
    "plt.scatter(x = y_test, y=pred_test, color = 'r')\n",
    "plt.plot(y_test, y_test, color = 'b')\n",
    "plt.xlabel('actual', fontsize = 15)\n",
    "plt.ylabel('predictions', fontsize = 15)\n",
    "plt.title('XGB_regression', fontsize = 18)\n",
    "plt.show()"
   ]
  },
  {
   "cell_type": "code",
   "execution_count": 162,
   "metadata": {},
   "outputs": [
    {
     "data": {
      "text/plain": [
       "0.9785541085966907"
      ]
     },
     "execution_count": 162,
     "metadata": {},
     "output_type": "execute_result"
    }
   ],
   "source": [
    "cross_val_score(xgb, X_scaled, y, cv = 10, scoring ='r2').mean()"
   ]
  },
  {
   "cell_type": "markdown",
   "metadata": {},
   "source": [
    "### Observation\n",
    "1. After Hyperparameter tuning MAE value decrease & R2 score & Cross value score increased."
   ]
  },
  {
   "cell_type": "markdown",
   "metadata": {},
   "source": [
    "<h1 align=\"center\"><font color = \"red\">Model Saving</font> </h1>"
   ]
  },
  {
   "cell_type": "code",
   "execution_count": 164,
   "metadata": {},
   "outputs": [],
   "source": [
    "filename='Advertising.pkl'\n",
    "pickle.dump(xgb,open(filename,'wb'))"
   ]
  },
  {
   "cell_type": "code",
   "execution_count": 166,
   "metadata": {},
   "outputs": [
    {
     "name": "stdout",
     "output_type": "stream",
     "text": [
      "98.9121405651104\n"
     ]
    }
   ],
   "source": [
    "log =pickle.load(open('Advertising.pkl','rb'))\n",
    "score=log.score(x_test, y_test)\n",
    "print(score*100)"
   ]
  }
 ],
 "metadata": {
  "kernelspec": {
   "display_name": "Python 3",
   "language": "python",
   "name": "python3"
  },
  "language_info": {
   "codemirror_mode": {
    "name": "ipython",
    "version": 3
   },
   "file_extension": ".py",
   "mimetype": "text/x-python",
   "name": "python",
   "nbconvert_exporter": "python",
   "pygments_lexer": "ipython3",
   "version": "3.6.13"
  }
 },
 "nbformat": 4,
 "nbformat_minor": 4
}
